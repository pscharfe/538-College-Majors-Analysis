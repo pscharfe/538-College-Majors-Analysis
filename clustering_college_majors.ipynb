{
 "cells": [
  {
   "cell_type": "code",
   "execution_count": 1,
   "metadata": {},
   "outputs": [],
   "source": [
    "import numpy as np \n",
    "import pandas as pd\n",
    "import matplotlib.pyplot as plt\n",
    "import scipy as sp\n",
    "import math"
   ]
  },
  {
   "cell_type": "code",
   "execution_count": 2,
   "metadata": {},
   "outputs": [],
   "source": [
    "%matplotlib inline"
   ]
  },
  {
   "cell_type": "code",
   "execution_count": 3,
   "metadata": {},
   "outputs": [],
   "source": [
    "plt.rc(\"font\", size=13)\n",
    "import seaborn as sns\n",
    "sns.set(style=\"white\")\n",
    "sns.set(style=\"whitegrid\", color_codes=True)"
   ]
  },
  {
   "cell_type": "code",
   "execution_count": 4,
   "metadata": {},
   "outputs": [],
   "source": [
    "# Silence warnings\n",
    "import warnings\n",
    "warnings.filterwarnings(\"ignore\")"
   ]
  },
  {
   "cell_type": "code",
   "execution_count": 5,
   "metadata": {},
   "outputs": [],
   "source": [
    "df_recent = pd.read_csv(\"recent-grads.csv\")"
   ]
  },
  {
   "cell_type": "markdown",
   "metadata": {},
   "source": [
    "# Overview and Descriptive Statistics"
   ]
  },
  {
   "cell_type": "code",
   "execution_count": 6,
   "metadata": {},
   "outputs": [
    {
     "data": {
      "text/html": [
       "<div>\n",
       "<style scoped>\n",
       "    .dataframe tbody tr th:only-of-type {\n",
       "        vertical-align: middle;\n",
       "    }\n",
       "\n",
       "    .dataframe tbody tr th {\n",
       "        vertical-align: top;\n",
       "    }\n",
       "\n",
       "    .dataframe thead th {\n",
       "        text-align: right;\n",
       "    }\n",
       "</style>\n",
       "<table border=\"1\" class=\"dataframe\">\n",
       "  <thead>\n",
       "    <tr style=\"text-align: right;\">\n",
       "      <th></th>\n",
       "      <th>Rank</th>\n",
       "      <th>Major_code</th>\n",
       "      <th>Major</th>\n",
       "      <th>Total</th>\n",
       "      <th>Men</th>\n",
       "      <th>Women</th>\n",
       "      <th>Major_category</th>\n",
       "      <th>ShareWomen</th>\n",
       "      <th>Sample_size</th>\n",
       "      <th>Employed</th>\n",
       "      <th>...</th>\n",
       "      <th>Part_time</th>\n",
       "      <th>Full_time_year_round</th>\n",
       "      <th>Unemployed</th>\n",
       "      <th>Unemployment_rate</th>\n",
       "      <th>Median</th>\n",
       "      <th>P25th</th>\n",
       "      <th>P75th</th>\n",
       "      <th>College_jobs</th>\n",
       "      <th>Non_college_jobs</th>\n",
       "      <th>Low_wage_jobs</th>\n",
       "    </tr>\n",
       "  </thead>\n",
       "  <tbody>\n",
       "    <tr>\n",
       "      <th>0</th>\n",
       "      <td>1</td>\n",
       "      <td>2419</td>\n",
       "      <td>PETROLEUM ENGINEERING</td>\n",
       "      <td>2339.0</td>\n",
       "      <td>2057.0</td>\n",
       "      <td>282.0</td>\n",
       "      <td>Engineering</td>\n",
       "      <td>0.120564</td>\n",
       "      <td>36</td>\n",
       "      <td>1976</td>\n",
       "      <td>...</td>\n",
       "      <td>270</td>\n",
       "      <td>1207</td>\n",
       "      <td>37</td>\n",
       "      <td>0.018381</td>\n",
       "      <td>110000</td>\n",
       "      <td>95000</td>\n",
       "      <td>125000</td>\n",
       "      <td>1534</td>\n",
       "      <td>364</td>\n",
       "      <td>193</td>\n",
       "    </tr>\n",
       "    <tr>\n",
       "      <th>1</th>\n",
       "      <td>2</td>\n",
       "      <td>2416</td>\n",
       "      <td>MINING AND MINERAL ENGINEERING</td>\n",
       "      <td>756.0</td>\n",
       "      <td>679.0</td>\n",
       "      <td>77.0</td>\n",
       "      <td>Engineering</td>\n",
       "      <td>0.101852</td>\n",
       "      <td>7</td>\n",
       "      <td>640</td>\n",
       "      <td>...</td>\n",
       "      <td>170</td>\n",
       "      <td>388</td>\n",
       "      <td>85</td>\n",
       "      <td>0.117241</td>\n",
       "      <td>75000</td>\n",
       "      <td>55000</td>\n",
       "      <td>90000</td>\n",
       "      <td>350</td>\n",
       "      <td>257</td>\n",
       "      <td>50</td>\n",
       "    </tr>\n",
       "    <tr>\n",
       "      <th>2</th>\n",
       "      <td>3</td>\n",
       "      <td>2415</td>\n",
       "      <td>METALLURGICAL ENGINEERING</td>\n",
       "      <td>856.0</td>\n",
       "      <td>725.0</td>\n",
       "      <td>131.0</td>\n",
       "      <td>Engineering</td>\n",
       "      <td>0.153037</td>\n",
       "      <td>3</td>\n",
       "      <td>648</td>\n",
       "      <td>...</td>\n",
       "      <td>133</td>\n",
       "      <td>340</td>\n",
       "      <td>16</td>\n",
       "      <td>0.024096</td>\n",
       "      <td>73000</td>\n",
       "      <td>50000</td>\n",
       "      <td>105000</td>\n",
       "      <td>456</td>\n",
       "      <td>176</td>\n",
       "      <td>0</td>\n",
       "    </tr>\n",
       "    <tr>\n",
       "      <th>3</th>\n",
       "      <td>4</td>\n",
       "      <td>2417</td>\n",
       "      <td>NAVAL ARCHITECTURE AND MARINE ENGINEERING</td>\n",
       "      <td>1258.0</td>\n",
       "      <td>1123.0</td>\n",
       "      <td>135.0</td>\n",
       "      <td>Engineering</td>\n",
       "      <td>0.107313</td>\n",
       "      <td>16</td>\n",
       "      <td>758</td>\n",
       "      <td>...</td>\n",
       "      <td>150</td>\n",
       "      <td>692</td>\n",
       "      <td>40</td>\n",
       "      <td>0.050125</td>\n",
       "      <td>70000</td>\n",
       "      <td>43000</td>\n",
       "      <td>80000</td>\n",
       "      <td>529</td>\n",
       "      <td>102</td>\n",
       "      <td>0</td>\n",
       "    </tr>\n",
       "    <tr>\n",
       "      <th>4</th>\n",
       "      <td>5</td>\n",
       "      <td>2405</td>\n",
       "      <td>CHEMICAL ENGINEERING</td>\n",
       "      <td>32260.0</td>\n",
       "      <td>21239.0</td>\n",
       "      <td>11021.0</td>\n",
       "      <td>Engineering</td>\n",
       "      <td>0.341631</td>\n",
       "      <td>289</td>\n",
       "      <td>25694</td>\n",
       "      <td>...</td>\n",
       "      <td>5180</td>\n",
       "      <td>16697</td>\n",
       "      <td>1672</td>\n",
       "      <td>0.061098</td>\n",
       "      <td>65000</td>\n",
       "      <td>50000</td>\n",
       "      <td>75000</td>\n",
       "      <td>18314</td>\n",
       "      <td>4440</td>\n",
       "      <td>972</td>\n",
       "    </tr>\n",
       "  </tbody>\n",
       "</table>\n",
       "<p>5 rows × 21 columns</p>\n",
       "</div>"
      ],
      "text/plain": [
       "   Rank  Major_code                                      Major    Total  \\\n",
       "0     1        2419                      PETROLEUM ENGINEERING   2339.0   \n",
       "1     2        2416             MINING AND MINERAL ENGINEERING    756.0   \n",
       "2     3        2415                  METALLURGICAL ENGINEERING    856.0   \n",
       "3     4        2417  NAVAL ARCHITECTURE AND MARINE ENGINEERING   1258.0   \n",
       "4     5        2405                       CHEMICAL ENGINEERING  32260.0   \n",
       "\n",
       "       Men    Women Major_category  ShareWomen  Sample_size  Employed  ...  \\\n",
       "0   2057.0    282.0    Engineering    0.120564           36      1976  ...   \n",
       "1    679.0     77.0    Engineering    0.101852            7       640  ...   \n",
       "2    725.0    131.0    Engineering    0.153037            3       648  ...   \n",
       "3   1123.0    135.0    Engineering    0.107313           16       758  ...   \n",
       "4  21239.0  11021.0    Engineering    0.341631          289     25694  ...   \n",
       "\n",
       "   Part_time  Full_time_year_round  Unemployed  Unemployment_rate  Median  \\\n",
       "0        270                  1207          37           0.018381  110000   \n",
       "1        170                   388          85           0.117241   75000   \n",
       "2        133                   340          16           0.024096   73000   \n",
       "3        150                   692          40           0.050125   70000   \n",
       "4       5180                 16697        1672           0.061098   65000   \n",
       "\n",
       "   P25th   P75th  College_jobs  Non_college_jobs  Low_wage_jobs  \n",
       "0  95000  125000          1534               364            193  \n",
       "1  55000   90000           350               257             50  \n",
       "2  50000  105000           456               176              0  \n",
       "3  43000   80000           529               102              0  \n",
       "4  50000   75000         18314              4440            972  \n",
       "\n",
       "[5 rows x 21 columns]"
      ]
     },
     "execution_count": 6,
     "metadata": {},
     "output_type": "execute_result"
    }
   ],
   "source": [
    "df_recent.head()"
   ]
  },
  {
   "cell_type": "code",
   "execution_count": 7,
   "metadata": {},
   "outputs": [
    {
     "data": {
      "text/plain": [
       "(173, 21)"
      ]
     },
     "execution_count": 7,
     "metadata": {},
     "output_type": "execute_result"
    }
   ],
   "source": [
    "df_recent.shape"
   ]
  },
  {
   "cell_type": "code",
   "execution_count": 8,
   "metadata": {},
   "outputs": [
    {
     "data": {
      "text/html": [
       "<div>\n",
       "<style scoped>\n",
       "    .dataframe tbody tr th:only-of-type {\n",
       "        vertical-align: middle;\n",
       "    }\n",
       "\n",
       "    .dataframe tbody tr th {\n",
       "        vertical-align: top;\n",
       "    }\n",
       "\n",
       "    .dataframe thead th {\n",
       "        text-align: right;\n",
       "    }\n",
       "</style>\n",
       "<table border=\"1\" class=\"dataframe\">\n",
       "  <thead>\n",
       "    <tr style=\"text-align: right;\">\n",
       "      <th></th>\n",
       "      <th>Rank</th>\n",
       "      <th>Major_code</th>\n",
       "      <th>Total</th>\n",
       "      <th>Men</th>\n",
       "      <th>Women</th>\n",
       "      <th>ShareWomen</th>\n",
       "      <th>Sample_size</th>\n",
       "      <th>Employed</th>\n",
       "      <th>Full_time</th>\n",
       "      <th>Part_time</th>\n",
       "      <th>Full_time_year_round</th>\n",
       "      <th>Unemployed</th>\n",
       "      <th>Unemployment_rate</th>\n",
       "      <th>Median</th>\n",
       "      <th>P25th</th>\n",
       "      <th>P75th</th>\n",
       "      <th>College_jobs</th>\n",
       "      <th>Non_college_jobs</th>\n",
       "      <th>Low_wage_jobs</th>\n",
       "    </tr>\n",
       "  </thead>\n",
       "  <tbody>\n",
       "    <tr>\n",
       "      <th>count</th>\n",
       "      <td>173.000000</td>\n",
       "      <td>173.000000</td>\n",
       "      <td>172.000000</td>\n",
       "      <td>172.000000</td>\n",
       "      <td>172.000000</td>\n",
       "      <td>172.000000</td>\n",
       "      <td>173.000000</td>\n",
       "      <td>173.000000</td>\n",
       "      <td>173.000000</td>\n",
       "      <td>173.000000</td>\n",
       "      <td>173.000000</td>\n",
       "      <td>173.000000</td>\n",
       "      <td>173.000000</td>\n",
       "      <td>173.000000</td>\n",
       "      <td>173.000000</td>\n",
       "      <td>173.000000</td>\n",
       "      <td>173.000000</td>\n",
       "      <td>173.000000</td>\n",
       "      <td>173.000000</td>\n",
       "    </tr>\n",
       "    <tr>\n",
       "      <th>mean</th>\n",
       "      <td>87.000000</td>\n",
       "      <td>3879.815029</td>\n",
       "      <td>39370.081395</td>\n",
       "      <td>16723.406977</td>\n",
       "      <td>22646.674419</td>\n",
       "      <td>0.522223</td>\n",
       "      <td>356.080925</td>\n",
       "      <td>31192.763006</td>\n",
       "      <td>26029.306358</td>\n",
       "      <td>8832.398844</td>\n",
       "      <td>19694.427746</td>\n",
       "      <td>2416.329480</td>\n",
       "      <td>0.068191</td>\n",
       "      <td>40151.445087</td>\n",
       "      <td>29501.445087</td>\n",
       "      <td>51494.219653</td>\n",
       "      <td>12322.635838</td>\n",
       "      <td>13284.497110</td>\n",
       "      <td>3859.017341</td>\n",
       "    </tr>\n",
       "    <tr>\n",
       "      <th>std</th>\n",
       "      <td>50.084928</td>\n",
       "      <td>1687.753140</td>\n",
       "      <td>63483.491009</td>\n",
       "      <td>28122.433474</td>\n",
       "      <td>41057.330740</td>\n",
       "      <td>0.231205</td>\n",
       "      <td>618.361022</td>\n",
       "      <td>50675.002241</td>\n",
       "      <td>42869.655092</td>\n",
       "      <td>14648.179473</td>\n",
       "      <td>33160.941514</td>\n",
       "      <td>4112.803148</td>\n",
       "      <td>0.030331</td>\n",
       "      <td>11470.181802</td>\n",
       "      <td>9166.005235</td>\n",
       "      <td>14906.279740</td>\n",
       "      <td>21299.868863</td>\n",
       "      <td>23789.655363</td>\n",
       "      <td>6944.998579</td>\n",
       "    </tr>\n",
       "    <tr>\n",
       "      <th>min</th>\n",
       "      <td>1.000000</td>\n",
       "      <td>1100.000000</td>\n",
       "      <td>124.000000</td>\n",
       "      <td>119.000000</td>\n",
       "      <td>0.000000</td>\n",
       "      <td>0.000000</td>\n",
       "      <td>2.000000</td>\n",
       "      <td>0.000000</td>\n",
       "      <td>111.000000</td>\n",
       "      <td>0.000000</td>\n",
       "      <td>111.000000</td>\n",
       "      <td>0.000000</td>\n",
       "      <td>0.000000</td>\n",
       "      <td>22000.000000</td>\n",
       "      <td>18500.000000</td>\n",
       "      <td>22000.000000</td>\n",
       "      <td>0.000000</td>\n",
       "      <td>0.000000</td>\n",
       "      <td>0.000000</td>\n",
       "    </tr>\n",
       "    <tr>\n",
       "      <th>25%</th>\n",
       "      <td>44.000000</td>\n",
       "      <td>2403.000000</td>\n",
       "      <td>4549.750000</td>\n",
       "      <td>2177.500000</td>\n",
       "      <td>1778.250000</td>\n",
       "      <td>0.336026</td>\n",
       "      <td>39.000000</td>\n",
       "      <td>3608.000000</td>\n",
       "      <td>3154.000000</td>\n",
       "      <td>1030.000000</td>\n",
       "      <td>2453.000000</td>\n",
       "      <td>304.000000</td>\n",
       "      <td>0.050306</td>\n",
       "      <td>33000.000000</td>\n",
       "      <td>24000.000000</td>\n",
       "      <td>42000.000000</td>\n",
       "      <td>1675.000000</td>\n",
       "      <td>1591.000000</td>\n",
       "      <td>340.000000</td>\n",
       "    </tr>\n",
       "    <tr>\n",
       "      <th>50%</th>\n",
       "      <td>87.000000</td>\n",
       "      <td>3608.000000</td>\n",
       "      <td>15104.000000</td>\n",
       "      <td>5434.000000</td>\n",
       "      <td>8386.500000</td>\n",
       "      <td>0.534024</td>\n",
       "      <td>130.000000</td>\n",
       "      <td>11797.000000</td>\n",
       "      <td>10048.000000</td>\n",
       "      <td>3299.000000</td>\n",
       "      <td>7413.000000</td>\n",
       "      <td>893.000000</td>\n",
       "      <td>0.067961</td>\n",
       "      <td>36000.000000</td>\n",
       "      <td>27000.000000</td>\n",
       "      <td>47000.000000</td>\n",
       "      <td>4390.000000</td>\n",
       "      <td>4595.000000</td>\n",
       "      <td>1231.000000</td>\n",
       "    </tr>\n",
       "    <tr>\n",
       "      <th>75%</th>\n",
       "      <td>130.000000</td>\n",
       "      <td>5503.000000</td>\n",
       "      <td>38909.750000</td>\n",
       "      <td>14631.000000</td>\n",
       "      <td>22553.750000</td>\n",
       "      <td>0.703299</td>\n",
       "      <td>338.000000</td>\n",
       "      <td>31433.000000</td>\n",
       "      <td>25147.000000</td>\n",
       "      <td>9948.000000</td>\n",
       "      <td>16891.000000</td>\n",
       "      <td>2393.000000</td>\n",
       "      <td>0.087557</td>\n",
       "      <td>45000.000000</td>\n",
       "      <td>33000.000000</td>\n",
       "      <td>60000.000000</td>\n",
       "      <td>14444.000000</td>\n",
       "      <td>11783.000000</td>\n",
       "      <td>3466.000000</td>\n",
       "    </tr>\n",
       "    <tr>\n",
       "      <th>max</th>\n",
       "      <td>173.000000</td>\n",
       "      <td>6403.000000</td>\n",
       "      <td>393735.000000</td>\n",
       "      <td>173809.000000</td>\n",
       "      <td>307087.000000</td>\n",
       "      <td>0.968954</td>\n",
       "      <td>4212.000000</td>\n",
       "      <td>307933.000000</td>\n",
       "      <td>251540.000000</td>\n",
       "      <td>115172.000000</td>\n",
       "      <td>199897.000000</td>\n",
       "      <td>28169.000000</td>\n",
       "      <td>0.177226</td>\n",
       "      <td>110000.000000</td>\n",
       "      <td>95000.000000</td>\n",
       "      <td>125000.000000</td>\n",
       "      <td>151643.000000</td>\n",
       "      <td>148395.000000</td>\n",
       "      <td>48207.000000</td>\n",
       "    </tr>\n",
       "  </tbody>\n",
       "</table>\n",
       "</div>"
      ],
      "text/plain": [
       "             Rank   Major_code          Total            Men          Women  \\\n",
       "count  173.000000   173.000000     172.000000     172.000000     172.000000   \n",
       "mean    87.000000  3879.815029   39370.081395   16723.406977   22646.674419   \n",
       "std     50.084928  1687.753140   63483.491009   28122.433474   41057.330740   \n",
       "min      1.000000  1100.000000     124.000000     119.000000       0.000000   \n",
       "25%     44.000000  2403.000000    4549.750000    2177.500000    1778.250000   \n",
       "50%     87.000000  3608.000000   15104.000000    5434.000000    8386.500000   \n",
       "75%    130.000000  5503.000000   38909.750000   14631.000000   22553.750000   \n",
       "max    173.000000  6403.000000  393735.000000  173809.000000  307087.000000   \n",
       "\n",
       "       ShareWomen  Sample_size       Employed      Full_time      Part_time  \\\n",
       "count  172.000000   173.000000     173.000000     173.000000     173.000000   \n",
       "mean     0.522223   356.080925   31192.763006   26029.306358    8832.398844   \n",
       "std      0.231205   618.361022   50675.002241   42869.655092   14648.179473   \n",
       "min      0.000000     2.000000       0.000000     111.000000       0.000000   \n",
       "25%      0.336026    39.000000    3608.000000    3154.000000    1030.000000   \n",
       "50%      0.534024   130.000000   11797.000000   10048.000000    3299.000000   \n",
       "75%      0.703299   338.000000   31433.000000   25147.000000    9948.000000   \n",
       "max      0.968954  4212.000000  307933.000000  251540.000000  115172.000000   \n",
       "\n",
       "       Full_time_year_round    Unemployed  Unemployment_rate         Median  \\\n",
       "count            173.000000    173.000000         173.000000     173.000000   \n",
       "mean           19694.427746   2416.329480           0.068191   40151.445087   \n",
       "std            33160.941514   4112.803148           0.030331   11470.181802   \n",
       "min              111.000000      0.000000           0.000000   22000.000000   \n",
       "25%             2453.000000    304.000000           0.050306   33000.000000   \n",
       "50%             7413.000000    893.000000           0.067961   36000.000000   \n",
       "75%            16891.000000   2393.000000           0.087557   45000.000000   \n",
       "max           199897.000000  28169.000000           0.177226  110000.000000   \n",
       "\n",
       "              P25th          P75th   College_jobs  Non_college_jobs  \\\n",
       "count    173.000000     173.000000     173.000000        173.000000   \n",
       "mean   29501.445087   51494.219653   12322.635838      13284.497110   \n",
       "std     9166.005235   14906.279740   21299.868863      23789.655363   \n",
       "min    18500.000000   22000.000000       0.000000          0.000000   \n",
       "25%    24000.000000   42000.000000    1675.000000       1591.000000   \n",
       "50%    27000.000000   47000.000000    4390.000000       4595.000000   \n",
       "75%    33000.000000   60000.000000   14444.000000      11783.000000   \n",
       "max    95000.000000  125000.000000  151643.000000     148395.000000   \n",
       "\n",
       "       Low_wage_jobs  \n",
       "count     173.000000  \n",
       "mean     3859.017341  \n",
       "std      6944.998579  \n",
       "min         0.000000  \n",
       "25%       340.000000  \n",
       "50%      1231.000000  \n",
       "75%      3466.000000  \n",
       "max     48207.000000  "
      ]
     },
     "execution_count": 8,
     "metadata": {},
     "output_type": "execute_result"
    }
   ],
   "source": [
    "df_recent.describe()"
   ]
  },
  {
   "cell_type": "code",
   "execution_count": 9,
   "metadata": {},
   "outputs": [
    {
     "data": {
      "text/plain": [
       "(173, 21)"
      ]
     },
     "execution_count": 9,
     "metadata": {},
     "output_type": "execute_result"
    }
   ],
   "source": [
    "df_recent.shape"
   ]
  },
  {
   "cell_type": "code",
   "execution_count": 10,
   "metadata": {},
   "outputs": [
    {
     "name": "stdout",
     "output_type": "stream",
     "text": [
      "Median Total =  15104.0\n",
      "Median Men =  5434.0\n",
      "Median Women =  8386.5\n",
      "Median ShareWomen =  0.534024037\n",
      "Median Sample_size =  130.0\n",
      "Median Employed =  11797.0\n",
      "Median Full_time =  10048.0\n",
      "Median Part_time =  3299.0\n",
      "Median Full_time_year_round =  7413.0\n",
      "Median Unemployed =  893.0\n",
      "Median Unemployment_rate =  0.06796076599999999\n",
      "Median Median Income =  36000.0\n",
      "Median College_jobs =  4390.0\n",
      "Median Non_college_jobs =  4595.0\n",
      "Median Low_wage_jobs =  1231.0\n"
     ]
    }
   ],
   "source": [
    "print(\"Median Total = \",df_recent[\"Total\"].median())\n",
    "print(\"Median Men = \",df_recent[\"Men\"].median())\n",
    "print(\"Median Women = \",df_recent[\"Women\"].median())\n",
    "print(\"Median ShareWomen = \",df_recent[\"ShareWomen\"].median())\n",
    "print(\"Median Sample_size = \",df_recent[\"Sample_size\"].median())\n",
    "print(\"Median Employed = \",df_recent[\"Employed\"].median())\n",
    "print(\"Median Full_time = \",df_recent[\"Full_time\"].median())\n",
    "print(\"Median Part_time = \",df_recent[\"Part_time\"].median())\n",
    "print(\"Median Full_time_year_round = \",df_recent[\"Full_time_year_round\"].median())\n",
    "print(\"Median Unemployed = \",df_recent[\"Unemployed\"].median())\n",
    "print(\"Median Unemployment_rate = \",df_recent[\"Unemployment_rate\"].median())\n",
    "print(\"Median Median Income = \",df_recent[\"Median\"].median())\n",
    "print(\"Median College_jobs = \",df_recent[\"College_jobs\"].median())\n",
    "print(\"Median Non_college_jobs = \",df_recent[\"Non_college_jobs\"].median())\n",
    "print(\"Median Low_wage_jobs = \",df_recent[\"Low_wage_jobs\"].median())"
   ]
  },
  {
   "cell_type": "markdown",
   "metadata": {},
   "source": [
    "# Data Cleansing"
   ]
  },
  {
   "cell_type": "code",
   "execution_count": 11,
   "metadata": {},
   "outputs": [
    {
     "data": {
      "text/plain": [
       "Rank                    0\n",
       "Major_code              0\n",
       "Major                   0\n",
       "Total                   1\n",
       "Men                     1\n",
       "Women                   1\n",
       "Major_category          0\n",
       "ShareWomen              1\n",
       "Sample_size             0\n",
       "Employed                0\n",
       "Full_time               0\n",
       "Part_time               0\n",
       "Full_time_year_round    0\n",
       "Unemployed              0\n",
       "Unemployment_rate       0\n",
       "Median                  0\n",
       "P25th                   0\n",
       "P75th                   0\n",
       "College_jobs            0\n",
       "Non_college_jobs        0\n",
       "Low_wage_jobs           0\n",
       "dtype: int64"
      ]
     },
     "execution_count": 11,
     "metadata": {},
     "output_type": "execute_result"
    }
   ],
   "source": [
    "df_recent.isna().sum()"
   ]
  },
  {
   "cell_type": "code",
   "execution_count": 12,
   "metadata": {},
   "outputs": [],
   "source": [
    "df_recent.dropna(inplace=True)"
   ]
  },
  {
   "cell_type": "code",
   "execution_count": 13,
   "metadata": {},
   "outputs": [
    {
     "data": {
      "text/plain": [
       "0"
      ]
     },
     "execution_count": 13,
     "metadata": {},
     "output_type": "execute_result"
    }
   ],
   "source": [
    "df_recent.isna().sum().sum()"
   ]
  },
  {
   "cell_type": "code",
   "execution_count": 14,
   "metadata": {
    "scrolled": true
   },
   "outputs": [
    {
     "data": {
      "text/plain": [
       "(172, 21)"
      ]
     },
     "execution_count": 14,
     "metadata": {},
     "output_type": "execute_result"
    }
   ],
   "source": [
    "df_recent.shape"
   ]
  },
  {
   "cell_type": "markdown",
   "metadata": {},
   "source": [
    "# Economic Outcomes by Major Categories"
   ]
  },
  {
   "cell_type": "markdown",
   "metadata": {},
   "source": [
    "Below are the two key economic outcomes by major category (e.g., business, humanities, etc.): median income and unemployment rates."
   ]
  },
  {
   "cell_type": "code",
   "execution_count": 15,
   "metadata": {},
   "outputs": [],
   "source": [
    "category_median_df = pd.DataFrame(df_recent.groupby('Major_category')['Median'].agg(['mean']).reset_index())"
   ]
  },
  {
   "cell_type": "code",
   "execution_count": 16,
   "metadata": {},
   "outputs": [
    {
     "data": {
      "text/html": [
       "<div>\n",
       "<style scoped>\n",
       "    .dataframe tbody tr th:only-of-type {\n",
       "        vertical-align: middle;\n",
       "    }\n",
       "\n",
       "    .dataframe tbody tr th {\n",
       "        vertical-align: top;\n",
       "    }\n",
       "\n",
       "    .dataframe thead th {\n",
       "        text-align: right;\n",
       "    }\n",
       "</style>\n",
       "<table border=\"1\" class=\"dataframe\">\n",
       "  <thead>\n",
       "    <tr style=\"text-align: right;\">\n",
       "      <th></th>\n",
       "      <th>Major_category</th>\n",
       "      <th>Mean of Median Incomes</th>\n",
       "    </tr>\n",
       "  </thead>\n",
       "  <tbody>\n",
       "    <tr>\n",
       "      <th>7</th>\n",
       "      <td>Engineering</td>\n",
       "      <td>57382.758621</td>\n",
       "    </tr>\n",
       "    <tr>\n",
       "      <th>3</th>\n",
       "      <td>Business</td>\n",
       "      <td>43538.461538</td>\n",
       "    </tr>\n",
       "    <tr>\n",
       "      <th>5</th>\n",
       "      <td>Computer_and_Mathematics</td>\n",
       "      <td>42745.454545</td>\n",
       "    </tr>\n",
       "    <tr>\n",
       "      <th>12</th>\n",
       "      <td>Physical_Sciences</td>\n",
       "      <td>41890.000000</td>\n",
       "    </tr>\n",
       "    <tr>\n",
       "      <th>2</th>\n",
       "      <td>Biology_and_Life_Science</td>\n",
       "      <td>37942.105263</td>\n",
       "    </tr>\n",
       "    <tr>\n",
       "      <th>14</th>\n",
       "      <td>Social_Science</td>\n",
       "      <td>37344.444444</td>\n",
       "    </tr>\n",
       "    <tr>\n",
       "      <th>8</th>\n",
       "      <td>Health</td>\n",
       "      <td>36825.000000</td>\n",
       "    </tr>\n",
       "    <tr>\n",
       "      <th>10</th>\n",
       "      <td>Industrial_Arts_and_Consumer_Services</td>\n",
       "      <td>36342.857143</td>\n",
       "    </tr>\n",
       "    <tr>\n",
       "      <th>0</th>\n",
       "      <td>Agriculture_and_Natural_Resources</td>\n",
       "      <td>35111.111111</td>\n",
       "    </tr>\n",
       "    <tr>\n",
       "      <th>11</th>\n",
       "      <td>Interdisciplinary</td>\n",
       "      <td>35000.000000</td>\n",
       "    </tr>\n",
       "    <tr>\n",
       "      <th>4</th>\n",
       "      <td>Communications_and_Journalism</td>\n",
       "      <td>34500.000000</td>\n",
       "    </tr>\n",
       "    <tr>\n",
       "      <th>1</th>\n",
       "      <td>Arts</td>\n",
       "      <td>33062.500000</td>\n",
       "    </tr>\n",
       "    <tr>\n",
       "      <th>6</th>\n",
       "      <td>Education</td>\n",
       "      <td>32350.000000</td>\n",
       "    </tr>\n",
       "    <tr>\n",
       "      <th>9</th>\n",
       "      <td>Humanities_and_Liberal_Arts</td>\n",
       "      <td>31913.333333</td>\n",
       "    </tr>\n",
       "    <tr>\n",
       "      <th>13</th>\n",
       "      <td>Psychology_and_Social_Work</td>\n",
       "      <td>30100.000000</td>\n",
       "    </tr>\n",
       "  </tbody>\n",
       "</table>\n",
       "</div>"
      ],
      "text/plain": [
       "                           Major_category  Mean of Median Incomes\n",
       "7                             Engineering            57382.758621\n",
       "3                                Business            43538.461538\n",
       "5                Computer_and_Mathematics            42745.454545\n",
       "12                      Physical_Sciences            41890.000000\n",
       "2                Biology_and_Life_Science            37942.105263\n",
       "14                         Social_Science            37344.444444\n",
       "8                                  Health            36825.000000\n",
       "10  Industrial_Arts_and_Consumer_Services            36342.857143\n",
       "0       Agriculture_and_Natural_Resources            35111.111111\n",
       "11                      Interdisciplinary            35000.000000\n",
       "4           Communications_and_Journalism            34500.000000\n",
       "1                                    Arts            33062.500000\n",
       "6                               Education            32350.000000\n",
       "9             Humanities_and_Liberal_Arts            31913.333333\n",
       "13             Psychology_and_Social_Work            30100.000000"
      ]
     },
     "execution_count": 16,
     "metadata": {},
     "output_type": "execute_result"
    }
   ],
   "source": [
    "category_median_df = category_median_df.rename({'mean': 'Mean of Median Incomes'}, axis=1)\n",
    "category_median_df.sort_values(by=['Mean of Median Incomes'], ascending=False)"
   ]
  },
  {
   "cell_type": "code",
   "execution_count": 17,
   "metadata": {},
   "outputs": [],
   "source": [
    "category_employ_df = pd.DataFrame(df_recent.groupby('Major_category')['Unemployment_rate'].agg(['mean']).reset_index())\n",
    "category_employ_df = category_employ_df.rename({'mean': 'Mean of Unemployment Rates'}, axis=1)"
   ]
  },
  {
   "cell_type": "code",
   "execution_count": 18,
   "metadata": {},
   "outputs": [
    {
     "data": {
      "text/html": [
       "<div>\n",
       "<style scoped>\n",
       "    .dataframe tbody tr th:only-of-type {\n",
       "        vertical-align: middle;\n",
       "    }\n",
       "\n",
       "    .dataframe tbody tr th {\n",
       "        vertical-align: top;\n",
       "    }\n",
       "\n",
       "    .dataframe thead th {\n",
       "        text-align: right;\n",
       "    }\n",
       "</style>\n",
       "<table border=\"1\" class=\"dataframe\">\n",
       "  <thead>\n",
       "    <tr style=\"text-align: right;\">\n",
       "      <th></th>\n",
       "      <th>Major_category</th>\n",
       "      <th>Mean of Unemployment Rates</th>\n",
       "    </tr>\n",
       "  </thead>\n",
       "  <tbody>\n",
       "    <tr>\n",
       "      <th>12</th>\n",
       "      <td>Physical_Sciences</td>\n",
       "      <td>0.046511</td>\n",
       "    </tr>\n",
       "    <tr>\n",
       "      <th>10</th>\n",
       "      <td>Industrial_Arts_and_Consumer_Services</td>\n",
       "      <td>0.048071</td>\n",
       "    </tr>\n",
       "    <tr>\n",
       "      <th>6</th>\n",
       "      <td>Education</td>\n",
       "      <td>0.051702</td>\n",
       "    </tr>\n",
       "    <tr>\n",
       "      <th>0</th>\n",
       "      <td>Agriculture_and_Natural_Resources</td>\n",
       "      <td>0.051817</td>\n",
       "    </tr>\n",
       "    <tr>\n",
       "      <th>7</th>\n",
       "      <td>Engineering</td>\n",
       "      <td>0.063334</td>\n",
       "    </tr>\n",
       "    <tr>\n",
       "      <th>8</th>\n",
       "      <td>Health</td>\n",
       "      <td>0.065920</td>\n",
       "    </tr>\n",
       "    <tr>\n",
       "      <th>2</th>\n",
       "      <td>Biology_and_Life_Science</td>\n",
       "      <td>0.068783</td>\n",
       "    </tr>\n",
       "    <tr>\n",
       "      <th>11</th>\n",
       "      <td>Interdisciplinary</td>\n",
       "      <td>0.070861</td>\n",
       "    </tr>\n",
       "    <tr>\n",
       "      <th>3</th>\n",
       "      <td>Business</td>\n",
       "      <td>0.071064</td>\n",
       "    </tr>\n",
       "    <tr>\n",
       "      <th>13</th>\n",
       "      <td>Psychology_and_Social_Work</td>\n",
       "      <td>0.072065</td>\n",
       "    </tr>\n",
       "    <tr>\n",
       "      <th>4</th>\n",
       "      <td>Communications_and_Journalism</td>\n",
       "      <td>0.075538</td>\n",
       "    </tr>\n",
       "    <tr>\n",
       "      <th>9</th>\n",
       "      <td>Humanities_and_Liberal_Arts</td>\n",
       "      <td>0.081008</td>\n",
       "    </tr>\n",
       "    <tr>\n",
       "      <th>5</th>\n",
       "      <td>Computer_and_Mathematics</td>\n",
       "      <td>0.084256</td>\n",
       "    </tr>\n",
       "    <tr>\n",
       "      <th>1</th>\n",
       "      <td>Arts</td>\n",
       "      <td>0.090173</td>\n",
       "    </tr>\n",
       "    <tr>\n",
       "      <th>14</th>\n",
       "      <td>Social_Science</td>\n",
       "      <td>0.095729</td>\n",
       "    </tr>\n",
       "  </tbody>\n",
       "</table>\n",
       "</div>"
      ],
      "text/plain": [
       "                           Major_category  Mean of Unemployment Rates\n",
       "12                      Physical_Sciences                    0.046511\n",
       "10  Industrial_Arts_and_Consumer_Services                    0.048071\n",
       "6                               Education                    0.051702\n",
       "0       Agriculture_and_Natural_Resources                    0.051817\n",
       "7                             Engineering                    0.063334\n",
       "8                                  Health                    0.065920\n",
       "2                Biology_and_Life_Science                    0.068783\n",
       "11                      Interdisciplinary                    0.070861\n",
       "3                                Business                    0.071064\n",
       "13             Psychology_and_Social_Work                    0.072065\n",
       "4           Communications_and_Journalism                    0.075538\n",
       "9             Humanities_and_Liberal_Arts                    0.081008\n",
       "5                Computer_and_Mathematics                    0.084256\n",
       "1                                    Arts                    0.090173\n",
       "14                         Social_Science                    0.095729"
      ]
     },
     "execution_count": 18,
     "metadata": {},
     "output_type": "execute_result"
    }
   ],
   "source": [
    "category_employ_df.sort_values(by=['Mean of Unemployment Rates'], ascending=True)"
   ]
  },
  {
   "cell_type": "markdown",
   "metadata": {},
   "source": [
    "The following major categories attract the largest absolute number of students. "
   ]
  },
  {
   "cell_type": "code",
   "execution_count": 19,
   "metadata": {},
   "outputs": [
    {
     "data": {
      "text/html": [
       "<div>\n",
       "<style scoped>\n",
       "    .dataframe tbody tr th:only-of-type {\n",
       "        vertical-align: middle;\n",
       "    }\n",
       "\n",
       "    .dataframe tbody tr th {\n",
       "        vertical-align: top;\n",
       "    }\n",
       "\n",
       "    .dataframe thead th {\n",
       "        text-align: right;\n",
       "    }\n",
       "</style>\n",
       "<table border=\"1\" class=\"dataframe\">\n",
       "  <thead>\n",
       "    <tr style=\"text-align: right;\">\n",
       "      <th></th>\n",
       "      <th>Major_category</th>\n",
       "      <th>Sum of Total Enrollment</th>\n",
       "    </tr>\n",
       "  </thead>\n",
       "  <tbody>\n",
       "    <tr>\n",
       "      <th>3</th>\n",
       "      <td>Business</td>\n",
       "      <td>1302376.0</td>\n",
       "    </tr>\n",
       "    <tr>\n",
       "      <th>9</th>\n",
       "      <td>Humanities_and_Liberal_Arts</td>\n",
       "      <td>713468.0</td>\n",
       "    </tr>\n",
       "    <tr>\n",
       "      <th>2</th>\n",
       "      <td>Biology_and_Life_Science</td>\n",
       "      <td>632969.0</td>\n",
       "    </tr>\n",
       "    <tr>\n",
       "      <th>6</th>\n",
       "      <td>Education</td>\n",
       "      <td>559129.0</td>\n",
       "    </tr>\n",
       "    <tr>\n",
       "      <th>7</th>\n",
       "      <td>Engineering</td>\n",
       "      <td>537583.0</td>\n",
       "    </tr>\n",
       "    <tr>\n",
       "      <th>14</th>\n",
       "      <td>Social_Science</td>\n",
       "      <td>529966.0</td>\n",
       "    </tr>\n",
       "    <tr>\n",
       "      <th>13</th>\n",
       "      <td>Psychology_and_Social_Work</td>\n",
       "      <td>481007.0</td>\n",
       "    </tr>\n",
       "    <tr>\n",
       "      <th>8</th>\n",
       "      <td>Health</td>\n",
       "      <td>463230.0</td>\n",
       "    </tr>\n",
       "    <tr>\n",
       "      <th>4</th>\n",
       "      <td>Communications_and_Journalism</td>\n",
       "      <td>392601.0</td>\n",
       "    </tr>\n",
       "    <tr>\n",
       "      <th>1</th>\n",
       "      <td>Arts</td>\n",
       "      <td>357130.0</td>\n",
       "    </tr>\n",
       "    <tr>\n",
       "      <th>5</th>\n",
       "      <td>Computer_and_Mathematics</td>\n",
       "      <td>299008.0</td>\n",
       "    </tr>\n",
       "    <tr>\n",
       "      <th>10</th>\n",
       "      <td>Industrial_Arts_and_Consumer_Services</td>\n",
       "      <td>229792.0</td>\n",
       "    </tr>\n",
       "    <tr>\n",
       "      <th>12</th>\n",
       "      <td>Physical_Sciences</td>\n",
       "      <td>185479.0</td>\n",
       "    </tr>\n",
       "    <tr>\n",
       "      <th>0</th>\n",
       "      <td>Agriculture_and_Natural_Resources</td>\n",
       "      <td>75620.0</td>\n",
       "    </tr>\n",
       "    <tr>\n",
       "      <th>11</th>\n",
       "      <td>Interdisciplinary</td>\n",
       "      <td>12296.0</td>\n",
       "    </tr>\n",
       "  </tbody>\n",
       "</table>\n",
       "</div>"
      ],
      "text/plain": [
       "                           Major_category  Sum of Total Enrollment\n",
       "3                                Business                1302376.0\n",
       "9             Humanities_and_Liberal_Arts                 713468.0\n",
       "2                Biology_and_Life_Science                 632969.0\n",
       "6                               Education                 559129.0\n",
       "7                             Engineering                 537583.0\n",
       "14                         Social_Science                 529966.0\n",
       "13             Psychology_and_Social_Work                 481007.0\n",
       "8                                  Health                 463230.0\n",
       "4           Communications_and_Journalism                 392601.0\n",
       "1                                    Arts                 357130.0\n",
       "5                Computer_and_Mathematics                 299008.0\n",
       "10  Industrial_Arts_and_Consumer_Services                 229792.0\n",
       "12                      Physical_Sciences                 185479.0\n",
       "0       Agriculture_and_Natural_Resources                  75620.0\n",
       "11                      Interdisciplinary                  12296.0"
      ]
     },
     "execution_count": 19,
     "metadata": {},
     "output_type": "execute_result"
    }
   ],
   "source": [
    "category_total_df = pd.DataFrame(df_recent.groupby('Major_category')[\"Total\"].agg([\"sum\"]).reset_index())\n",
    "category_total_df = category_total_df.rename({'sum': 'Sum of Total Enrollment'}, axis=1)\n",
    "category_total_df.sort_values(by=['Sum of Total Enrollment'], ascending=False)"
   ]
  },
  {
   "cell_type": "markdown",
   "metadata": {},
   "source": [
    "Is there a correlation between enrollment and economic outcomes?"
   ]
  },
  {
   "cell_type": "code",
   "execution_count": 20,
   "metadata": {},
   "outputs": [
    {
     "data": {
      "text/html": [
       "<div>\n",
       "<style scoped>\n",
       "    .dataframe tbody tr th:only-of-type {\n",
       "        vertical-align: middle;\n",
       "    }\n",
       "\n",
       "    .dataframe tbody tr th {\n",
       "        vertical-align: top;\n",
       "    }\n",
       "\n",
       "    .dataframe thead th {\n",
       "        text-align: right;\n",
       "    }\n",
       "</style>\n",
       "<table border=\"1\" class=\"dataframe\">\n",
       "  <thead>\n",
       "    <tr style=\"text-align: right;\">\n",
       "      <th></th>\n",
       "      <th>Major_category</th>\n",
       "      <th>Sum of Total Enrollment</th>\n",
       "      <th>Mean of Median Incomes</th>\n",
       "      <th>Mean of Unemployment Rates</th>\n",
       "    </tr>\n",
       "  </thead>\n",
       "  <tbody>\n",
       "    <tr>\n",
       "      <th>0</th>\n",
       "      <td>Agriculture_and_Natural_Resources</td>\n",
       "      <td>75620.0</td>\n",
       "      <td>35111.111111</td>\n",
       "      <td>0.051817</td>\n",
       "    </tr>\n",
       "    <tr>\n",
       "      <th>1</th>\n",
       "      <td>Arts</td>\n",
       "      <td>357130.0</td>\n",
       "      <td>33062.500000</td>\n",
       "      <td>0.090173</td>\n",
       "    </tr>\n",
       "    <tr>\n",
       "      <th>2</th>\n",
       "      <td>Biology_and_Life_Science</td>\n",
       "      <td>632969.0</td>\n",
       "      <td>37942.105263</td>\n",
       "      <td>0.068783</td>\n",
       "    </tr>\n",
       "    <tr>\n",
       "      <th>3</th>\n",
       "      <td>Business</td>\n",
       "      <td>1302376.0</td>\n",
       "      <td>43538.461538</td>\n",
       "      <td>0.071064</td>\n",
       "    </tr>\n",
       "    <tr>\n",
       "      <th>4</th>\n",
       "      <td>Communications_and_Journalism</td>\n",
       "      <td>392601.0</td>\n",
       "      <td>34500.000000</td>\n",
       "      <td>0.075538</td>\n",
       "    </tr>\n",
       "    <tr>\n",
       "      <th>5</th>\n",
       "      <td>Computer_and_Mathematics</td>\n",
       "      <td>299008.0</td>\n",
       "      <td>42745.454545</td>\n",
       "      <td>0.084256</td>\n",
       "    </tr>\n",
       "    <tr>\n",
       "      <th>6</th>\n",
       "      <td>Education</td>\n",
       "      <td>559129.0</td>\n",
       "      <td>32350.000000</td>\n",
       "      <td>0.051702</td>\n",
       "    </tr>\n",
       "    <tr>\n",
       "      <th>7</th>\n",
       "      <td>Engineering</td>\n",
       "      <td>537583.0</td>\n",
       "      <td>57382.758621</td>\n",
       "      <td>0.063334</td>\n",
       "    </tr>\n",
       "    <tr>\n",
       "      <th>8</th>\n",
       "      <td>Health</td>\n",
       "      <td>463230.0</td>\n",
       "      <td>36825.000000</td>\n",
       "      <td>0.065920</td>\n",
       "    </tr>\n",
       "    <tr>\n",
       "      <th>9</th>\n",
       "      <td>Humanities_and_Liberal_Arts</td>\n",
       "      <td>713468.0</td>\n",
       "      <td>31913.333333</td>\n",
       "      <td>0.081008</td>\n",
       "    </tr>\n",
       "    <tr>\n",
       "      <th>10</th>\n",
       "      <td>Industrial_Arts_and_Consumer_Services</td>\n",
       "      <td>229792.0</td>\n",
       "      <td>36342.857143</td>\n",
       "      <td>0.048071</td>\n",
       "    </tr>\n",
       "    <tr>\n",
       "      <th>11</th>\n",
       "      <td>Interdisciplinary</td>\n",
       "      <td>12296.0</td>\n",
       "      <td>35000.000000</td>\n",
       "      <td>0.070861</td>\n",
       "    </tr>\n",
       "    <tr>\n",
       "      <th>12</th>\n",
       "      <td>Physical_Sciences</td>\n",
       "      <td>185479.0</td>\n",
       "      <td>41890.000000</td>\n",
       "      <td>0.046511</td>\n",
       "    </tr>\n",
       "    <tr>\n",
       "      <th>13</th>\n",
       "      <td>Psychology_and_Social_Work</td>\n",
       "      <td>481007.0</td>\n",
       "      <td>30100.000000</td>\n",
       "      <td>0.072065</td>\n",
       "    </tr>\n",
       "    <tr>\n",
       "      <th>14</th>\n",
       "      <td>Social_Science</td>\n",
       "      <td>529966.0</td>\n",
       "      <td>37344.444444</td>\n",
       "      <td>0.095729</td>\n",
       "    </tr>\n",
       "  </tbody>\n",
       "</table>\n",
       "</div>"
      ],
      "text/plain": [
       "                           Major_category  Sum of Total Enrollment  \\\n",
       "0       Agriculture_and_Natural_Resources                  75620.0   \n",
       "1                                    Arts                 357130.0   \n",
       "2                Biology_and_Life_Science                 632969.0   \n",
       "3                                Business                1302376.0   \n",
       "4           Communications_and_Journalism                 392601.0   \n",
       "5                Computer_and_Mathematics                 299008.0   \n",
       "6                               Education                 559129.0   \n",
       "7                             Engineering                 537583.0   \n",
       "8                                  Health                 463230.0   \n",
       "9             Humanities_and_Liberal_Arts                 713468.0   \n",
       "10  Industrial_Arts_and_Consumer_Services                 229792.0   \n",
       "11                      Interdisciplinary                  12296.0   \n",
       "12                      Physical_Sciences                 185479.0   \n",
       "13             Psychology_and_Social_Work                 481007.0   \n",
       "14                         Social_Science                 529966.0   \n",
       "\n",
       "    Mean of Median Incomes  Mean of Unemployment Rates  \n",
       "0             35111.111111                    0.051817  \n",
       "1             33062.500000                    0.090173  \n",
       "2             37942.105263                    0.068783  \n",
       "3             43538.461538                    0.071064  \n",
       "4             34500.000000                    0.075538  \n",
       "5             42745.454545                    0.084256  \n",
       "6             32350.000000                    0.051702  \n",
       "7             57382.758621                    0.063334  \n",
       "8             36825.000000                    0.065920  \n",
       "9             31913.333333                    0.081008  \n",
       "10            36342.857143                    0.048071  \n",
       "11            35000.000000                    0.070861  \n",
       "12            41890.000000                    0.046511  \n",
       "13            30100.000000                    0.072065  \n",
       "14            37344.444444                    0.095729  "
      ]
     },
     "execution_count": 20,
     "metadata": {},
     "output_type": "execute_result"
    }
   ],
   "source": [
    "# Merge the aggregated data \n",
    "\n",
    "category_df = pd.merge(category_total_df, category_median_df, on=['Major_category'],how='outer')\n",
    "category_df = pd.merge(category_df, category_employ_df, on=['Major_category'],how='outer')\n",
    "category_df = pd.DataFrame(category_df)\n",
    "category_df"
   ]
  },
  {
   "cell_type": "code",
   "execution_count": 21,
   "metadata": {},
   "outputs": [],
   "source": [
    "median_corr = pd.DataFrame(category_df[category_df.columns].corr()['Sum of Total Enrollment'])\n",
    "median_corr.columns = ['Enrollment_Corr']"
   ]
  },
  {
   "cell_type": "code",
   "execution_count": 22,
   "metadata": {},
   "outputs": [
    {
     "data": {
      "text/html": [
       "<div>\n",
       "<style scoped>\n",
       "    .dataframe tbody tr th:only-of-type {\n",
       "        vertical-align: middle;\n",
       "    }\n",
       "\n",
       "    .dataframe tbody tr th {\n",
       "        vertical-align: top;\n",
       "    }\n",
       "\n",
       "    .dataframe thead th {\n",
       "        text-align: right;\n",
       "    }\n",
       "</style>\n",
       "<table border=\"1\" class=\"dataframe\">\n",
       "  <thead>\n",
       "    <tr style=\"text-align: right;\">\n",
       "      <th></th>\n",
       "      <th>Enrollment_Corr</th>\n",
       "    </tr>\n",
       "  </thead>\n",
       "  <tbody>\n",
       "    <tr>\n",
       "      <th>Mean of Median Incomes</th>\n",
       "      <td>0.190612</td>\n",
       "    </tr>\n",
       "    <tr>\n",
       "      <th>Mean of Unemployment Rates</th>\n",
       "      <td>0.248356</td>\n",
       "    </tr>\n",
       "    <tr>\n",
       "      <th>Sum of Total Enrollment</th>\n",
       "      <td>1.000000</td>\n",
       "    </tr>\n",
       "  </tbody>\n",
       "</table>\n",
       "</div>"
      ],
      "text/plain": [
       "                            Enrollment_Corr\n",
       "Mean of Median Incomes             0.190612\n",
       "Mean of Unemployment Rates         0.248356\n",
       "Sum of Total Enrollment            1.000000"
      ]
     },
     "execution_count": 22,
     "metadata": {},
     "output_type": "execute_result"
    }
   ],
   "source": [
    "median_corr.sort_values(by=['Enrollment_Corr'])"
   ]
  },
  {
   "cell_type": "markdown",
   "metadata": {},
   "source": [
    "Yes, at the level of major category, there is a correlation between salary and unemployment rates on the one hand and total enrollment on the other."
   ]
  },
  {
   "cell_type": "markdown",
   "metadata": {},
   "source": [
    "# Variable Construction"
   ]
  },
  {
   "cell_type": "markdown",
   "metadata": {},
   "source": [
    "Absolute totals of student graduates by major may be less useful than relative shares, so we can create a new `PercentOfTotal` variable."
   ]
  },
  {
   "cell_type": "code",
   "execution_count": 23,
   "metadata": {},
   "outputs": [],
   "source": [
    "df_recent['PercentOfTotal'] = df_recent['Total']/df_recent['Total'].sum()"
   ]
  },
  {
   "cell_type": "code",
   "execution_count": 24,
   "metadata": {},
   "outputs": [
    {
     "data": {
      "text/plain": [
       "0.00581395348837209"
      ]
     },
     "execution_count": 24,
     "metadata": {},
     "output_type": "execute_result"
    }
   ],
   "source": [
    "df_recent['PercentOfTotal'].mean()"
   ]
  },
  {
   "cell_type": "markdown",
   "metadata": {},
   "source": [
    "To see the effect of part-time work on our output variables, we need to determine the *share* of part-time workers. The raw data only give the absolute number of part-time workers, which is not helpful."
   ]
  },
  {
   "cell_type": "code",
   "execution_count": 25,
   "metadata": {},
   "outputs": [],
   "source": [
    "df_recent['SharePT'] = df_recent['Part_time']/df_recent['Total']"
   ]
  },
  {
   "cell_type": "code",
   "execution_count": 26,
   "metadata": {},
   "outputs": [
    {
     "data": {
      "text/plain": [
       "0.4940196023610587"
      ]
     },
     "execution_count": 26,
     "metadata": {},
     "output_type": "execute_result"
    }
   ],
   "source": [
    "df_recent['SharePT'].corr(df_recent['ShareWomen'])"
   ]
  },
  {
   "cell_type": "markdown",
   "metadata": {},
   "source": [
    "Since the % of women and % of part-time workers are related, and since both may affect income, we add a new composite variable. This composite variable is the product of both % of women and % of part-time."
   ]
  },
  {
   "cell_type": "code",
   "execution_count": 27,
   "metadata": {},
   "outputs": [],
   "source": [
    "df_recent['Interact_PT_Women'] = df_recent['ShareWomen']*df_recent['SharePT']"
   ]
  },
  {
   "cell_type": "markdown",
   "metadata": {},
   "source": [
    "# Correlations Between Median Income and Other Key Factors"
   ]
  },
  {
   "cell_type": "code",
   "execution_count": 28,
   "metadata": {},
   "outputs": [],
   "source": [
    "median_corr = pd.DataFrame(df_recent[df_recent.columns].corr()['Median'])\n",
    "median_corr.columns = ['Median_Income_Corr']"
   ]
  },
  {
   "cell_type": "code",
   "execution_count": 29,
   "metadata": {},
   "outputs": [
    {
     "data": {
      "text/html": [
       "<div>\n",
       "<style scoped>\n",
       "    .dataframe tbody tr th:only-of-type {\n",
       "        vertical-align: middle;\n",
       "    }\n",
       "\n",
       "    .dataframe tbody tr th {\n",
       "        vertical-align: top;\n",
       "    }\n",
       "\n",
       "    .dataframe thead th {\n",
       "        text-align: right;\n",
       "    }\n",
       "</style>\n",
       "<table border=\"1\" class=\"dataframe\">\n",
       "  <thead>\n",
       "    <tr style=\"text-align: right;\">\n",
       "      <th></th>\n",
       "      <th>Median_Income_Corr</th>\n",
       "    </tr>\n",
       "  </thead>\n",
       "  <tbody>\n",
       "    <tr>\n",
       "      <th>Rank</th>\n",
       "      <td>-0.872303</td>\n",
       "    </tr>\n",
       "    <tr>\n",
       "      <th>ShareWomen</th>\n",
       "      <td>-0.618690</td>\n",
       "    </tr>\n",
       "    <tr>\n",
       "      <th>Interact_PT_Women</th>\n",
       "      <td>-0.589167</td>\n",
       "    </tr>\n",
       "    <tr>\n",
       "      <th>SharePT</th>\n",
       "      <td>-0.430702</td>\n",
       "    </tr>\n",
       "    <tr>\n",
       "      <th>Low_wage_jobs</th>\n",
       "      <td>-0.207153</td>\n",
       "    </tr>\n",
       "    <tr>\n",
       "      <th>Part_time</th>\n",
       "      <td>-0.187516</td>\n",
       "    </tr>\n",
       "    <tr>\n",
       "      <th>Women</th>\n",
       "      <td>-0.182842</td>\n",
       "    </tr>\n",
       "    <tr>\n",
       "      <th>Non_college_jobs</th>\n",
       "      <td>-0.171815</td>\n",
       "    </tr>\n",
       "    <tr>\n",
       "      <th>Major_code</th>\n",
       "      <td>-0.167237</td>\n",
       "    </tr>\n",
       "    <tr>\n",
       "      <th>Unemployed</th>\n",
       "      <td>-0.123622</td>\n",
       "    </tr>\n",
       "    <tr>\n",
       "      <th>Unemployment_rate</th>\n",
       "      <td>-0.115769</td>\n",
       "    </tr>\n",
       "    <tr>\n",
       "      <th>PercentOfTotal</th>\n",
       "      <td>-0.106738</td>\n",
       "    </tr>\n",
       "    <tr>\n",
       "      <th>Total</th>\n",
       "      <td>-0.106738</td>\n",
       "    </tr>\n",
       "    <tr>\n",
       "      <th>Employed</th>\n",
       "      <td>-0.104399</td>\n",
       "    </tr>\n",
       "    <tr>\n",
       "      <th>Full_time</th>\n",
       "      <td>-0.079031</td>\n",
       "    </tr>\n",
       "    <tr>\n",
       "      <th>Full_time_year_round</th>\n",
       "      <td>-0.069750</td>\n",
       "    </tr>\n",
       "    <tr>\n",
       "      <th>Sample_size</th>\n",
       "      <td>-0.064475</td>\n",
       "    </tr>\n",
       "    <tr>\n",
       "      <th>College_jobs</th>\n",
       "      <td>-0.047060</td>\n",
       "    </tr>\n",
       "    <tr>\n",
       "      <th>Men</th>\n",
       "      <td>0.025991</td>\n",
       "    </tr>\n",
       "    <tr>\n",
       "      <th>P25th</th>\n",
       "      <td>0.893374</td>\n",
       "    </tr>\n",
       "    <tr>\n",
       "      <th>P75th</th>\n",
       "      <td>0.901158</td>\n",
       "    </tr>\n",
       "    <tr>\n",
       "      <th>Median</th>\n",
       "      <td>1.000000</td>\n",
       "    </tr>\n",
       "  </tbody>\n",
       "</table>\n",
       "</div>"
      ],
      "text/plain": [
       "                      Median_Income_Corr\n",
       "Rank                           -0.872303\n",
       "ShareWomen                     -0.618690\n",
       "Interact_PT_Women              -0.589167\n",
       "SharePT                        -0.430702\n",
       "Low_wage_jobs                  -0.207153\n",
       "Part_time                      -0.187516\n",
       "Women                          -0.182842\n",
       "Non_college_jobs               -0.171815\n",
       "Major_code                     -0.167237\n",
       "Unemployed                     -0.123622\n",
       "Unemployment_rate              -0.115769\n",
       "PercentOfTotal                 -0.106738\n",
       "Total                          -0.106738\n",
       "Employed                       -0.104399\n",
       "Full_time                      -0.079031\n",
       "Full_time_year_round           -0.069750\n",
       "Sample_size                    -0.064475\n",
       "College_jobs                   -0.047060\n",
       "Men                             0.025991\n",
       "P25th                           0.893374\n",
       "P75th                           0.901158\n",
       "Median                          1.000000"
      ]
     },
     "execution_count": 29,
     "metadata": {},
     "output_type": "execute_result"
    }
   ],
   "source": [
    "median_corr.sort_values(by=['Median_Income_Corr'])"
   ]
  },
  {
   "cell_type": "markdown",
   "metadata": {},
   "source": [
    "Thus, at the level of individual major, there is a slightly negative correlation between size of major and median income, which was not true at the level of major category. Among these correlations, only the number of men in the major is positively correlated with higher income."
   ]
  },
  {
   "cell_type": "code",
   "execution_count": 30,
   "metadata": {},
   "outputs": [],
   "source": [
    "unemp_corr = pd.DataFrame(df_recent[df_recent.columns].corr()['Unemployment_rate'])\n",
    "unemp_corr.columns = ['UnempRate_Corr']"
   ]
  },
  {
   "cell_type": "code",
   "execution_count": 31,
   "metadata": {},
   "outputs": [
    {
     "data": {
      "text/html": [
       "<div>\n",
       "<style scoped>\n",
       "    .dataframe tbody tr th:only-of-type {\n",
       "        vertical-align: middle;\n",
       "    }\n",
       "\n",
       "    .dataframe tbody tr th {\n",
       "        vertical-align: top;\n",
       "    }\n",
       "\n",
       "    .dataframe thead th {\n",
       "        text-align: right;\n",
       "    }\n",
       "</style>\n",
       "<table border=\"1\" class=\"dataframe\">\n",
       "  <thead>\n",
       "    <tr style=\"text-align: right;\">\n",
       "      <th></th>\n",
       "      <th>UnempRate_Corr</th>\n",
       "    </tr>\n",
       "  </thead>\n",
       "  <tbody>\n",
       "    <tr>\n",
       "      <th>Median</th>\n",
       "      <td>-0.115769</td>\n",
       "    </tr>\n",
       "    <tr>\n",
       "      <th>P25th</th>\n",
       "      <td>-0.097945</td>\n",
       "    </tr>\n",
       "    <tr>\n",
       "      <th>P75th</th>\n",
       "      <td>-0.039933</td>\n",
       "    </tr>\n",
       "    <tr>\n",
       "      <th>College_jobs</th>\n",
       "      <td>-0.011694</td>\n",
       "    </tr>\n",
       "    <tr>\n",
       "      <th>Women</th>\n",
       "      <td>0.059108</td>\n",
       "    </tr>\n",
       "    <tr>\n",
       "      <th>Full_time_year_round</th>\n",
       "      <td>0.060382</td>\n",
       "    </tr>\n",
       "    <tr>\n",
       "      <th>Sample_size</th>\n",
       "      <td>0.062955</td>\n",
       "    </tr>\n",
       "    <tr>\n",
       "      <th>Full_time</th>\n",
       "      <td>0.066616</td>\n",
       "    </tr>\n",
       "    <tr>\n",
       "      <th>Employed</th>\n",
       "      <td>0.071374</td>\n",
       "    </tr>\n",
       "    <tr>\n",
       "      <th>ShareWomen</th>\n",
       "      <td>0.073205</td>\n",
       "    </tr>\n",
       "    <tr>\n",
       "      <th>Rank</th>\n",
       "      <td>0.076671</td>\n",
       "    </tr>\n",
       "    <tr>\n",
       "      <th>Total</th>\n",
       "      <td>0.083192</td>\n",
       "    </tr>\n",
       "    <tr>\n",
       "      <th>PercentOfTotal</th>\n",
       "      <td>0.083192</td>\n",
       "    </tr>\n",
       "    <tr>\n",
       "      <th>Men</th>\n",
       "      <td>0.101502</td>\n",
       "    </tr>\n",
       "    <tr>\n",
       "      <th>Part_time</th>\n",
       "      <td>0.112247</td>\n",
       "    </tr>\n",
       "    <tr>\n",
       "      <th>Non_college_jobs</th>\n",
       "      <td>0.119566</td>\n",
       "    </tr>\n",
       "    <tr>\n",
       "      <th>Low_wage_jobs</th>\n",
       "      <td>0.131573</td>\n",
       "    </tr>\n",
       "    <tr>\n",
       "      <th>Major_code</th>\n",
       "      <td>0.137163</td>\n",
       "    </tr>\n",
       "    <tr>\n",
       "      <th>Interact_PT_Women</th>\n",
       "      <td>0.152860</td>\n",
       "    </tr>\n",
       "    <tr>\n",
       "      <th>Unemployed</th>\n",
       "      <td>0.168651</td>\n",
       "    </tr>\n",
       "    <tr>\n",
       "      <th>SharePT</th>\n",
       "      <td>0.226548</td>\n",
       "    </tr>\n",
       "    <tr>\n",
       "      <th>Unemployment_rate</th>\n",
       "      <td>1.000000</td>\n",
       "    </tr>\n",
       "  </tbody>\n",
       "</table>\n",
       "</div>"
      ],
      "text/plain": [
       "                      UnempRate_Corr\n",
       "Median                     -0.115769\n",
       "P25th                      -0.097945\n",
       "P75th                      -0.039933\n",
       "College_jobs               -0.011694\n",
       "Women                       0.059108\n",
       "Full_time_year_round        0.060382\n",
       "Sample_size                 0.062955\n",
       "Full_time                   0.066616\n",
       "Employed                    0.071374\n",
       "ShareWomen                  0.073205\n",
       "Rank                        0.076671\n",
       "Total                       0.083192\n",
       "PercentOfTotal              0.083192\n",
       "Men                         0.101502\n",
       "Part_time                   0.112247\n",
       "Non_college_jobs            0.119566\n",
       "Low_wage_jobs               0.131573\n",
       "Major_code                  0.137163\n",
       "Interact_PT_Women           0.152860\n",
       "Unemployed                  0.168651\n",
       "SharePT                     0.226548\n",
       "Unemployment_rate           1.000000"
      ]
     },
     "execution_count": 31,
     "metadata": {},
     "output_type": "execute_result"
    }
   ],
   "source": [
    "unemp_corr.sort_values(by=['UnempRate_Corr'])"
   ]
  },
  {
   "cell_type": "markdown",
   "metadata": {},
   "source": [
    "Again, the number of men in the major correlates positively with the positive outcome, in this case a *low* unemployment rate."
   ]
  },
  {
   "cell_type": "markdown",
   "metadata": {},
   "source": [
    "# Visualizations, Especially Scatterplots"
   ]
  },
  {
   "cell_type": "code",
   "execution_count": 32,
   "metadata": {},
   "outputs": [
    {
     "data": {
      "image/png": "[encoded data removed]",
      "text/plain": [
       "<Figure size 432x288 with 1 Axes>"
      ]
     },
     "metadata": {},
     "output_type": "display_data"
    }
   ],
   "source": [
    "fig = plt.figure()\n",
    "axes = fig.add_subplot(111)\n",
    "\n",
    "axes.plot(df_recent['Rank'], df_recent['Median'])\n",
    "\n",
    "plt.xlabel('Majors, Ranked')\n",
    "plt.ylabel('Median')\n",
    "plt.title('Median Income Across Majors')\n",
    "\n",
    "plt.show()"
   ]
  },
  {
   "cell_type": "code",
   "execution_count": 33,
   "metadata": {},
   "outputs": [
    {
     "data": {
      "image/png": "[encoded data removed]",
      "text/plain": [
       "<Figure size 432x288 with 1 Axes>"
      ]
     },
     "metadata": {},
     "output_type": "display_data"
    }
   ],
   "source": [
    "plt.hist(df_recent['Median'])\n",
    "plt.ylabel('# of Majors')\n",
    "plt.xlabel('Median Income')\n",
    "plt.title('Histogram of Median Income Levels by Major')\n",
    "plt.show()"
   ]
  },
  {
   "cell_type": "code",
   "execution_count": 34,
   "metadata": {},
   "outputs": [
    {
     "data": {
      "image/png": "[encoded data removed]",
      "text/plain": [
       "<Figure size 432x288 with 1 Axes>"
      ]
     },
     "metadata": {},
     "output_type": "display_data"
    }
   ],
   "source": [
    "_ = plt.hist(df_recent['Unemployment_rate'])\n",
    "_ = plt.ylabel('# of Majors')\n",
    "_ = plt.xlabel('Unemployment Rate')\n",
    "_ = plt.title('Histogram of Unemployment Rates by Major')\n",
    "plt.show()"
   ]
  },
  {
   "cell_type": "code",
   "execution_count": 35,
   "metadata": {},
   "outputs": [
    {
     "data": {
      "image/png": "[encoded data removed]",
      "text/plain": [
       "<Figure size 432x288 with 1 Axes>"
      ]
     },
     "metadata": {},
     "output_type": "display_data"
    }
   ],
   "source": [
    "x = df_recent['Median']\n",
    "y = df_recent['Total']\n",
    "plt.title('Median Income vs. Total Enrollment')\n",
    "plt.scatter(x, y, color ='', edgecolors = 'black')\n",
    "plt.xlabel('Total')\n",
    "plt.ylabel('Median Income')\n",
    "plt.plot(np.unique(x), np.poly1d(np.polyfit(x, y, 1))(np.unique(x)))\n",
    "\n",
    "plt.show()"
   ]
  },
  {
   "cell_type": "markdown",
   "metadata": {},
   "source": [
    "As the the correlations showed, greater median income among individual majors is associated with lower enrollment."
   ]
  },
  {
   "cell_type": "code",
   "execution_count": 36,
   "metadata": {
    "scrolled": true
   },
   "outputs": [
    {
     "data": {
      "image/png": "[encoded data removed]",
      "text/plain": [
       "<Figure size 432x288 with 1 Axes>"
      ]
     },
     "metadata": {},
     "output_type": "display_data"
    }
   ],
   "source": [
    "x = df_recent['Median']\n",
    "y = df_recent['ShareWomen']\n",
    "plt.scatter(x, y, edgecolors='blue')\n",
    "plt.plot(np.unique(x), np.poly1d(np.polyfit(x, y, 1))(np.unique(x)))\n",
    "plt.xlabel('Share of Women')\n",
    "plt.ylabel('Median Income')\n",
    "plt.title('Greater % women is associated with lower income')\n",
    "plt.show()"
   ]
  },
  {
   "cell_type": "code",
   "execution_count": 37,
   "metadata": {},
   "outputs": [
    {
     "data": {
      "image/png": "[encoded data removed]",
      "text/plain": [
       "<Figure size 432x288 with 1 Axes>"
      ]
     },
     "metadata": {},
     "output_type": "display_data"
    }
   ],
   "source": [
    "x = df_recent['ShareWomen']\n",
    "y = df_recent['Unemployment_rate']\n",
    "plt.scatter(x, y, edgecolors='blue')\n",
    "plt.xlabel('Share of Women')\n",
    "plt.ylabel('Unemployment Rate')\n",
    "plt.title('% of women does not seem to affect unemployment')\n",
    "plt.plot(np.unique(x), np.poly1d(np.polyfit(x, y, 1))(np.unique(x)))\n",
    "plt.show()"
   ]
  },
  {
   "cell_type": "code",
   "execution_count": 38,
   "metadata": {},
   "outputs": [
    {
     "data": {
      "image/png": "[encoded data removed]",
      "text/plain": [
       "<Figure size 432x288 with 1 Axes>"
      ]
     },
     "metadata": {},
     "output_type": "display_data"
    }
   ],
   "source": [
    "x = df_recent['Median']\n",
    "y = df_recent['Unemployment_rate']\n",
    "plt.scatter(x, y, edgecolors='blue')\n",
    "plt.plot(np.unique(x), np.poly1d(np.polyfit(x, y, 1))(np.unique(x)))\n",
    "plt.xlabel('Median Income')\n",
    "plt.ylabel('Unemployment Rate')\n",
    "plt.title('Majors with Higher Income Have Lower Unemployment')\n",
    "plt.plot(np.unique(x), np.poly1d(np.polyfit(x, y, 1))(np.unique(x)))\n",
    "plt.show()"
   ]
  },
  {
   "cell_type": "markdown",
   "metadata": {},
   "source": [
    "# Regression Analysis: Majors and Economic Outcomes\n",
    "## Median Income and Unemployment Rates"
   ]
  },
  {
   "cell_type": "code",
   "execution_count": 39,
   "metadata": {},
   "outputs": [],
   "source": [
    "import statsmodels.formula.api as smf\n",
    "from scipy import stats"
   ]
  },
  {
   "cell_type": "code",
   "execution_count": 40,
   "metadata": {},
   "outputs": [
    {
     "data": {
      "text/html": [
       "<table class=\"simpletable\">\n",
       "<caption>OLS Regression Results</caption>\n",
       "<tr>\n",
       "  <th>Dep. Variable:</th>         <td>Median</td>      <th>  R-squared:         </th> <td>   0.013</td>\n",
       "</tr>\n",
       "<tr>\n",
       "  <th>Model:</th>                   <td>OLS</td>       <th>  Adj. R-squared:    </th> <td>   0.008</td>\n",
       "</tr>\n",
       "<tr>\n",
       "  <th>Method:</th>             <td>Least Squares</td>  <th>  F-statistic:       </th> <td>   2.309</td>\n",
       "</tr>\n",
       "<tr>\n",
       "  <th>Date:</th>             <td>Tue, 21 Jan 2020</td> <th>  Prob (F-statistic):</th>  <td> 0.130</td> \n",
       "</tr>\n",
       "<tr>\n",
       "  <th>Time:</th>                 <td>18:08:57</td>     <th>  Log-Likelihood:    </th> <td> -1850.0</td>\n",
       "</tr>\n",
       "<tr>\n",
       "  <th>No. Observations:</th>      <td>   172</td>      <th>  AIC:               </th> <td>   3704.</td>\n",
       "</tr>\n",
       "<tr>\n",
       "  <th>Df Residuals:</th>          <td>   170</td>      <th>  BIC:               </th> <td>   3710.</td>\n",
       "</tr>\n",
       "<tr>\n",
       "  <th>Df Model:</th>              <td>     1</td>      <th>                     </th>     <td> </td>   \n",
       "</tr>\n",
       "<tr>\n",
       "  <th>Covariance Type:</th>      <td>nonrobust</td>    <th>                     </th>     <td> </td>   \n",
       "</tr>\n",
       "</table>\n",
       "<table class=\"simpletable\">\n",
       "<tr>\n",
       "          <td></td>             <th>coef</th>     <th>std err</th>      <th>t</th>      <th>P>|t|</th>  <th>[0.025</th>    <th>0.975]</th>  \n",
       "</tr>\n",
       "<tr>\n",
       "  <th>Intercept</th>         <td> 4.305e+04</td> <td> 2142.503</td> <td>   20.094</td> <td> 0.000</td> <td> 3.88e+04</td> <td> 4.73e+04</td>\n",
       "</tr>\n",
       "<tr>\n",
       "  <th>Unemployment_rate</th> <td>-4.373e+04</td> <td> 2.88e+04</td> <td>   -1.520</td> <td> 0.130</td> <td>-1.01e+05</td> <td> 1.31e+04</td>\n",
       "</tr>\n",
       "</table>\n",
       "<table class=\"simpletable\">\n",
       "<tr>\n",
       "  <th>Omnibus:</th>       <td>91.195</td> <th>  Durbin-Watson:     </th> <td>   0.073</td> \n",
       "</tr>\n",
       "<tr>\n",
       "  <th>Prob(Omnibus):</th> <td> 0.000</td> <th>  Jarque-Bera (JB):  </th> <td> 457.348</td> \n",
       "</tr>\n",
       "<tr>\n",
       "  <th>Skew:</th>          <td> 1.988</td> <th>  Prob(JB):          </th> <td>4.88e-100</td>\n",
       "</tr>\n",
       "<tr>\n",
       "  <th>Kurtosis:</th>      <td> 9.929</td> <th>  Cond. No.          </th> <td>    33.2</td> \n",
       "</tr>\n",
       "</table><br/><br/>Warnings:<br/>[1] Standard Errors assume that the covariance matrix of the errors is correctly specified."
      ],
      "text/plain": [
       "<class 'statsmodels.iolib.summary.Summary'>\n",
       "\"\"\"\n",
       "                            OLS Regression Results                            \n",
       "==============================================================================\n",
       "Dep. Variable:                 Median   R-squared:                       0.013\n",
       "Model:                            OLS   Adj. R-squared:                  0.008\n",
       "Method:                 Least Squares   F-statistic:                     2.309\n",
       "Date:                Tue, 21 Jan 2020   Prob (F-statistic):              0.130\n",
       "Time:                        18:08:57   Log-Likelihood:                -1850.0\n",
       "No. Observations:                 172   AIC:                             3704.\n",
       "Df Residuals:                     170   BIC:                             3710.\n",
       "Df Model:                           1                                         \n",
       "Covariance Type:            nonrobust                                         \n",
       "=====================================================================================\n",
       "                        coef    std err          t      P>|t|      [0.025      0.975]\n",
       "-------------------------------------------------------------------------------------\n",
       "Intercept          4.305e+04   2142.503     20.094      0.000    3.88e+04    4.73e+04\n",
       "Unemployment_rate -4.373e+04   2.88e+04     -1.520      0.130   -1.01e+05    1.31e+04\n",
       "==============================================================================\n",
       "Omnibus:                       91.195   Durbin-Watson:                   0.073\n",
       "Prob(Omnibus):                  0.000   Jarque-Bera (JB):              457.348\n",
       "Skew:                           1.988   Prob(JB):                    4.88e-100\n",
       "Kurtosis:                       9.929   Cond. No.                         33.2\n",
       "==============================================================================\n",
       "\n",
       "Warnings:\n",
       "[1] Standard Errors assume that the covariance matrix of the errors is correctly specified.\n",
       "\"\"\""
      ]
     },
     "execution_count": 40,
     "metadata": {},
     "output_type": "execute_result"
    }
   ],
   "source": [
    "outvars_model = smf.ols(\"Median ~ Unemployment_rate\", data= df_recent).fit()\n",
    "\n",
    "outvars_model.summary()"
   ]
  },
  {
   "cell_type": "code",
   "execution_count": 41,
   "metadata": {},
   "outputs": [
    {
     "data": {
      "text/html": [
       "<table class=\"simpletable\">\n",
       "<caption>OLS Regression Results</caption>\n",
       "<tr>\n",
       "  <th>Dep. Variable:</th>         <td>Median</td>      <th>  R-squared:         </th> <td>   0.383</td>\n",
       "</tr>\n",
       "<tr>\n",
       "  <th>Model:</th>                   <td>OLS</td>       <th>  Adj. R-squared:    </th> <td>   0.379</td>\n",
       "</tr>\n",
       "<tr>\n",
       "  <th>Method:</th>             <td>Least Squares</td>  <th>  F-statistic:       </th> <td>   105.4</td>\n",
       "</tr>\n",
       "<tr>\n",
       "  <th>Date:</th>             <td>Tue, 21 Jan 2020</td> <th>  Prob (F-statistic):</th> <td>1.51e-19</td>\n",
       "</tr>\n",
       "<tr>\n",
       "  <th>Time:</th>                 <td>18:08:57</td>     <th>  Log-Likelihood:    </th> <td> -1809.7</td>\n",
       "</tr>\n",
       "<tr>\n",
       "  <th>No. Observations:</th>      <td>   172</td>      <th>  AIC:               </th> <td>   3623.</td>\n",
       "</tr>\n",
       "<tr>\n",
       "  <th>Df Residuals:</th>          <td>   170</td>      <th>  BIC:               </th> <td>   3630.</td>\n",
       "</tr>\n",
       "<tr>\n",
       "  <th>Df Model:</th>              <td>     1</td>      <th>                     </th>     <td> </td>   \n",
       "</tr>\n",
       "<tr>\n",
       "  <th>Covariance Type:</th>      <td>nonrobust</td>    <th>                     </th>     <td> </td>   \n",
       "</tr>\n",
       "</table>\n",
       "<table class=\"simpletable\">\n",
       "<tr>\n",
       "       <td></td>         <th>coef</th>     <th>std err</th>      <th>t</th>      <th>P>|t|</th>  <th>[0.025</th>    <th>0.975]</th>  \n",
       "</tr>\n",
       "<tr>\n",
       "  <th>Intercept</th>  <td> 5.609e+04</td> <td> 1705.115</td> <td>   32.897</td> <td> 0.000</td> <td> 5.27e+04</td> <td> 5.95e+04</td>\n",
       "</tr>\n",
       "<tr>\n",
       "  <th>ShareWomen</th> <td>-3.067e+04</td> <td> 2987.010</td> <td>  -10.268</td> <td> 0.000</td> <td>-3.66e+04</td> <td>-2.48e+04</td>\n",
       "</tr>\n",
       "</table>\n",
       "<table class=\"simpletable\">\n",
       "<tr>\n",
       "  <th>Omnibus:</th>       <td>92.256</td> <th>  Durbin-Watson:     </th> <td>   0.732</td> \n",
       "</tr>\n",
       "<tr>\n",
       "  <th>Prob(Omnibus):</th> <td> 0.000</td> <th>  Jarque-Bera (JB):  </th> <td> 659.444</td> \n",
       "</tr>\n",
       "<tr>\n",
       "  <th>Skew:</th>          <td> 1.851</td> <th>  Prob(JB):          </th> <td>6.36e-144</td>\n",
       "</tr>\n",
       "<tr>\n",
       "  <th>Kurtosis:</th>      <td>11.850</td> <th>  Cond. No.          </th> <td>    5.57</td> \n",
       "</tr>\n",
       "</table><br/><br/>Warnings:<br/>[1] Standard Errors assume that the covariance matrix of the errors is correctly specified."
      ],
      "text/plain": [
       "<class 'statsmodels.iolib.summary.Summary'>\n",
       "\"\"\"\n",
       "                            OLS Regression Results                            \n",
       "==============================================================================\n",
       "Dep. Variable:                 Median   R-squared:                       0.383\n",
       "Model:                            OLS   Adj. R-squared:                  0.379\n",
       "Method:                 Least Squares   F-statistic:                     105.4\n",
       "Date:                Tue, 21 Jan 2020   Prob (F-statistic):           1.51e-19\n",
       "Time:                        18:08:57   Log-Likelihood:                -1809.7\n",
       "No. Observations:                 172   AIC:                             3623.\n",
       "Df Residuals:                     170   BIC:                             3630.\n",
       "Df Model:                           1                                         \n",
       "Covariance Type:            nonrobust                                         \n",
       "==============================================================================\n",
       "                 coef    std err          t      P>|t|      [0.025      0.975]\n",
       "------------------------------------------------------------------------------\n",
       "Intercept   5.609e+04   1705.115     32.897      0.000    5.27e+04    5.95e+04\n",
       "ShareWomen -3.067e+04   2987.010    -10.268      0.000   -3.66e+04   -2.48e+04\n",
       "==============================================================================\n",
       "Omnibus:                       92.256   Durbin-Watson:                   0.732\n",
       "Prob(Omnibus):                  0.000   Jarque-Bera (JB):              659.444\n",
       "Skew:                           1.851   Prob(JB):                    6.36e-144\n",
       "Kurtosis:                      11.850   Cond. No.                         5.57\n",
       "==============================================================================\n",
       "\n",
       "Warnings:\n",
       "[1] Standard Errors assume that the covariance matrix of the errors is correctly specified.\n",
       "\"\"\""
      ]
     },
     "execution_count": 41,
     "metadata": {},
     "output_type": "execute_result"
    }
   ],
   "source": [
    "medwomen_model = smf.ols(\"Median ~ ShareWomen\", data= df_recent).fit()\n",
    "\n",
    "medwomen_model.summary()"
   ]
  },
  {
   "cell_type": "code",
   "execution_count": 42,
   "metadata": {},
   "outputs": [
    {
     "data": {
      "text/html": [
       "<table class=\"simpletable\">\n",
       "<caption>OLS Regression Results</caption>\n",
       "<tr>\n",
       "  <th>Dep. Variable:</th>    <td>Unemployment_rate</td> <th>  R-squared:         </th> <td>   0.005</td>\n",
       "</tr>\n",
       "<tr>\n",
       "  <th>Model:</th>                   <td>OLS</td>        <th>  Adj. R-squared:    </th> <td>  -0.000</td>\n",
       "</tr>\n",
       "<tr>\n",
       "  <th>Method:</th>             <td>Least Squares</td>   <th>  F-statistic:       </th> <td>  0.9159</td>\n",
       "</tr>\n",
       "<tr>\n",
       "  <th>Date:</th>             <td>Tue, 21 Jan 2020</td>  <th>  Prob (F-statistic):</th>  <td> 0.340</td> \n",
       "</tr>\n",
       "<tr>\n",
       "  <th>Time:</th>                 <td>18:08:57</td>      <th>  Log-Likelihood:    </th> <td>  358.10</td>\n",
       "</tr>\n",
       "<tr>\n",
       "  <th>No. Observations:</th>      <td>   172</td>       <th>  AIC:               </th> <td>  -712.2</td>\n",
       "</tr>\n",
       "<tr>\n",
       "  <th>Df Residuals:</th>          <td>   170</td>       <th>  BIC:               </th> <td>  -705.9</td>\n",
       "</tr>\n",
       "<tr>\n",
       "  <th>Df Model:</th>              <td>     1</td>       <th>                     </th>     <td> </td>   \n",
       "</tr>\n",
       "<tr>\n",
       "  <th>Covariance Type:</th>      <td>nonrobust</td>     <th>                     </th>     <td> </td>   \n",
       "</tr>\n",
       "</table>\n",
       "<table class=\"simpletable\">\n",
       "<tr>\n",
       "       <td></td>         <th>coef</th>     <th>std err</th>      <th>t</th>      <th>P>|t|</th>  <th>[0.025</th>    <th>0.975]</th>  \n",
       "</tr>\n",
       "<tr>\n",
       "  <th>Intercept</th>  <td>    0.0630</td> <td>    0.006</td> <td>   10.996</td> <td> 0.000</td> <td>    0.052</td> <td>    0.074</td>\n",
       "</tr>\n",
       "<tr>\n",
       "  <th>ShareWomen</th> <td>    0.0096</td> <td>    0.010</td> <td>    0.957</td> <td> 0.340</td> <td>   -0.010</td> <td>    0.029</td>\n",
       "</tr>\n",
       "</table>\n",
       "<table class=\"simpletable\">\n",
       "<tr>\n",
       "  <th>Omnibus:</th>       <td> 9.654</td> <th>  Durbin-Watson:     </th> <td>   2.065</td>\n",
       "</tr>\n",
       "<tr>\n",
       "  <th>Prob(Omnibus):</th> <td> 0.008</td> <th>  Jarque-Bera (JB):  </th> <td>  12.143</td>\n",
       "</tr>\n",
       "<tr>\n",
       "  <th>Skew:</th>          <td> 0.384</td> <th>  Prob(JB):          </th> <td> 0.00231</td>\n",
       "</tr>\n",
       "<tr>\n",
       "  <th>Kurtosis:</th>      <td> 4.051</td> <th>  Cond. No.          </th> <td>    5.57</td>\n",
       "</tr>\n",
       "</table><br/><br/>Warnings:<br/>[1] Standard Errors assume that the covariance matrix of the errors is correctly specified."
      ],
      "text/plain": [
       "<class 'statsmodels.iolib.summary.Summary'>\n",
       "\"\"\"\n",
       "                            OLS Regression Results                            \n",
       "==============================================================================\n",
       "Dep. Variable:      Unemployment_rate   R-squared:                       0.005\n",
       "Model:                            OLS   Adj. R-squared:                 -0.000\n",
       "Method:                 Least Squares   F-statistic:                    0.9159\n",
       "Date:                Tue, 21 Jan 2020   Prob (F-statistic):              0.340\n",
       "Time:                        18:08:57   Log-Likelihood:                 358.10\n",
       "No. Observations:                 172   AIC:                            -712.2\n",
       "Df Residuals:                     170   BIC:                            -705.9\n",
       "Df Model:                           1                                         \n",
       "Covariance Type:            nonrobust                                         \n",
       "==============================================================================\n",
       "                 coef    std err          t      P>|t|      [0.025      0.975]\n",
       "------------------------------------------------------------------------------\n",
       "Intercept      0.0630      0.006     10.996      0.000       0.052       0.074\n",
       "ShareWomen     0.0096      0.010      0.957      0.340      -0.010       0.029\n",
       "==============================================================================\n",
       "Omnibus:                        9.654   Durbin-Watson:                   2.065\n",
       "Prob(Omnibus):                  0.008   Jarque-Bera (JB):               12.143\n",
       "Skew:                           0.384   Prob(JB):                      0.00231\n",
       "Kurtosis:                       4.051   Cond. No.                         5.57\n",
       "==============================================================================\n",
       "\n",
       "Warnings:\n",
       "[1] Standard Errors assume that the covariance matrix of the errors is correctly specified.\n",
       "\"\"\""
      ]
     },
     "execution_count": 42,
     "metadata": {},
     "output_type": "execute_result"
    }
   ],
   "source": [
    "unempwom_model = smf.ols(\"Unemployment_rate ~ ShareWomen\", data= df_recent).fit()\n",
    "\n",
    "unempwom_model.summary()"
   ]
  },
  {
   "cell_type": "code",
   "execution_count": 43,
   "metadata": {},
   "outputs": [
    {
     "data": {
      "text/html": [
       "<table class=\"simpletable\">\n",
       "<caption>OLS Regression Results</caption>\n",
       "<tr>\n",
       "  <th>Dep. Variable:</th>         <td>SharePT</td>     <th>  R-squared:         </th> <td>   0.244</td>\n",
       "</tr>\n",
       "<tr>\n",
       "  <th>Model:</th>                   <td>OLS</td>       <th>  Adj. R-squared:    </th> <td>   0.240</td>\n",
       "</tr>\n",
       "<tr>\n",
       "  <th>Method:</th>             <td>Least Squares</td>  <th>  F-statistic:       </th> <td>   54.88</td>\n",
       "</tr>\n",
       "<tr>\n",
       "  <th>Date:</th>             <td>Tue, 21 Jan 2020</td> <th>  Prob (F-statistic):</th> <td>5.71e-12</td>\n",
       "</tr>\n",
       "<tr>\n",
       "  <th>Time:</th>                 <td>18:08:57</td>     <th>  Log-Likelihood:    </th> <td>  219.04</td>\n",
       "</tr>\n",
       "<tr>\n",
       "  <th>No. Observations:</th>      <td>   172</td>      <th>  AIC:               </th> <td>  -434.1</td>\n",
       "</tr>\n",
       "<tr>\n",
       "  <th>Df Residuals:</th>          <td>   170</td>      <th>  BIC:               </th> <td>  -427.8</td>\n",
       "</tr>\n",
       "<tr>\n",
       "  <th>Df Model:</th>              <td>     1</td>      <th>                     </th>     <td> </td>   \n",
       "</tr>\n",
       "<tr>\n",
       "  <th>Covariance Type:</th>      <td>nonrobust</td>    <th>                     </th>     <td> </td>   \n",
       "</tr>\n",
       "</table>\n",
       "<table class=\"simpletable\">\n",
       "<tr>\n",
       "       <td></td>         <th>coef</th>     <th>std err</th>      <th>t</th>      <th>P>|t|</th>  <th>[0.025</th>    <th>0.975]</th>  \n",
       "</tr>\n",
       "<tr>\n",
       "  <th>Intercept</th>  <td>    0.1359</td> <td>    0.013</td> <td>   10.564</td> <td> 0.000</td> <td>    0.110</td> <td>    0.161</td>\n",
       "</tr>\n",
       "<tr>\n",
       "  <th>ShareWomen</th> <td>    0.1669</td> <td>    0.023</td> <td>    7.408</td> <td> 0.000</td> <td>    0.122</td> <td>    0.211</td>\n",
       "</tr>\n",
       "</table>\n",
       "<table class=\"simpletable\">\n",
       "<tr>\n",
       "  <th>Omnibus:</th>       <td> 1.086</td> <th>  Durbin-Watson:     </th> <td>   1.907</td>\n",
       "</tr>\n",
       "<tr>\n",
       "  <th>Prob(Omnibus):</th> <td> 0.581</td> <th>  Jarque-Bera (JB):  </th> <td>   0.716</td>\n",
       "</tr>\n",
       "<tr>\n",
       "  <th>Skew:</th>          <td>-0.080</td> <th>  Prob(JB):          </th> <td>   0.699</td>\n",
       "</tr>\n",
       "<tr>\n",
       "  <th>Kurtosis:</th>      <td> 3.272</td> <th>  Cond. No.          </th> <td>    5.57</td>\n",
       "</tr>\n",
       "</table><br/><br/>Warnings:<br/>[1] Standard Errors assume that the covariance matrix of the errors is correctly specified."
      ],
      "text/plain": [
       "<class 'statsmodels.iolib.summary.Summary'>\n",
       "\"\"\"\n",
       "                            OLS Regression Results                            \n",
       "==============================================================================\n",
       "Dep. Variable:                SharePT   R-squared:                       0.244\n",
       "Model:                            OLS   Adj. R-squared:                  0.240\n",
       "Method:                 Least Squares   F-statistic:                     54.88\n",
       "Date:                Tue, 21 Jan 2020   Prob (F-statistic):           5.71e-12\n",
       "Time:                        18:08:57   Log-Likelihood:                 219.04\n",
       "No. Observations:                 172   AIC:                            -434.1\n",
       "Df Residuals:                     170   BIC:                            -427.8\n",
       "Df Model:                           1                                         \n",
       "Covariance Type:            nonrobust                                         \n",
       "==============================================================================\n",
       "                 coef    std err          t      P>|t|      [0.025      0.975]\n",
       "------------------------------------------------------------------------------\n",
       "Intercept      0.1359      0.013     10.564      0.000       0.110       0.161\n",
       "ShareWomen     0.1669      0.023      7.408      0.000       0.122       0.211\n",
       "==============================================================================\n",
       "Omnibus:                        1.086   Durbin-Watson:                   1.907\n",
       "Prob(Omnibus):                  0.581   Jarque-Bera (JB):                0.716\n",
       "Skew:                          -0.080   Prob(JB):                        0.699\n",
       "Kurtosis:                       3.272   Cond. No.                         5.57\n",
       "==============================================================================\n",
       "\n",
       "Warnings:\n",
       "[1] Standard Errors assume that the covariance matrix of the errors is correctly specified.\n",
       "\"\"\""
      ]
     },
     "execution_count": 43,
     "metadata": {},
     "output_type": "execute_result"
    }
   ],
   "source": [
    "prod_model = smf.ols(\"SharePT ~ ShareWomen\", data= df_recent).fit()\n",
    "\n",
    "prod_model.summary()"
   ]
  },
  {
   "cell_type": "code",
   "execution_count": 44,
   "metadata": {},
   "outputs": [
    {
     "data": {
      "text/html": [
       "<table class=\"simpletable\">\n",
       "<caption>OLS Regression Results</caption>\n",
       "<tr>\n",
       "  <th>Dep. Variable:</th>         <td>Median</td>      <th>  R-squared:         </th> <td>   0.403</td>\n",
       "</tr>\n",
       "<tr>\n",
       "  <th>Model:</th>                   <td>OLS</td>       <th>  Adj. R-squared:    </th> <td>   0.396</td>\n",
       "</tr>\n",
       "<tr>\n",
       "  <th>Method:</th>             <td>Least Squares</td>  <th>  F-statistic:       </th> <td>   57.15</td>\n",
       "</tr>\n",
       "<tr>\n",
       "  <th>Date:</th>             <td>Tue, 21 Jan 2020</td> <th>  Prob (F-statistic):</th> <td>1.10e-19</td>\n",
       "</tr>\n",
       "<tr>\n",
       "  <th>Time:</th>                 <td>18:08:57</td>     <th>  Log-Likelihood:    </th> <td> -1806.8</td>\n",
       "</tr>\n",
       "<tr>\n",
       "  <th>No. Observations:</th>      <td>   172</td>      <th>  AIC:               </th> <td>   3620.</td>\n",
       "</tr>\n",
       "<tr>\n",
       "  <th>Df Residuals:</th>          <td>   169</td>      <th>  BIC:               </th> <td>   3629.</td>\n",
       "</tr>\n",
       "<tr>\n",
       "  <th>Df Model:</th>              <td>     2</td>      <th>                     </th>     <td> </td>   \n",
       "</tr>\n",
       "<tr>\n",
       "  <th>Covariance Type:</th>      <td>nonrobust</td>    <th>                     </th>     <td> </td>   \n",
       "</tr>\n",
       "</table>\n",
       "<table class=\"simpletable\">\n",
       "<tr>\n",
       "       <td></td>         <th>coef</th>     <th>std err</th>      <th>t</th>      <th>P>|t|</th>  <th>[0.025</th>    <th>0.975]</th>  \n",
       "</tr>\n",
       "<tr>\n",
       "  <th>Intercept</th>  <td> 5.939e+04</td> <td> 2163.847</td> <td>   27.447</td> <td> 0.000</td> <td> 5.51e+04</td> <td> 6.37e+04</td>\n",
       "</tr>\n",
       "<tr>\n",
       "  <th>ShareWomen</th> <td>-2.662e+04</td> <td> 3387.423</td> <td>   -7.858</td> <td> 0.000</td> <td>-3.33e+04</td> <td>-1.99e+04</td>\n",
       "</tr>\n",
       "<tr>\n",
       "  <th>SharePT</th>    <td>-2.427e+04</td> <td>    1e+04</td> <td>   -2.421</td> <td> 0.017</td> <td>-4.41e+04</td> <td>-4480.666</td>\n",
       "</tr>\n",
       "</table>\n",
       "<table class=\"simpletable\">\n",
       "<tr>\n",
       "  <th>Omnibus:</th>       <td>92.942</td> <th>  Durbin-Watson:     </th> <td>   0.779</td> \n",
       "</tr>\n",
       "<tr>\n",
       "  <th>Prob(Omnibus):</th> <td> 0.000</td> <th>  Jarque-Bera (JB):  </th> <td> 680.340</td> \n",
       "</tr>\n",
       "<tr>\n",
       "  <th>Skew:</th>          <td> 1.858</td> <th>  Prob(JB):          </th> <td>1.84e-148</td>\n",
       "</tr>\n",
       "<tr>\n",
       "  <th>Kurtosis:</th>      <td>12.006</td> <th>  Cond. No.          </th> <td>    17.5</td> \n",
       "</tr>\n",
       "</table><br/><br/>Warnings:<br/>[1] Standard Errors assume that the covariance matrix of the errors is correctly specified."
      ],
      "text/plain": [
       "<class 'statsmodels.iolib.summary.Summary'>\n",
       "\"\"\"\n",
       "                            OLS Regression Results                            \n",
       "==============================================================================\n",
       "Dep. Variable:                 Median   R-squared:                       0.403\n",
       "Model:                            OLS   Adj. R-squared:                  0.396\n",
       "Method:                 Least Squares   F-statistic:                     57.15\n",
       "Date:                Tue, 21 Jan 2020   Prob (F-statistic):           1.10e-19\n",
       "Time:                        18:08:57   Log-Likelihood:                -1806.8\n",
       "No. Observations:                 172   AIC:                             3620.\n",
       "Df Residuals:                     169   BIC:                             3629.\n",
       "Df Model:                           2                                         \n",
       "Covariance Type:            nonrobust                                         \n",
       "==============================================================================\n",
       "                 coef    std err          t      P>|t|      [0.025      0.975]\n",
       "------------------------------------------------------------------------------\n",
       "Intercept   5.939e+04   2163.847     27.447      0.000    5.51e+04    6.37e+04\n",
       "ShareWomen -2.662e+04   3387.423     -7.858      0.000   -3.33e+04   -1.99e+04\n",
       "SharePT    -2.427e+04      1e+04     -2.421      0.017   -4.41e+04   -4480.666\n",
       "==============================================================================\n",
       "Omnibus:                       92.942   Durbin-Watson:                   0.779\n",
       "Prob(Omnibus):                  0.000   Jarque-Bera (JB):              680.340\n",
       "Skew:                           1.858   Prob(JB):                    1.84e-148\n",
       "Kurtosis:                      12.006   Cond. No.                         17.5\n",
       "==============================================================================\n",
       "\n",
       "Warnings:\n",
       "[1] Standard Errors assume that the covariance matrix of the errors is correctly specified.\n",
       "\"\"\""
      ]
     },
     "execution_count": 44,
     "metadata": {},
     "output_type": "execute_result"
    }
   ],
   "source": [
    "prod_model = smf.ols(\"Median ~ ShareWomen + SharePT\", data= df_recent).fit()\n",
    "\n",
    "prod_model.summary()"
   ]
  },
  {
   "cell_type": "code",
   "execution_count": 45,
   "metadata": {},
   "outputs": [
    {
     "data": {
      "text/html": [
       "<table class=\"simpletable\">\n",
       "<caption>OLS Regression Results</caption>\n",
       "<tr>\n",
       "  <th>Dep. Variable:</th>         <td>Median</td>      <th>  R-squared:         </th> <td>   0.347</td>\n",
       "</tr>\n",
       "<tr>\n",
       "  <th>Model:</th>                   <td>OLS</td>       <th>  Adj. R-squared:    </th> <td>   0.343</td>\n",
       "</tr>\n",
       "<tr>\n",
       "  <th>Method:</th>             <td>Least Squares</td>  <th>  F-statistic:       </th> <td>   90.38</td>\n",
       "</tr>\n",
       "<tr>\n",
       "  <th>Date:</th>             <td>Tue, 21 Jan 2020</td> <th>  Prob (F-statistic):</th> <td>1.87e-17</td>\n",
       "</tr>\n",
       "<tr>\n",
       "  <th>Time:</th>                 <td>18:08:57</td>     <th>  Log-Likelihood:    </th> <td> -1814.5</td>\n",
       "</tr>\n",
       "<tr>\n",
       "  <th>No. Observations:</th>      <td>   172</td>      <th>  AIC:               </th> <td>   3633.</td>\n",
       "</tr>\n",
       "<tr>\n",
       "  <th>Df Residuals:</th>          <td>   170</td>      <th>  BIC:               </th> <td>   3639.</td>\n",
       "</tr>\n",
       "<tr>\n",
       "  <th>Df Model:</th>              <td>     1</td>      <th>                     </th>     <td> </td>   \n",
       "</tr>\n",
       "<tr>\n",
       "  <th>Covariance Type:</th>      <td>nonrobust</td>    <th>                     </th>     <td> </td>   \n",
       "</tr>\n",
       "</table>\n",
       "<table class=\"simpletable\">\n",
       "<tr>\n",
       "          <td></td>             <th>coef</th>     <th>std err</th>      <th>t</th>      <th>P>|t|</th>  <th>[0.025</th>    <th>0.975]</th>  \n",
       "</tr>\n",
       "<tr>\n",
       "  <th>Intercept</th>         <td> 5.111e+04</td> <td> 1359.423</td> <td>   37.596</td> <td> 0.000</td> <td> 4.84e+04</td> <td> 5.38e+04</td>\n",
       "</tr>\n",
       "<tr>\n",
       "  <th>Interact_PT_Women</th> <td>-8.802e+04</td> <td> 9258.185</td> <td>   -9.507</td> <td> 0.000</td> <td>-1.06e+05</td> <td>-6.97e+04</td>\n",
       "</tr>\n",
       "</table>\n",
       "<table class=\"simpletable\">\n",
       "<tr>\n",
       "  <th>Omnibus:</th>       <td>101.619</td> <th>  Durbin-Watson:     </th> <td>   0.711</td> \n",
       "</tr>\n",
       "<tr>\n",
       "  <th>Prob(Omnibus):</th> <td> 0.000</td>  <th>  Jarque-Bera (JB):  </th> <td> 779.104</td> \n",
       "</tr>\n",
       "<tr>\n",
       "  <th>Skew:</th>          <td> 2.071</td>  <th>  Prob(JB):          </th> <td>6.60e-170</td>\n",
       "</tr>\n",
       "<tr>\n",
       "  <th>Kurtosis:</th>      <td>12.568</td>  <th>  Cond. No.          </th> <td>    13.3</td> \n",
       "</tr>\n",
       "</table><br/><br/>Warnings:<br/>[1] Standard Errors assume that the covariance matrix of the errors is correctly specified."
      ],
      "text/plain": [
       "<class 'statsmodels.iolib.summary.Summary'>\n",
       "\"\"\"\n",
       "                            OLS Regression Results                            \n",
       "==============================================================================\n",
       "Dep. Variable:                 Median   R-squared:                       0.347\n",
       "Model:                            OLS   Adj. R-squared:                  0.343\n",
       "Method:                 Least Squares   F-statistic:                     90.38\n",
       "Date:                Tue, 21 Jan 2020   Prob (F-statistic):           1.87e-17\n",
       "Time:                        18:08:57   Log-Likelihood:                -1814.5\n",
       "No. Observations:                 172   AIC:                             3633.\n",
       "Df Residuals:                     170   BIC:                             3639.\n",
       "Df Model:                           1                                         \n",
       "Covariance Type:            nonrobust                                         \n",
       "=====================================================================================\n",
       "                        coef    std err          t      P>|t|      [0.025      0.975]\n",
       "-------------------------------------------------------------------------------------\n",
       "Intercept          5.111e+04   1359.423     37.596      0.000    4.84e+04    5.38e+04\n",
       "Interact_PT_Women -8.802e+04   9258.185     -9.507      0.000   -1.06e+05   -6.97e+04\n",
       "==============================================================================\n",
       "Omnibus:                      101.619   Durbin-Watson:                   0.711\n",
       "Prob(Omnibus):                  0.000   Jarque-Bera (JB):              779.104\n",
       "Skew:                           2.071   Prob(JB):                    6.60e-170\n",
       "Kurtosis:                      12.568   Cond. No.                         13.3\n",
       "==============================================================================\n",
       "\n",
       "Warnings:\n",
       "[1] Standard Errors assume that the covariance matrix of the errors is correctly specified.\n",
       "\"\"\""
      ]
     },
     "execution_count": 45,
     "metadata": {},
     "output_type": "execute_result"
    }
   ],
   "source": [
    "interactmed_model = smf.ols(\"Median ~ Interact_PT_Women\", data= df_recent).fit()\n",
    "\n",
    "interactmed_model.summary()"
   ]
  },
  {
   "cell_type": "code",
   "execution_count": 46,
   "metadata": {},
   "outputs": [
    {
     "data": {
      "text/html": [
       "<table class=\"simpletable\">\n",
       "<caption>OLS Regression Results</caption>\n",
       "<tr>\n",
       "  <th>Dep. Variable:</th>         <td>Median</td>      <th>  R-squared:         </th> <td>   0.405</td>\n",
       "</tr>\n",
       "<tr>\n",
       "  <th>Model:</th>                   <td>OLS</td>       <th>  Adj. R-squared:    </th> <td>   0.395</td>\n",
       "</tr>\n",
       "<tr>\n",
       "  <th>Method:</th>             <td>Least Squares</td>  <th>  F-statistic:       </th> <td>   38.14</td>\n",
       "</tr>\n",
       "<tr>\n",
       "  <th>Date:</th>             <td>Tue, 21 Jan 2020</td> <th>  Prob (F-statistic):</th> <td>7.51e-19</td>\n",
       "</tr>\n",
       "<tr>\n",
       "  <th>Time:</th>                 <td>18:08:57</td>     <th>  Log-Likelihood:    </th> <td> -1806.5</td>\n",
       "</tr>\n",
       "<tr>\n",
       "  <th>No. Observations:</th>      <td>   172</td>      <th>  AIC:               </th> <td>   3621.</td>\n",
       "</tr>\n",
       "<tr>\n",
       "  <th>Df Residuals:</th>          <td>   168</td>      <th>  BIC:               </th> <td>   3634.</td>\n",
       "</tr>\n",
       "<tr>\n",
       "  <th>Df Model:</th>              <td>     3</td>      <th>                     </th>     <td> </td>   \n",
       "</tr>\n",
       "<tr>\n",
       "  <th>Covariance Type:</th>      <td>nonrobust</td>    <th>                     </th>     <td> </td>   \n",
       "</tr>\n",
       "</table>\n",
       "<table class=\"simpletable\">\n",
       "<tr>\n",
       "          <td></td>             <th>coef</th>     <th>std err</th>      <th>t</th>      <th>P>|t|</th>  <th>[0.025</th>    <th>0.975]</th>  \n",
       "</tr>\n",
       "<tr>\n",
       "  <th>Intercept</th>         <td> 6.176e+04</td> <td> 4079.416</td> <td>   15.140</td> <td> 0.000</td> <td> 5.37e+04</td> <td> 6.98e+04</td>\n",
       "</tr>\n",
       "<tr>\n",
       "  <th>ShareWomen</th>        <td>-3.185e+04</td> <td> 8352.857</td> <td>   -3.814</td> <td> 0.000</td> <td>-4.83e+04</td> <td>-1.54e+04</td>\n",
       "</tr>\n",
       "<tr>\n",
       "  <th>SharePT</th>           <td>-3.707e+04</td> <td> 2.12e+04</td> <td>   -1.750</td> <td> 0.082</td> <td>-7.89e+04</td> <td> 4758.052</td>\n",
       "</tr>\n",
       "<tr>\n",
       "  <th>Interact_PT_Women</th> <td> 2.567e+04</td> <td> 3.74e+04</td> <td>    0.686</td> <td> 0.494</td> <td>-4.82e+04</td> <td> 9.96e+04</td>\n",
       "</tr>\n",
       "</table>\n",
       "<table class=\"simpletable\">\n",
       "<tr>\n",
       "  <th>Omnibus:</th>       <td>89.770</td> <th>  Durbin-Watson:     </th> <td>   0.782</td> \n",
       "</tr>\n",
       "<tr>\n",
       "  <th>Prob(Omnibus):</th> <td> 0.000</td> <th>  Jarque-Bera (JB):  </th> <td> 640.945</td> \n",
       "</tr>\n",
       "<tr>\n",
       "  <th>Skew:</th>          <td> 1.786</td> <th>  Prob(JB):          </th> <td>6.61e-140</td>\n",
       "</tr>\n",
       "<tr>\n",
       "  <th>Kurtosis:</th>      <td>11.756</td> <th>  Cond. No.          </th> <td>    73.3</td> \n",
       "</tr>\n",
       "</table><br/><br/>Warnings:<br/>[1] Standard Errors assume that the covariance matrix of the errors is correctly specified."
      ],
      "text/plain": [
       "<class 'statsmodels.iolib.summary.Summary'>\n",
       "\"\"\"\n",
       "                            OLS Regression Results                            \n",
       "==============================================================================\n",
       "Dep. Variable:                 Median   R-squared:                       0.405\n",
       "Model:                            OLS   Adj. R-squared:                  0.395\n",
       "Method:                 Least Squares   F-statistic:                     38.14\n",
       "Date:                Tue, 21 Jan 2020   Prob (F-statistic):           7.51e-19\n",
       "Time:                        18:08:57   Log-Likelihood:                -1806.5\n",
       "No. Observations:                 172   AIC:                             3621.\n",
       "Df Residuals:                     168   BIC:                             3634.\n",
       "Df Model:                           3                                         \n",
       "Covariance Type:            nonrobust                                         \n",
       "=====================================================================================\n",
       "                        coef    std err          t      P>|t|      [0.025      0.975]\n",
       "-------------------------------------------------------------------------------------\n",
       "Intercept          6.176e+04   4079.416     15.140      0.000    5.37e+04    6.98e+04\n",
       "ShareWomen        -3.185e+04   8352.857     -3.814      0.000   -4.83e+04   -1.54e+04\n",
       "SharePT           -3.707e+04   2.12e+04     -1.750      0.082   -7.89e+04    4758.052\n",
       "Interact_PT_Women  2.567e+04   3.74e+04      0.686      0.494   -4.82e+04    9.96e+04\n",
       "==============================================================================\n",
       "Omnibus:                       89.770   Durbin-Watson:                   0.782\n",
       "Prob(Omnibus):                  0.000   Jarque-Bera (JB):              640.945\n",
       "Skew:                           1.786   Prob(JB):                    6.61e-140\n",
       "Kurtosis:                      11.756   Cond. No.                         73.3\n",
       "==============================================================================\n",
       "\n",
       "Warnings:\n",
       "[1] Standard Errors assume that the covariance matrix of the errors is correctly specified.\n",
       "\"\"\""
      ]
     },
     "execution_count": 46,
     "metadata": {},
     "output_type": "execute_result"
    }
   ],
   "source": [
    "prod_model = smf.ols(\"Median ~ ShareWomen + SharePT + Interact_PT_Women\", data= df_recent).fit()\n",
    "\n",
    "prod_model.summary()\n",
    "\n",
    "# Despite both being related, the composite variable of women and part-time is not significant"
   ]
  },
  {
   "cell_type": "markdown",
   "metadata": {},
   "source": [
    "### Analysis\n",
    "These linear regressions models give us an idea of the basic trends in the data. `ShareWomen` has no impact on unemployment, but gender does have a strong impact on median income. In fact, this association with lower income is stronger than with `SharePT` or `Interact_PT_Women`, although there clearly is an interaction. A linear model predicting income has an R-squared of 0.405 including only gender, part-time work, and the interaction between them."
   ]
  },
  {
   "cell_type": "markdown",
   "metadata": {},
   "source": [
    "# Major Category Effects on Income"
   ]
  },
  {
   "cell_type": "markdown",
   "metadata": {},
   "source": [
    "This section furthers our exploratory analysis, with the goal of understanding predictors are most closely associated with good economic outcomes: high median income and low unemployment."
   ]
  },
  {
   "cell_type": "code",
   "execution_count": 47,
   "metadata": {},
   "outputs": [],
   "source": [
    "Recent_DataX = df_recent[['Major','Major_category','Median','P25th','P75th','Unemployment_rate','ShareWomen', 'SharePT', 'Total', 'PercentOfTotal']]"
   ]
  },
  {
   "cell_type": "code",
   "execution_count": 48,
   "metadata": {},
   "outputs": [
    {
     "data": {
      "text/html": [
       "<div>\n",
       "<style scoped>\n",
       "    .dataframe tbody tr th:only-of-type {\n",
       "        vertical-align: middle;\n",
       "    }\n",
       "\n",
       "    .dataframe tbody tr th {\n",
       "        vertical-align: top;\n",
       "    }\n",
       "\n",
       "    .dataframe thead th {\n",
       "        text-align: right;\n",
       "    }\n",
       "</style>\n",
       "<table border=\"1\" class=\"dataframe\">\n",
       "  <thead>\n",
       "    <tr style=\"text-align: right;\">\n",
       "      <th></th>\n",
       "      <th>Major</th>\n",
       "      <th>Median</th>\n",
       "      <th>P25th</th>\n",
       "      <th>P75th</th>\n",
       "      <th>Unemployment_rate</th>\n",
       "      <th>ShareWomen</th>\n",
       "      <th>SharePT</th>\n",
       "      <th>Total</th>\n",
       "      <th>PercentOfTotal</th>\n",
       "      <th>Major_category_Agriculture_and_Natural_Resources</th>\n",
       "      <th>...</th>\n",
       "      <th>Major_category_Computer_and_Mathematics</th>\n",
       "      <th>Major_category_Education</th>\n",
       "      <th>Major_category_Engineering</th>\n",
       "      <th>Major_category_Health</th>\n",
       "      <th>Major_category_Humanities_and_Liberal_Arts</th>\n",
       "      <th>Major_category_Industrial_Arts_and_Consumer_Services</th>\n",
       "      <th>Major_category_Interdisciplinary</th>\n",
       "      <th>Major_category_Physical_Sciences</th>\n",
       "      <th>Major_category_Psychology_and_Social_Work</th>\n",
       "      <th>Major_category_Social_Science</th>\n",
       "    </tr>\n",
       "  </thead>\n",
       "  <tbody>\n",
       "    <tr>\n",
       "      <th>0</th>\n",
       "      <td>PETROLEUM ENGINEERING</td>\n",
       "      <td>110000</td>\n",
       "      <td>95000</td>\n",
       "      <td>125000</td>\n",
       "      <td>0.018381</td>\n",
       "      <td>0.120564</td>\n",
       "      <td>0.115434</td>\n",
       "      <td>2339.0</td>\n",
       "      <td>0.000345</td>\n",
       "      <td>0</td>\n",
       "      <td>...</td>\n",
       "      <td>0</td>\n",
       "      <td>0</td>\n",
       "      <td>1</td>\n",
       "      <td>0</td>\n",
       "      <td>0</td>\n",
       "      <td>0</td>\n",
       "      <td>0</td>\n",
       "      <td>0</td>\n",
       "      <td>0</td>\n",
       "      <td>0</td>\n",
       "    </tr>\n",
       "    <tr>\n",
       "      <th>1</th>\n",
       "      <td>MINING AND MINERAL ENGINEERING</td>\n",
       "      <td>75000</td>\n",
       "      <td>55000</td>\n",
       "      <td>90000</td>\n",
       "      <td>0.117241</td>\n",
       "      <td>0.101852</td>\n",
       "      <td>0.224868</td>\n",
       "      <td>756.0</td>\n",
       "      <td>0.000112</td>\n",
       "      <td>0</td>\n",
       "      <td>...</td>\n",
       "      <td>0</td>\n",
       "      <td>0</td>\n",
       "      <td>1</td>\n",
       "      <td>0</td>\n",
       "      <td>0</td>\n",
       "      <td>0</td>\n",
       "      <td>0</td>\n",
       "      <td>0</td>\n",
       "      <td>0</td>\n",
       "      <td>0</td>\n",
       "    </tr>\n",
       "    <tr>\n",
       "      <th>2</th>\n",
       "      <td>METALLURGICAL ENGINEERING</td>\n",
       "      <td>73000</td>\n",
       "      <td>50000</td>\n",
       "      <td>105000</td>\n",
       "      <td>0.024096</td>\n",
       "      <td>0.153037</td>\n",
       "      <td>0.155374</td>\n",
       "      <td>856.0</td>\n",
       "      <td>0.000126</td>\n",
       "      <td>0</td>\n",
       "      <td>...</td>\n",
       "      <td>0</td>\n",
       "      <td>0</td>\n",
       "      <td>1</td>\n",
       "      <td>0</td>\n",
       "      <td>0</td>\n",
       "      <td>0</td>\n",
       "      <td>0</td>\n",
       "      <td>0</td>\n",
       "      <td>0</td>\n",
       "      <td>0</td>\n",
       "    </tr>\n",
       "    <tr>\n",
       "      <th>3</th>\n",
       "      <td>NAVAL ARCHITECTURE AND MARINE ENGINEERING</td>\n",
       "      <td>70000</td>\n",
       "      <td>43000</td>\n",
       "      <td>80000</td>\n",
       "      <td>0.050125</td>\n",
       "      <td>0.107313</td>\n",
       "      <td>0.119237</td>\n",
       "      <td>1258.0</td>\n",
       "      <td>0.000186</td>\n",
       "      <td>0</td>\n",
       "      <td>...</td>\n",
       "      <td>0</td>\n",
       "      <td>0</td>\n",
       "      <td>1</td>\n",
       "      <td>0</td>\n",
       "      <td>0</td>\n",
       "      <td>0</td>\n",
       "      <td>0</td>\n",
       "      <td>0</td>\n",
       "      <td>0</td>\n",
       "      <td>0</td>\n",
       "    </tr>\n",
       "    <tr>\n",
       "      <th>4</th>\n",
       "      <td>CHEMICAL ENGINEERING</td>\n",
       "      <td>65000</td>\n",
       "      <td>50000</td>\n",
       "      <td>75000</td>\n",
       "      <td>0.061098</td>\n",
       "      <td>0.341631</td>\n",
       "      <td>0.160570</td>\n",
       "      <td>32260.0</td>\n",
       "      <td>0.004764</td>\n",
       "      <td>0</td>\n",
       "      <td>...</td>\n",
       "      <td>0</td>\n",
       "      <td>0</td>\n",
       "      <td>1</td>\n",
       "      <td>0</td>\n",
       "      <td>0</td>\n",
       "      <td>0</td>\n",
       "      <td>0</td>\n",
       "      <td>0</td>\n",
       "      <td>0</td>\n",
       "      <td>0</td>\n",
       "    </tr>\n",
       "  </tbody>\n",
       "</table>\n",
       "<p>5 rows × 24 columns</p>\n",
       "</div>"
      ],
      "text/plain": [
       "                                       Major  Median  P25th   P75th  \\\n",
       "0                      PETROLEUM ENGINEERING  110000  95000  125000   \n",
       "1             MINING AND MINERAL ENGINEERING   75000  55000   90000   \n",
       "2                  METALLURGICAL ENGINEERING   73000  50000  105000   \n",
       "3  NAVAL ARCHITECTURE AND MARINE ENGINEERING   70000  43000   80000   \n",
       "4                       CHEMICAL ENGINEERING   65000  50000   75000   \n",
       "\n",
       "   Unemployment_rate  ShareWomen   SharePT    Total  PercentOfTotal  \\\n",
       "0           0.018381    0.120564  0.115434   2339.0        0.000345   \n",
       "1           0.117241    0.101852  0.224868    756.0        0.000112   \n",
       "2           0.024096    0.153037  0.155374    856.0        0.000126   \n",
       "3           0.050125    0.107313  0.119237   1258.0        0.000186   \n",
       "4           0.061098    0.341631  0.160570  32260.0        0.004764   \n",
       "\n",
       "   Major_category_Agriculture_and_Natural_Resources  ...  \\\n",
       "0                                                 0  ...   \n",
       "1                                                 0  ...   \n",
       "2                                                 0  ...   \n",
       "3                                                 0  ...   \n",
       "4                                                 0  ...   \n",
       "\n",
       "   Major_category_Computer_and_Mathematics  Major_category_Education  \\\n",
       "0                                        0                         0   \n",
       "1                                        0                         0   \n",
       "2                                        0                         0   \n",
       "3                                        0                         0   \n",
       "4                                        0                         0   \n",
       "\n",
       "   Major_category_Engineering  Major_category_Health  \\\n",
       "0                           1                      0   \n",
       "1                           1                      0   \n",
       "2                           1                      0   \n",
       "3                           1                      0   \n",
       "4                           1                      0   \n",
       "\n",
       "   Major_category_Humanities_and_Liberal_Arts  \\\n",
       "0                                           0   \n",
       "1                                           0   \n",
       "2                                           0   \n",
       "3                                           0   \n",
       "4                                           0   \n",
       "\n",
       "   Major_category_Industrial_Arts_and_Consumer_Services  \\\n",
       "0                                                  0      \n",
       "1                                                  0      \n",
       "2                                                  0      \n",
       "3                                                  0      \n",
       "4                                                  0      \n",
       "\n",
       "   Major_category_Interdisciplinary  Major_category_Physical_Sciences  \\\n",
       "0                                 0                                 0   \n",
       "1                                 0                                 0   \n",
       "2                                 0                                 0   \n",
       "3                                 0                                 0   \n",
       "4                                 0                                 0   \n",
       "\n",
       "   Major_category_Psychology_and_Social_Work  Major_category_Social_Science  \n",
       "0                                          0                              0  \n",
       "1                                          0                              0  \n",
       "2                                          0                              0  \n",
       "3                                          0                              0  \n",
       "4                                          0                              0  \n",
       "\n",
       "[5 rows x 24 columns]"
      ]
     },
     "execution_count": 48,
     "metadata": {},
     "output_type": "execute_result"
    }
   ],
   "source": [
    "Recent_DataX = pd.get_dummies(Recent_DataX, columns=['Major_category'])\n",
    "Recent_DataX.head()"
   ]
  },
  {
   "cell_type": "code",
   "execution_count": 49,
   "metadata": {},
   "outputs": [
    {
     "data": {
      "text/plain": [
       "(172, 24)"
      ]
     },
     "execution_count": 49,
     "metadata": {},
     "output_type": "execute_result"
    }
   ],
   "source": [
    "Recent_DataX.shape"
   ]
  },
  {
   "cell_type": "code",
   "execution_count": 50,
   "metadata": {
    "scrolled": true
   },
   "outputs": [
    {
     "data": {
      "text/html": [
       "<div>\n",
       "<style scoped>\n",
       "    .dataframe tbody tr th:only-of-type {\n",
       "        vertical-align: middle;\n",
       "    }\n",
       "\n",
       "    .dataframe tbody tr th {\n",
       "        vertical-align: top;\n",
       "    }\n",
       "\n",
       "    .dataframe thead th {\n",
       "        text-align: right;\n",
       "    }\n",
       "</style>\n",
       "<table border=\"1\" class=\"dataframe\">\n",
       "  <thead>\n",
       "    <tr style=\"text-align: right;\">\n",
       "      <th></th>\n",
       "      <th>Median</th>\n",
       "      <th>P25th</th>\n",
       "      <th>P75th</th>\n",
       "      <th>Unemployment_rate</th>\n",
       "      <th>ShareWomen</th>\n",
       "      <th>SharePT</th>\n",
       "      <th>Total</th>\n",
       "      <th>PercentOfTotal</th>\n",
       "      <th>Major_category_Agriculture_and_Natural_Resources</th>\n",
       "      <th>Major_category_Arts</th>\n",
       "      <th>...</th>\n",
       "      <th>Major_category_Computer_and_Mathematics</th>\n",
       "      <th>Major_category_Education</th>\n",
       "      <th>Major_category_Engineering</th>\n",
       "      <th>Major_category_Health</th>\n",
       "      <th>Major_category_Humanities_and_Liberal_Arts</th>\n",
       "      <th>Major_category_Industrial_Arts_and_Consumer_Services</th>\n",
       "      <th>Major_category_Interdisciplinary</th>\n",
       "      <th>Major_category_Physical_Sciences</th>\n",
       "      <th>Major_category_Psychology_and_Social_Work</th>\n",
       "      <th>Major_category_Social_Science</th>\n",
       "    </tr>\n",
       "  </thead>\n",
       "  <tbody>\n",
       "    <tr>\n",
       "      <th>count</th>\n",
       "      <td>172.000000</td>\n",
       "      <td>172.000000</td>\n",
       "      <td>172.000000</td>\n",
       "      <td>172.000000</td>\n",
       "      <td>172.000000</td>\n",
       "      <td>172.000000</td>\n",
       "      <td>172.000000</td>\n",
       "      <td>172.000000</td>\n",
       "      <td>172.000000</td>\n",
       "      <td>172.000000</td>\n",
       "      <td>...</td>\n",
       "      <td>172.000000</td>\n",
       "      <td>172.000000</td>\n",
       "      <td>172.000000</td>\n",
       "      <td>172.000000</td>\n",
       "      <td>172.000000</td>\n",
       "      <td>172.000000</td>\n",
       "      <td>172.000000</td>\n",
       "      <td>172.00000</td>\n",
       "      <td>172.000000</td>\n",
       "      <td>172.000000</td>\n",
       "    </tr>\n",
       "    <tr>\n",
       "      <th>mean</th>\n",
       "      <td>40076.744186</td>\n",
       "      <td>29486.918605</td>\n",
       "      <td>51386.627907</td>\n",
       "      <td>0.068024</td>\n",
       "      <td>0.522223</td>\n",
       "      <td>0.223018</td>\n",
       "      <td>39370.081395</td>\n",
       "      <td>0.005814</td>\n",
       "      <td>0.052326</td>\n",
       "      <td>0.046512</td>\n",
       "      <td>...</td>\n",
       "      <td>0.063953</td>\n",
       "      <td>0.093023</td>\n",
       "      <td>0.168605</td>\n",
       "      <td>0.069767</td>\n",
       "      <td>0.087209</td>\n",
       "      <td>0.040698</td>\n",
       "      <td>0.005814</td>\n",
       "      <td>0.05814</td>\n",
       "      <td>0.052326</td>\n",
       "      <td>0.052326</td>\n",
       "    </tr>\n",
       "    <tr>\n",
       "      <th>std</th>\n",
       "      <td>11461.388773</td>\n",
       "      <td>9190.769927</td>\n",
       "      <td>14882.278650</td>\n",
       "      <td>0.030340</td>\n",
       "      <td>0.231205</td>\n",
       "      <td>0.078110</td>\n",
       "      <td>63483.491009</td>\n",
       "      <td>0.009375</td>\n",
       "      <td>0.223333</td>\n",
       "      <td>0.211205</td>\n",
       "      <td>...</td>\n",
       "      <td>0.245384</td>\n",
       "      <td>0.291313</td>\n",
       "      <td>0.375496</td>\n",
       "      <td>0.255498</td>\n",
       "      <td>0.282965</td>\n",
       "      <td>0.198166</td>\n",
       "      <td>0.076249</td>\n",
       "      <td>0.23469</td>\n",
       "      <td>0.223333</td>\n",
       "      <td>0.223333</td>\n",
       "    </tr>\n",
       "    <tr>\n",
       "      <th>min</th>\n",
       "      <td>22000.000000</td>\n",
       "      <td>18500.000000</td>\n",
       "      <td>22000.000000</td>\n",
       "      <td>0.000000</td>\n",
       "      <td>0.000000</td>\n",
       "      <td>0.000000</td>\n",
       "      <td>124.000000</td>\n",
       "      <td>0.000018</td>\n",
       "      <td>0.000000</td>\n",
       "      <td>0.000000</td>\n",
       "      <td>...</td>\n",
       "      <td>0.000000</td>\n",
       "      <td>0.000000</td>\n",
       "      <td>0.000000</td>\n",
       "      <td>0.000000</td>\n",
       "      <td>0.000000</td>\n",
       "      <td>0.000000</td>\n",
       "      <td>0.000000</td>\n",
       "      <td>0.00000</td>\n",
       "      <td>0.000000</td>\n",
       "      <td>0.000000</td>\n",
       "    </tr>\n",
       "    <tr>\n",
       "      <th>25%</th>\n",
       "      <td>33000.000000</td>\n",
       "      <td>24000.000000</td>\n",
       "      <td>41750.000000</td>\n",
       "      <td>0.050261</td>\n",
       "      <td>0.336026</td>\n",
       "      <td>0.167877</td>\n",
       "      <td>4549.750000</td>\n",
       "      <td>0.000672</td>\n",
       "      <td>0.000000</td>\n",
       "      <td>0.000000</td>\n",
       "      <td>...</td>\n",
       "      <td>0.000000</td>\n",
       "      <td>0.000000</td>\n",
       "      <td>0.000000</td>\n",
       "      <td>0.000000</td>\n",
       "      <td>0.000000</td>\n",
       "      <td>0.000000</td>\n",
       "      <td>0.000000</td>\n",
       "      <td>0.00000</td>\n",
       "      <td>0.000000</td>\n",
       "      <td>0.000000</td>\n",
       "    </tr>\n",
       "    <tr>\n",
       "      <th>50%</th>\n",
       "      <td>36000.000000</td>\n",
       "      <td>27000.000000</td>\n",
       "      <td>47000.000000</td>\n",
       "      <td>0.067544</td>\n",
       "      <td>0.534024</td>\n",
       "      <td>0.223532</td>\n",
       "      <td>15104.000000</td>\n",
       "      <td>0.002230</td>\n",
       "      <td>0.000000</td>\n",
       "      <td>0.000000</td>\n",
       "      <td>...</td>\n",
       "      <td>0.000000</td>\n",
       "      <td>0.000000</td>\n",
       "      <td>0.000000</td>\n",
       "      <td>0.000000</td>\n",
       "      <td>0.000000</td>\n",
       "      <td>0.000000</td>\n",
       "      <td>0.000000</td>\n",
       "      <td>0.00000</td>\n",
       "      <td>0.000000</td>\n",
       "      <td>0.000000</td>\n",
       "    </tr>\n",
       "    <tr>\n",
       "      <th>75%</th>\n",
       "      <td>45000.000000</td>\n",
       "      <td>33250.000000</td>\n",
       "      <td>58500.000000</td>\n",
       "      <td>0.087247</td>\n",
       "      <td>0.703299</td>\n",
       "      <td>0.274306</td>\n",
       "      <td>38909.750000</td>\n",
       "      <td>0.005746</td>\n",
       "      <td>0.000000</td>\n",
       "      <td>0.000000</td>\n",
       "      <td>...</td>\n",
       "      <td>0.000000</td>\n",
       "      <td>0.000000</td>\n",
       "      <td>0.000000</td>\n",
       "      <td>0.000000</td>\n",
       "      <td>0.000000</td>\n",
       "      <td>0.000000</td>\n",
       "      <td>0.000000</td>\n",
       "      <td>0.00000</td>\n",
       "      <td>0.000000</td>\n",
       "      <td>0.000000</td>\n",
       "    </tr>\n",
       "    <tr>\n",
       "      <th>max</th>\n",
       "      <td>110000.000000</td>\n",
       "      <td>95000.000000</td>\n",
       "      <td>125000.000000</td>\n",
       "      <td>0.177226</td>\n",
       "      <td>0.968954</td>\n",
       "      <td>0.411377</td>\n",
       "      <td>393735.000000</td>\n",
       "      <td>0.058145</td>\n",
       "      <td>1.000000</td>\n",
       "      <td>1.000000</td>\n",
       "      <td>...</td>\n",
       "      <td>1.000000</td>\n",
       "      <td>1.000000</td>\n",
       "      <td>1.000000</td>\n",
       "      <td>1.000000</td>\n",
       "      <td>1.000000</td>\n",
       "      <td>1.000000</td>\n",
       "      <td>1.000000</td>\n",
       "      <td>1.00000</td>\n",
       "      <td>1.000000</td>\n",
       "      <td>1.000000</td>\n",
       "    </tr>\n",
       "  </tbody>\n",
       "</table>\n",
       "<p>8 rows × 23 columns</p>\n",
       "</div>"
      ],
      "text/plain": [
       "              Median         P25th          P75th  Unemployment_rate  \\\n",
       "count     172.000000    172.000000     172.000000         172.000000   \n",
       "mean    40076.744186  29486.918605   51386.627907           0.068024   \n",
       "std     11461.388773   9190.769927   14882.278650           0.030340   \n",
       "min     22000.000000  18500.000000   22000.000000           0.000000   \n",
       "25%     33000.000000  24000.000000   41750.000000           0.050261   \n",
       "50%     36000.000000  27000.000000   47000.000000           0.067544   \n",
       "75%     45000.000000  33250.000000   58500.000000           0.087247   \n",
       "max    110000.000000  95000.000000  125000.000000           0.177226   \n",
       "\n",
       "       ShareWomen     SharePT          Total  PercentOfTotal  \\\n",
       "count  172.000000  172.000000     172.000000      172.000000   \n",
       "mean     0.522223    0.223018   39370.081395        0.005814   \n",
       "std      0.231205    0.078110   63483.491009        0.009375   \n",
       "min      0.000000    0.000000     124.000000        0.000018   \n",
       "25%      0.336026    0.167877    4549.750000        0.000672   \n",
       "50%      0.534024    0.223532   15104.000000        0.002230   \n",
       "75%      0.703299    0.274306   38909.750000        0.005746   \n",
       "max      0.968954    0.411377  393735.000000        0.058145   \n",
       "\n",
       "       Major_category_Agriculture_and_Natural_Resources  Major_category_Arts  \\\n",
       "count                                        172.000000           172.000000   \n",
       "mean                                           0.052326             0.046512   \n",
       "std                                            0.223333             0.211205   \n",
       "min                                            0.000000             0.000000   \n",
       "25%                                            0.000000             0.000000   \n",
       "50%                                            0.000000             0.000000   \n",
       "75%                                            0.000000             0.000000   \n",
       "max                                            1.000000             1.000000   \n",
       "\n",
       "       ...  Major_category_Computer_and_Mathematics  Major_category_Education  \\\n",
       "count  ...                               172.000000                172.000000   \n",
       "mean   ...                                 0.063953                  0.093023   \n",
       "std    ...                                 0.245384                  0.291313   \n",
       "min    ...                                 0.000000                  0.000000   \n",
       "25%    ...                                 0.000000                  0.000000   \n",
       "50%    ...                                 0.000000                  0.000000   \n",
       "75%    ...                                 0.000000                  0.000000   \n",
       "max    ...                                 1.000000                  1.000000   \n",
       "\n",
       "       Major_category_Engineering  Major_category_Health  \\\n",
       "count                  172.000000             172.000000   \n",
       "mean                     0.168605               0.069767   \n",
       "std                      0.375496               0.255498   \n",
       "min                      0.000000               0.000000   \n",
       "25%                      0.000000               0.000000   \n",
       "50%                      0.000000               0.000000   \n",
       "75%                      0.000000               0.000000   \n",
       "max                      1.000000               1.000000   \n",
       "\n",
       "       Major_category_Humanities_and_Liberal_Arts  \\\n",
       "count                                  172.000000   \n",
       "mean                                     0.087209   \n",
       "std                                      0.282965   \n",
       "min                                      0.000000   \n",
       "25%                                      0.000000   \n",
       "50%                                      0.000000   \n",
       "75%                                      0.000000   \n",
       "max                                      1.000000   \n",
       "\n",
       "       Major_category_Industrial_Arts_and_Consumer_Services  \\\n",
       "count                                         172.000000      \n",
       "mean                                            0.040698      \n",
       "std                                             0.198166      \n",
       "min                                             0.000000      \n",
       "25%                                             0.000000      \n",
       "50%                                             0.000000      \n",
       "75%                                             0.000000      \n",
       "max                                             1.000000      \n",
       "\n",
       "       Major_category_Interdisciplinary  Major_category_Physical_Sciences  \\\n",
       "count                        172.000000                         172.00000   \n",
       "mean                           0.005814                           0.05814   \n",
       "std                            0.076249                           0.23469   \n",
       "min                            0.000000                           0.00000   \n",
       "25%                            0.000000                           0.00000   \n",
       "50%                            0.000000                           0.00000   \n",
       "75%                            0.000000                           0.00000   \n",
       "max                            1.000000                           1.00000   \n",
       "\n",
       "       Major_category_Psychology_and_Social_Work  \\\n",
       "count                                 172.000000   \n",
       "mean                                    0.052326   \n",
       "std                                     0.223333   \n",
       "min                                     0.000000   \n",
       "25%                                     0.000000   \n",
       "50%                                     0.000000   \n",
       "75%                                     0.000000   \n",
       "max                                     1.000000   \n",
       "\n",
       "       Major_category_Social_Science  \n",
       "count                     172.000000  \n",
       "mean                        0.052326  \n",
       "std                         0.223333  \n",
       "min                         0.000000  \n",
       "25%                         0.000000  \n",
       "50%                         0.000000  \n",
       "75%                         0.000000  \n",
       "max                         1.000000  \n",
       "\n",
       "[8 rows x 23 columns]"
      ]
     },
     "execution_count": 50,
     "metadata": {},
     "output_type": "execute_result"
    }
   ],
   "source": [
    "Recent_DataX.describe()"
   ]
  },
  {
   "cell_type": "code",
   "execution_count": 51,
   "metadata": {},
   "outputs": [
    {
     "data": {
      "text/html": [
       "<table class=\"simpletable\">\n",
       "<caption>OLS Regression Results</caption>\n",
       "<tr>\n",
       "  <th>Dep. Variable:</th>         <td>Median</td>      <th>  R-squared:         </th> <td>   0.619</td>\n",
       "</tr>\n",
       "<tr>\n",
       "  <th>Model:</th>                   <td>OLS</td>       <th>  Adj. R-squared:    </th> <td>   0.582</td>\n",
       "</tr>\n",
       "<tr>\n",
       "  <th>Method:</th>             <td>Least Squares</td>  <th>  F-statistic:       </th> <td>   16.88</td>\n",
       "</tr>\n",
       "<tr>\n",
       "  <th>Date:</th>             <td>Tue, 21 Jan 2020</td> <th>  Prob (F-statistic):</th> <td>1.43e-25</td>\n",
       "</tr>\n",
       "<tr>\n",
       "  <th>Time:</th>                 <td>18:08:58</td>     <th>  Log-Likelihood:    </th> <td> -1768.2</td>\n",
       "</tr>\n",
       "<tr>\n",
       "  <th>No. Observations:</th>      <td>   172</td>      <th>  AIC:               </th> <td>   3568.</td>\n",
       "</tr>\n",
       "<tr>\n",
       "  <th>Df Residuals:</th>          <td>   156</td>      <th>  BIC:               </th> <td>   3619.</td>\n",
       "</tr>\n",
       "<tr>\n",
       "  <th>Df Model:</th>              <td>    15</td>      <th>                     </th>     <td> </td>   \n",
       "</tr>\n",
       "<tr>\n",
       "  <th>Covariance Type:</th>      <td>nonrobust</td>    <th>                     </th>     <td> </td>   \n",
       "</tr>\n",
       "</table>\n",
       "<table class=\"simpletable\">\n",
       "<tr>\n",
       "                            <td></td>                              <th>coef</th>     <th>std err</th>      <th>t</th>      <th>P>|t|</th>  <th>[0.025</th>    <th>0.975]</th>  \n",
       "</tr>\n",
       "<tr>\n",
       "  <th>Intercept</th>                                            <td> 4.921e+04</td> <td> 3880.102</td> <td>   12.682</td> <td> 0.000</td> <td> 4.15e+04</td> <td> 5.69e+04</td>\n",
       "</tr>\n",
       "<tr>\n",
       "  <th>ShareWomen</th>                                           <td>-1.455e+04</td> <td> 4305.358</td> <td>   -3.379</td> <td> 0.001</td> <td>-2.31e+04</td> <td>-6043.171</td>\n",
       "</tr>\n",
       "<tr>\n",
       "  <th>SharePT</th>                                              <td>-1.494e+04</td> <td> 1.08e+04</td> <td>   -1.381</td> <td> 0.169</td> <td>-3.63e+04</td> <td> 6437.389</td>\n",
       "</tr>\n",
       "<tr>\n",
       "  <th>Major_category_Health</th>                                <td> 3388.9107</td> <td> 3299.611</td> <td>    1.027</td> <td> 0.306</td> <td>-3128.770</td> <td> 9906.592</td>\n",
       "</tr>\n",
       "<tr>\n",
       "  <th>Major_category_Engineering</th>                           <td> 1.413e+04</td> <td> 3089.225</td> <td>    4.574</td> <td> 0.000</td> <td> 8026.517</td> <td> 2.02e+04</td>\n",
       "</tr>\n",
       "<tr>\n",
       "  <th>Major_category_Business</th>                              <td> 3542.9783</td> <td> 3295.227</td> <td>    1.075</td> <td> 0.284</td> <td>-2966.042</td> <td> 1.01e+04</td>\n",
       "</tr>\n",
       "<tr>\n",
       "  <th>Major_category_Agriculture_and_Natural_Resources</th>     <td>-4961.6522</td> <td> 3478.549</td> <td>   -1.426</td> <td> 0.156</td> <td>-1.18e+04</td> <td> 1909.483</td>\n",
       "</tr>\n",
       "<tr>\n",
       "  <th>Major_category_Arts</th>                                  <td>-2314.7806</td> <td> 3635.843</td> <td>   -0.637</td> <td> 0.525</td> <td>-9496.617</td> <td> 4867.055</td>\n",
       "</tr>\n",
       "<tr>\n",
       "  <th>Major_category_Biology_and_Life_Science</th>              <td>  391.4349</td> <td> 2898.249</td> <td>    0.135</td> <td> 0.893</td> <td>-5333.441</td> <td> 6116.311</td>\n",
       "</tr>\n",
       "<tr>\n",
       "  <th>Major_category_Communications_and_Journalism</th>         <td>-1748.0590</td> <td> 4410.181</td> <td>   -0.396</td> <td> 0.692</td> <td>-1.05e+04</td> <td> 6963.317</td>\n",
       "</tr>\n",
       "<tr>\n",
       "  <th>Major_category_Computer_and_Mathematics</th>              <td>  602.5692</td> <td> 3457.029</td> <td>    0.174</td> <td> 0.862</td> <td>-6226.057</td> <td> 7431.195</td>\n",
       "</tr>\n",
       "<tr>\n",
       "  <th>Major_category_Education</th>                             <td>-3043.6901</td> <td> 3171.045</td> <td>   -0.960</td> <td> 0.339</td> <td>-9307.415</td> <td> 3220.034</td>\n",
       "</tr>\n",
       "<tr>\n",
       "  <th>Major_category_Humanities_and_Liberal_Arts</th>           <td>-3503.1665</td> <td> 3085.678</td> <td>   -1.135</td> <td> 0.258</td> <td>-9598.268</td> <td> 2591.935</td>\n",
       "</tr>\n",
       "<tr>\n",
       "  <th>Major_category_Physical_Sciences</th>                     <td> 3847.9902</td> <td> 3326.679</td> <td>    1.157</td> <td> 0.249</td> <td>-2723.157</td> <td> 1.04e+04</td>\n",
       "</tr>\n",
       "<tr>\n",
       "  <th>Major_category_Industrial_Arts_and_Consumer_Services</th> <td>-5295.9983</td> <td> 3818.352</td> <td>   -1.387</td> <td> 0.167</td> <td>-1.28e+04</td> <td> 2246.345</td>\n",
       "</tr>\n",
       "<tr>\n",
       "  <th>Major_category_Psychology_and_Social_Work</th>            <td>-3487.4725</td> <td> 3521.553</td> <td>   -0.990</td> <td> 0.324</td> <td>-1.04e+04</td> <td> 3468.608</td>\n",
       "</tr>\n",
       "</table>\n",
       "<table class=\"simpletable\">\n",
       "<tr>\n",
       "  <th>Omnibus:</th>       <td>115.068</td> <th>  Durbin-Watson:     </th> <td>   1.126</td>\n",
       "</tr>\n",
       "<tr>\n",
       "  <th>Prob(Omnibus):</th> <td> 0.000</td>  <th>  Jarque-Bera (JB):  </th> <td>1600.672</td>\n",
       "</tr>\n",
       "<tr>\n",
       "  <th>Skew:</th>          <td> 2.176</td>  <th>  Prob(JB):          </th> <td>    0.00</td>\n",
       "</tr>\n",
       "<tr>\n",
       "  <th>Kurtosis:</th>      <td>17.297</td>  <th>  Cond. No.          </th> <td>    23.9</td>\n",
       "</tr>\n",
       "</table><br/><br/>Warnings:<br/>[1] Standard Errors assume that the covariance matrix of the errors is correctly specified."
      ],
      "text/plain": [
       "<class 'statsmodels.iolib.summary.Summary'>\n",
       "\"\"\"\n",
       "                            OLS Regression Results                            \n",
       "==============================================================================\n",
       "Dep. Variable:                 Median   R-squared:                       0.619\n",
       "Model:                            OLS   Adj. R-squared:                  0.582\n",
       "Method:                 Least Squares   F-statistic:                     16.88\n",
       "Date:                Tue, 21 Jan 2020   Prob (F-statistic):           1.43e-25\n",
       "Time:                        18:08:58   Log-Likelihood:                -1768.2\n",
       "No. Observations:                 172   AIC:                             3568.\n",
       "Df Residuals:                     156   BIC:                             3619.\n",
       "Df Model:                          15                                         \n",
       "Covariance Type:            nonrobust                                         \n",
       "========================================================================================================================\n",
       "                                                           coef    std err          t      P>|t|      [0.025      0.975]\n",
       "------------------------------------------------------------------------------------------------------------------------\n",
       "Intercept                                             4.921e+04   3880.102     12.682      0.000    4.15e+04    5.69e+04\n",
       "ShareWomen                                           -1.455e+04   4305.358     -3.379      0.001   -2.31e+04   -6043.171\n",
       "SharePT                                              -1.494e+04   1.08e+04     -1.381      0.169   -3.63e+04    6437.389\n",
       "Major_category_Health                                 3388.9107   3299.611      1.027      0.306   -3128.770    9906.592\n",
       "Major_category_Engineering                            1.413e+04   3089.225      4.574      0.000    8026.517    2.02e+04\n",
       "Major_category_Business                               3542.9783   3295.227      1.075      0.284   -2966.042    1.01e+04\n",
       "Major_category_Agriculture_and_Natural_Resources     -4961.6522   3478.549     -1.426      0.156   -1.18e+04    1909.483\n",
       "Major_category_Arts                                  -2314.7806   3635.843     -0.637      0.525   -9496.617    4867.055\n",
       "Major_category_Biology_and_Life_Science                391.4349   2898.249      0.135      0.893   -5333.441    6116.311\n",
       "Major_category_Communications_and_Journalism         -1748.0590   4410.181     -0.396      0.692   -1.05e+04    6963.317\n",
       "Major_category_Computer_and_Mathematics                602.5692   3457.029      0.174      0.862   -6226.057    7431.195\n",
       "Major_category_Education                             -3043.6901   3171.045     -0.960      0.339   -9307.415    3220.034\n",
       "Major_category_Humanities_and_Liberal_Arts           -3503.1665   3085.678     -1.135      0.258   -9598.268    2591.935\n",
       "Major_category_Physical_Sciences                      3847.9902   3326.679      1.157      0.249   -2723.157    1.04e+04\n",
       "Major_category_Industrial_Arts_and_Consumer_Services -5295.9983   3818.352     -1.387      0.167   -1.28e+04    2246.345\n",
       "Major_category_Psychology_and_Social_Work            -3487.4725   3521.553     -0.990      0.324   -1.04e+04    3468.608\n",
       "==============================================================================\n",
       "Omnibus:                      115.068   Durbin-Watson:                   1.126\n",
       "Prob(Omnibus):                  0.000   Jarque-Bera (JB):             1600.672\n",
       "Skew:                           2.176   Prob(JB):                         0.00\n",
       "Kurtosis:                      17.297   Cond. No.                         23.9\n",
       "==============================================================================\n",
       "\n",
       "Warnings:\n",
       "[1] Standard Errors assume that the covariance matrix of the errors is correctly specified.\n",
       "\"\"\""
      ]
     },
     "execution_count": 51,
     "metadata": {},
     "output_type": "execute_result"
    }
   ],
   "source": [
    "compmed_model = smf.ols(\"Median ~ ShareWomen + +SharePT + Major_category_Health + Major_category_Engineering + Major_category_Business + Major_category_Agriculture_and_Natural_Resources + Major_category_Arts + Major_category_Biology_and_Life_Science + Major_category_Communications_and_Journalism + Major_category_Computer_and_Mathematics + Major_category_Education + Major_category_Humanities_and_Liberal_Arts + Major_category_Physical_Sciences + Major_category_Industrial_Arts_and_Consumer_Services + Major_category_Psychology_and_Social_Work\", data= Recent_DataX).fit()\n",
    "\n",
    "compmed_model.summary()"
   ]
  },
  {
   "cell_type": "code",
   "execution_count": 52,
   "metadata": {},
   "outputs": [
    {
     "data": {
      "text/html": [
       "<table class=\"simpletable\">\n",
       "<caption>OLS Regression Results</caption>\n",
       "<tr>\n",
       "  <th>Dep. Variable:</th>    <td>Unemployment_rate</td> <th>  R-squared:         </th> <td>   0.220</td>\n",
       "</tr>\n",
       "<tr>\n",
       "  <th>Model:</th>                   <td>OLS</td>        <th>  Adj. R-squared:    </th> <td>   0.145</td>\n",
       "</tr>\n",
       "<tr>\n",
       "  <th>Method:</th>             <td>Least Squares</td>   <th>  F-statistic:       </th> <td>   2.933</td>\n",
       "</tr>\n",
       "<tr>\n",
       "  <th>Date:</th>             <td>Tue, 21 Jan 2020</td>  <th>  Prob (F-statistic):</th> <td>0.000405</td>\n",
       "</tr>\n",
       "<tr>\n",
       "  <th>Time:</th>                 <td>18:08:58</td>      <th>  Log-Likelihood:    </th> <td>  379.00</td>\n",
       "</tr>\n",
       "<tr>\n",
       "  <th>No. Observations:</th>      <td>   172</td>       <th>  AIC:               </th> <td>  -726.0</td>\n",
       "</tr>\n",
       "<tr>\n",
       "  <th>Df Residuals:</th>          <td>   156</td>       <th>  BIC:               </th> <td>  -675.6</td>\n",
       "</tr>\n",
       "<tr>\n",
       "  <th>Df Model:</th>              <td>    15</td>       <th>                     </th>     <td> </td>   \n",
       "</tr>\n",
       "<tr>\n",
       "  <th>Covariance Type:</th>      <td>nonrobust</td>     <th>                     </th>     <td> </td>   \n",
       "</tr>\n",
       "</table>\n",
       "<table class=\"simpletable\">\n",
       "<tr>\n",
       "                            <td></td>                              <th>coef</th>     <th>std err</th>      <th>t</th>      <th>P>|t|</th>  <th>[0.025</th>    <th>0.975]</th>  \n",
       "</tr>\n",
       "<tr>\n",
       "  <th>Intercept</th>                                            <td>    0.0703</td> <td>    0.015</td> <td>    4.782</td> <td> 0.000</td> <td>    0.041</td> <td>    0.099</td>\n",
       "</tr>\n",
       "<tr>\n",
       "  <th>ShareWomen</th>                                           <td>    0.0052</td> <td>    0.016</td> <td>    0.320</td> <td> 0.750</td> <td>   -0.027</td> <td>    0.037</td>\n",
       "</tr>\n",
       "<tr>\n",
       "  <th>SharePT</th>                                              <td>    0.0802</td> <td>    0.041</td> <td>    1.956</td> <td> 0.052</td> <td>   -0.001</td> <td>    0.161</td>\n",
       "</tr>\n",
       "<tr>\n",
       "  <th>Major_category_Health</th>                                <td>   -0.0310</td> <td>    0.012</td> <td>   -2.485</td> <td> 0.014</td> <td>   -0.056</td> <td>   -0.006</td>\n",
       "</tr>\n",
       "<tr>\n",
       "  <th>Major_category_Engineering</th>                           <td>   -0.0215</td> <td>    0.012</td> <td>   -1.836</td> <td> 0.068</td> <td>   -0.045</td> <td>    0.002</td>\n",
       "</tr>\n",
       "<tr>\n",
       "  <th>Major_category_Business</th>                              <td>   -0.0134</td> <td>    0.012</td> <td>   -1.076</td> <td> 0.283</td> <td>   -0.038</td> <td>    0.011</td>\n",
       "</tr>\n",
       "<tr>\n",
       "  <th>Major_category_Agriculture_and_Natural_Resources</th>     <td>   -0.0379</td> <td>    0.013</td> <td>   -2.880</td> <td> 0.005</td> <td>   -0.064</td> <td>   -0.012</td>\n",
       "</tr>\n",
       "<tr>\n",
       "  <th>Major_category_Arts</th>                                  <td>   -0.0103</td> <td>    0.014</td> <td>   -0.750</td> <td> 0.454</td> <td>   -0.038</td> <td>    0.017</td>\n",
       "</tr>\n",
       "<tr>\n",
       "  <th>Major_category_Biology_and_Life_Science</th>              <td>   -0.0232</td> <td>    0.011</td> <td>   -2.118</td> <td> 0.036</td> <td>   -0.045</td> <td>   -0.002</td>\n",
       "</tr>\n",
       "<tr>\n",
       "  <th>Major_category_Communications_and_Journalism</th>         <td>   -0.0163</td> <td>    0.017</td> <td>   -0.976</td> <td> 0.330</td> <td>   -0.049</td> <td>    0.017</td>\n",
       "</tr>\n",
       "<tr>\n",
       "  <th>Major_category_Computer_and_Mathematics</th>              <td>   -0.0012</td> <td>    0.013</td> <td>   -0.092</td> <td> 0.927</td> <td>   -0.027</td> <td>    0.025</td>\n",
       "</tr>\n",
       "<tr>\n",
       "  <th>Major_category_Education</th>                             <td>   -0.0382</td> <td>    0.012</td> <td>   -3.178</td> <td> 0.002</td> <td>   -0.062</td> <td>   -0.014</td>\n",
       "</tr>\n",
       "<tr>\n",
       "  <th>Major_category_Humanities_and_Liberal_Arts</th>           <td>   -0.0172</td> <td>    0.012</td> <td>   -1.475</td> <td> 0.142</td> <td>   -0.040</td> <td>    0.006</td>\n",
       "</tr>\n",
       "<tr>\n",
       "  <th>Major_category_Physical_Sciences</th>                     <td>   -0.0466</td> <td>    0.013</td> <td>   -3.700</td> <td> 0.000</td> <td>   -0.071</td> <td>   -0.022</td>\n",
       "</tr>\n",
       "<tr>\n",
       "  <th>Major_category_Industrial_Arts_and_Consumer_Services</th> <td>   -0.0373</td> <td>    0.014</td> <td>   -2.583</td> <td> 0.011</td> <td>   -0.066</td> <td>   -0.009</td>\n",
       "</tr>\n",
       "<tr>\n",
       "  <th>Major_category_Psychology_and_Social_Work</th>            <td>   -0.0241</td> <td>    0.013</td> <td>   -1.811</td> <td> 0.072</td> <td>   -0.050</td> <td>    0.002</td>\n",
       "</tr>\n",
       "</table>\n",
       "<table class=\"simpletable\">\n",
       "<tr>\n",
       "  <th>Omnibus:</th>       <td>32.770</td> <th>  Durbin-Watson:     </th> <td>   2.027</td>\n",
       "</tr>\n",
       "<tr>\n",
       "  <th>Prob(Omnibus):</th> <td> 0.000</td> <th>  Jarque-Bera (JB):  </th> <td>  80.207</td>\n",
       "</tr>\n",
       "<tr>\n",
       "  <th>Skew:</th>          <td> 0.800</td> <th>  Prob(JB):          </th> <td>3.83e-18</td>\n",
       "</tr>\n",
       "<tr>\n",
       "  <th>Kurtosis:</th>      <td> 5.938</td> <th>  Cond. No.          </th> <td>    23.9</td>\n",
       "</tr>\n",
       "</table><br/><br/>Warnings:<br/>[1] Standard Errors assume that the covariance matrix of the errors is correctly specified."
      ],
      "text/plain": [
       "<class 'statsmodels.iolib.summary.Summary'>\n",
       "\"\"\"\n",
       "                            OLS Regression Results                            \n",
       "==============================================================================\n",
       "Dep. Variable:      Unemployment_rate   R-squared:                       0.220\n",
       "Model:                            OLS   Adj. R-squared:                  0.145\n",
       "Method:                 Least Squares   F-statistic:                     2.933\n",
       "Date:                Tue, 21 Jan 2020   Prob (F-statistic):           0.000405\n",
       "Time:                        18:08:58   Log-Likelihood:                 379.00\n",
       "No. Observations:                 172   AIC:                            -726.0\n",
       "Df Residuals:                     156   BIC:                            -675.6\n",
       "Df Model:                          15                                         \n",
       "Covariance Type:            nonrobust                                         \n",
       "========================================================================================================================\n",
       "                                                           coef    std err          t      P>|t|      [0.025      0.975]\n",
       "------------------------------------------------------------------------------------------------------------------------\n",
       "Intercept                                                0.0703      0.015      4.782      0.000       0.041       0.099\n",
       "ShareWomen                                               0.0052      0.016      0.320      0.750      -0.027       0.037\n",
       "SharePT                                                  0.0802      0.041      1.956      0.052      -0.001       0.161\n",
       "Major_category_Health                                   -0.0310      0.012     -2.485      0.014      -0.056      -0.006\n",
       "Major_category_Engineering                              -0.0215      0.012     -1.836      0.068      -0.045       0.002\n",
       "Major_category_Business                                 -0.0134      0.012     -1.076      0.283      -0.038       0.011\n",
       "Major_category_Agriculture_and_Natural_Resources        -0.0379      0.013     -2.880      0.005      -0.064      -0.012\n",
       "Major_category_Arts                                     -0.0103      0.014     -0.750      0.454      -0.038       0.017\n",
       "Major_category_Biology_and_Life_Science                 -0.0232      0.011     -2.118      0.036      -0.045      -0.002\n",
       "Major_category_Communications_and_Journalism            -0.0163      0.017     -0.976      0.330      -0.049       0.017\n",
       "Major_category_Computer_and_Mathematics                 -0.0012      0.013     -0.092      0.927      -0.027       0.025\n",
       "Major_category_Education                                -0.0382      0.012     -3.178      0.002      -0.062      -0.014\n",
       "Major_category_Humanities_and_Liberal_Arts              -0.0172      0.012     -1.475      0.142      -0.040       0.006\n",
       "Major_category_Physical_Sciences                        -0.0466      0.013     -3.700      0.000      -0.071      -0.022\n",
       "Major_category_Industrial_Arts_and_Consumer_Services    -0.0373      0.014     -2.583      0.011      -0.066      -0.009\n",
       "Major_category_Psychology_and_Social_Work               -0.0241      0.013     -1.811      0.072      -0.050       0.002\n",
       "==============================================================================\n",
       "Omnibus:                       32.770   Durbin-Watson:                   2.027\n",
       "Prob(Omnibus):                  0.000   Jarque-Bera (JB):               80.207\n",
       "Skew:                           0.800   Prob(JB):                     3.83e-18\n",
       "Kurtosis:                       5.938   Cond. No.                         23.9\n",
       "==============================================================================\n",
       "\n",
       "Warnings:\n",
       "[1] Standard Errors assume that the covariance matrix of the errors is correctly specified.\n",
       "\"\"\""
      ]
     },
     "execution_count": 52,
     "metadata": {},
     "output_type": "execute_result"
    }
   ],
   "source": [
    "unempcomp_model = smf.ols(\"Unemployment_rate ~ ShareWomen + SharePT + Major_category_Health + Major_category_Engineering + Major_category_Business + Major_category_Agriculture_and_Natural_Resources + Major_category_Arts + Major_category_Biology_and_Life_Science + Major_category_Communications_and_Journalism + Major_category_Computer_and_Mathematics + Major_category_Education + Major_category_Humanities_and_Liberal_Arts + Major_category_Physical_Sciences + Major_category_Industrial_Arts_and_Consumer_Services + Major_category_Psychology_and_Social_Work\", data= Recent_DataX).fit()\n",
    "\n",
    "unempcomp_model.summary()"
   ]
  },
  {
   "cell_type": "markdown",
   "metadata": {},
   "source": [
    "### Analysis\n",
    "Both of these full linear regressions models, with all dummy category variables plus `ShareWomen` produce results with impressive R-squared. For unemployment rate, the R-squared is about 0.2, while for median income, the R-squared is over 0.6.\n",
    "\n",
    "In the unemployment rate model, gender does not have an impact, but several major categories, like agriculture and health, reduce unemployment.\n",
    "\n",
    "In the income model, gender *does* have an impact. The coefficient of `ShareWomen` is over 10,000, meaning that an all-female major's median income would be more than $10,000 less than an all-male one. Note that this model already controls for the effects of major category choices by men and women, suggesting that discimination is a possible cause of the difference. By major category, only engineering has a significantly positive effect on unemployment."
   ]
  },
  {
   "cell_type": "markdown",
   "metadata": {},
   "source": [
    "# K-Means Clustering to Group Majors By Income and Employment"
   ]
  },
  {
   "cell_type": "markdown",
   "metadata": {},
   "source": [
    "Now, we turn to clustering with the k-means algorithm from the `scikit-learn` library."
   ]
  },
  {
   "cell_type": "code",
   "execution_count": 53,
   "metadata": {},
   "outputs": [],
   "source": [
    "from scipy import stats\n",
    "from sklearn.preprocessing import MinMaxScaler\n",
    "from sklearn.cluster import KMeans"
   ]
  },
  {
   "cell_type": "code",
   "execution_count": 54,
   "metadata": {},
   "outputs": [],
   "source": [
    "KMeans_df = Recent_DataX[['Major', 'Unemployment_rate', 'Median', 'P25th', 'P75th', 'SharePT', 'ShareWomen']]"
   ]
  },
  {
   "cell_type": "markdown",
   "metadata": {},
   "source": [
    "Below are some transformations of the data, scaled to make the variables more comparable. However, the results of these changes decreased the number of clusters too much, so these transformations have been commented out."
   ]
  },
  {
   "cell_type": "code",
   "execution_count": 55,
   "metadata": {},
   "outputs": [],
   "source": [
    "# mms = MinMaxScaler()\n",
    "# mms.fit(KMeans_df.drop('Major', axis=1))\n",
    "# data_transformed = mms.transform(KMeans_df.drop('Major', axis=1))"
   ]
  },
  {
   "cell_type": "code",
   "execution_count": 56,
   "metadata": {},
   "outputs": [],
   "source": [
    "# data_transformed = pd.DataFrame(data_transformed, columns=['Unemployment_rate', 'Median', 'P25th', 'P75th', 'SharePT'])\n",
    "# data_transformed['Major'] = KMeans_df['Major']\n",
    "# KMeans_df = data_transformed\n",
    "# KMeans_df"
   ]
  },
  {
   "cell_type": "code",
   "execution_count": 57,
   "metadata": {},
   "outputs": [],
   "source": [
    "KMeans_df['Major'] = KMeans_df['Major'].astype(str)"
   ]
  },
  {
   "cell_type": "code",
   "execution_count": 58,
   "metadata": {},
   "outputs": [],
   "source": [
    "clmns = ['Unemployment_rate', 'Median', 'P25th', 'P75th', 'SharePT']"
   ]
  },
  {
   "cell_type": "markdown",
   "metadata": {},
   "source": [
    "Now, we will create a loop to determine the sum of squared distances by cluster size. The resulting list then be plotted, and using the \"elbow method\", we will see point at which adding clusters has diminishing returns."
   ]
  },
  {
   "cell_type": "code",
   "execution_count": 59,
   "metadata": {},
   "outputs": [],
   "source": [
    "Sum_of_squared_distances = []\n",
    "K = range(1,15)\n",
    "for k in K:\n",
    "    km = KMeans(n_clusters=k)\n",
    "    km = km.fit(KMeans_df[clmns])\n",
    "    Sum_of_squared_distances.append(km.inertia_)"
   ]
  },
  {
   "cell_type": "code",
   "execution_count": 60,
   "metadata": {},
   "outputs": [
    {
     "data": {
      "image/png": "[encoded data removed]",
      "text/plain": [
       "<Figure size 432x288 with 1 Axes>"
      ]
     },
     "metadata": {},
     "output_type": "display_data"
    }
   ],
   "source": [
    "plt.plot(K, Sum_of_squared_distances, 'bx-')\n",
    "plt.xlabel('k')\n",
    "plt.ylabel('Sum_of_squared_distances')\n",
    "plt.title('Elbow Method For Optimal k')\n",
    "plt.show()"
   ]
  },
  {
   "cell_type": "code",
   "execution_count": 61,
   "metadata": {},
   "outputs": [],
   "source": [
    "#Cluster the data\n",
    "kmeans = KMeans(n_clusters=4, random_state=0).fit(KMeans_df[clmns])\n",
    "labels = kmeans.labels_\n",
    "centroids = kmeans.cluster_centers_"
   ]
  },
  {
   "cell_type": "code",
   "execution_count": 62,
   "metadata": {},
   "outputs": [],
   "source": [
    "#Standardize\n",
    "df_recent_std = stats.zscore(df_recent[clmns])"
   ]
  },
  {
   "cell_type": "code",
   "execution_count": 63,
   "metadata": {},
   "outputs": [],
   "source": [
    "KMeans_df['Clusters'] = labels"
   ]
  },
  {
   "cell_type": "code",
   "execution_count": 64,
   "metadata": {},
   "outputs": [],
   "source": [
    "#Add the column into our list\n",
    "clmns.extend(['Clusters'])"
   ]
  },
  {
   "cell_type": "code",
   "execution_count": 65,
   "metadata": {},
   "outputs": [
    {
     "data": {
      "text/html": [
       "<div>\n",
       "<style scoped>\n",
       "    .dataframe tbody tr th:only-of-type {\n",
       "        vertical-align: middle;\n",
       "    }\n",
       "\n",
       "    .dataframe tbody tr th {\n",
       "        vertical-align: top;\n",
       "    }\n",
       "\n",
       "    .dataframe thead th {\n",
       "        text-align: right;\n",
       "    }\n",
       "</style>\n",
       "<table border=\"1\" class=\"dataframe\">\n",
       "  <thead>\n",
       "    <tr style=\"text-align: right;\">\n",
       "      <th></th>\n",
       "      <th>Unemployment_rate</th>\n",
       "      <th>Median</th>\n",
       "      <th>P25th</th>\n",
       "      <th>P75th</th>\n",
       "      <th>SharePT</th>\n",
       "    </tr>\n",
       "    <tr>\n",
       "      <th>Clusters</th>\n",
       "      <th></th>\n",
       "      <th></th>\n",
       "      <th></th>\n",
       "      <th></th>\n",
       "      <th></th>\n",
       "    </tr>\n",
       "  </thead>\n",
       "  <tbody>\n",
       "    <tr>\n",
       "      <th>0</th>\n",
       "      <td>0.072290</td>\n",
       "      <td>39924.489796</td>\n",
       "      <td>29902.040816</td>\n",
       "      <td>51467.346939</td>\n",
       "      <td>0.212234</td>\n",
       "    </tr>\n",
       "    <tr>\n",
       "      <th>1</th>\n",
       "      <td>0.068320</td>\n",
       "      <td>32204.878049</td>\n",
       "      <td>23772.560976</td>\n",
       "      <td>41153.658537</td>\n",
       "      <td>0.254787</td>\n",
       "    </tr>\n",
       "    <tr>\n",
       "      <th>2</th>\n",
       "      <td>0.061042</td>\n",
       "      <td>53086.111111</td>\n",
       "      <td>38213.888889</td>\n",
       "      <td>66972.222222</td>\n",
       "      <td>0.171116</td>\n",
       "    </tr>\n",
       "    <tr>\n",
       "      <th>3</th>\n",
       "      <td>0.071622</td>\n",
       "      <td>77000.000000</td>\n",
       "      <td>56300.000000</td>\n",
       "      <td>106200.000000</td>\n",
       "      <td>0.181375</td>\n",
       "    </tr>\n",
       "  </tbody>\n",
       "</table>\n",
       "</div>"
      ],
      "text/plain": [
       "          Unemployment_rate        Median         P25th          P75th  \\\n",
       "Clusters                                                                 \n",
       "0                  0.072290  39924.489796  29902.040816   51467.346939   \n",
       "1                  0.068320  32204.878049  23772.560976   41153.658537   \n",
       "2                  0.061042  53086.111111  38213.888889   66972.222222   \n",
       "3                  0.071622  77000.000000  56300.000000  106200.000000   \n",
       "\n",
       "           SharePT  \n",
       "Clusters            \n",
       "0         0.212234  \n",
       "1         0.254787  \n",
       "2         0.171116  \n",
       "3         0.181375  "
      ]
     },
     "execution_count": 65,
     "metadata": {},
     "output_type": "execute_result"
    }
   ],
   "source": [
    "KMeans_df[clmns].groupby(['Clusters']).mean()"
   ]
  },
  {
   "cell_type": "code",
   "execution_count": 66,
   "metadata": {},
   "outputs": [
    {
     "data": {
      "text/html": [
       "<div>\n",
       "<style scoped>\n",
       "    .dataframe tbody tr th:only-of-type {\n",
       "        vertical-align: middle;\n",
       "    }\n",
       "\n",
       "    .dataframe tbody tr th {\n",
       "        vertical-align: top;\n",
       "    }\n",
       "\n",
       "    .dataframe thead th {\n",
       "        text-align: right;\n",
       "    }\n",
       "</style>\n",
       "<table border=\"1\" class=\"dataframe\">\n",
       "  <thead>\n",
       "    <tr style=\"text-align: right;\">\n",
       "      <th></th>\n",
       "      <th>Unemployment_rate</th>\n",
       "      <th>Median</th>\n",
       "      <th>P25th</th>\n",
       "      <th>P75th</th>\n",
       "      <th>SharePT</th>\n",
       "    </tr>\n",
       "    <tr>\n",
       "      <th>Clusters</th>\n",
       "      <th></th>\n",
       "      <th></th>\n",
       "      <th></th>\n",
       "      <th></th>\n",
       "      <th></th>\n",
       "    </tr>\n",
       "  </thead>\n",
       "  <tbody>\n",
       "    <tr>\n",
       "      <th>3</th>\n",
       "      <td>0.071622</td>\n",
       "      <td>77000.000000</td>\n",
       "      <td>56300.000000</td>\n",
       "      <td>106200.000000</td>\n",
       "      <td>0.181375</td>\n",
       "    </tr>\n",
       "    <tr>\n",
       "      <th>2</th>\n",
       "      <td>0.061042</td>\n",
       "      <td>53086.111111</td>\n",
       "      <td>38213.888889</td>\n",
       "      <td>66972.222222</td>\n",
       "      <td>0.171116</td>\n",
       "    </tr>\n",
       "    <tr>\n",
       "      <th>0</th>\n",
       "      <td>0.072290</td>\n",
       "      <td>39924.489796</td>\n",
       "      <td>29902.040816</td>\n",
       "      <td>51467.346939</td>\n",
       "      <td>0.212234</td>\n",
       "    </tr>\n",
       "    <tr>\n",
       "      <th>1</th>\n",
       "      <td>0.068320</td>\n",
       "      <td>32204.878049</td>\n",
       "      <td>23772.560976</td>\n",
       "      <td>41153.658537</td>\n",
       "      <td>0.254787</td>\n",
       "    </tr>\n",
       "  </tbody>\n",
       "</table>\n",
       "</div>"
      ],
      "text/plain": [
       "          Unemployment_rate        Median         P25th          P75th  \\\n",
       "Clusters                                                                 \n",
       "3                  0.071622  77000.000000  56300.000000  106200.000000   \n",
       "2                  0.061042  53086.111111  38213.888889   66972.222222   \n",
       "0                  0.072290  39924.489796  29902.040816   51467.346939   \n",
       "1                  0.068320  32204.878049  23772.560976   41153.658537   \n",
       "\n",
       "           SharePT  \n",
       "Clusters            \n",
       "3         0.181375  \n",
       "2         0.171116  \n",
       "0         0.212234  \n",
       "1         0.254787  "
      ]
     },
     "execution_count": 66,
     "metadata": {},
     "output_type": "execute_result"
    }
   ],
   "source": [
    "df_cluster = pd.DataFrame(KMeans_df[clmns].groupby(['Clusters']).mean())\n",
    "df_cluster.sort_values(by=['Median'], ascending=False)"
   ]
  },
  {
   "cell_type": "code",
   "execution_count": 67,
   "metadata": {},
   "outputs": [
    {
     "name": "stdout",
     "output_type": "stream",
     "text": [
      "Cluster\n",
      "0\n",
      "['BUSINESS ECONOMICS'\n",
      " 'NUCLEAR, INDUSTRIAL RADIOLOGY, AND BIOLOGICAL TECHNOLOGIES' 'ACCOUNTING'\n",
      " 'MATHEMATICS' 'COMPUTER AND INFORMATION SYSTEMS'\n",
      " 'MEDICAL TECHNOLOGIES TECHNICIANS' 'INFORMATION SCIENCES'\n",
      " 'STATISTICS AND DECISION SCIENCE' 'PHARMACOLOGY' 'OCEANOGRAPHY'\n",
      " 'ENGINEERING AND INDUSTRIAL MANAGEMENT' 'MEDICAL ASSISTING SERVICES'\n",
      " 'COGNITIVE SCIENCE AND BIOPSYCHOLOGY' 'SCHOOL STUDENT COUNSELING'\n",
      " 'INTERNATIONAL RELATIONS' 'GENERAL BUSINESS' 'ARCHITECTURE'\n",
      " 'INTERNATIONAL BUSINESS' 'MOLECULAR BIOLOGY'\n",
      " 'MISCELLANEOUS BUSINESS & MEDICAL ADMINISTRATION'\n",
      " 'AGRICULTURE PRODUCTION AND MANAGEMENT' 'GENERAL AGRICULTURE'\n",
      " 'MISCELLANEOUS ENGINEERING TECHNOLOGIES'\n",
      " 'MECHANICAL ENGINEERING RELATED TECHNOLOGIES' 'GENETICS'\n",
      " 'MISCELLANEOUS Social_ScienceS' 'UNITED STATES HISTORY'\n",
      " 'INDUSTRIAL AND ORGANIZATIONAL PSYCHOLOGY' 'AGRICULTURAL ECONOMICS'\n",
      " 'Physical_Sciences' 'MILITARY TECHNOLOGIES' 'CHEMISTRY'\n",
      " 'BUSINESS MANAGEMENT AND ADMINISTRATION'\n",
      " 'MARKETING AND MARKETING RESEARCH' 'POLITICAL SCIENCE AND GOVERNMENT'\n",
      " 'GEOGRAPHY' 'MICROBIOLOGY'\n",
      " 'COMPUTER ADMINISTRATION MANAGEMENT AND SECURITY' 'BIOCHEMICAL SCIENCES'\n",
      " 'COMPUTER NETWORKING AND TELECOMMUNICATIONS' 'GEOLOGY AND EARTH SCIENCE'\n",
      " 'PRE-LAW AND LEGAL STUDIES' 'PUBLIC ADMINISTRATION' 'SOCIAL PSYCHOLOGY'\n",
      " 'MULTI-DISCIPLINARY OR GENERAL SCIENCE'\n",
      " 'TRANSPORTATION SCIENCES AND TECHNOLOGIES'\n",
      " 'ATMOSPHERIC SCIENCES AND METEOROLOGY' 'FORESTRY'\n",
      " 'GENERAL Social_ScienceS']\n",
      "Cluster\n",
      "1\n",
      "['COMPUTER PROGRAMMING AND DATA PROCESSING'\n",
      " 'ELECTRICAL, MECHANICAL, AND PRECISION TECHNOLOGIES AND PRODUCTION'\n",
      " 'BOTANY' 'HUMAN RESOURCES AND PERSONNEL MANAGEMENT'\n",
      " 'MISCELLANEOUS HEALTH MEDICAL PROFESSIONS' 'GEOSCIENCES'\n",
      " 'ENVIRONMENTAL SCIENCE' 'COMMUNICATIONS'\n",
      " 'CRIMINAL JUSTICE AND FIRE PROTECTION'\n",
      " 'COMMERCIAL ART AND GRAPHIC DESIGN' 'JOURNALISM'\n",
      " 'ADVERTISING AND PUBLIC RELATIONS' 'AREA ETHNIC AND CIVILIZATION STUDIES'\n",
      " 'SPECIAL NEEDS EDUCATION' 'PHYSIOLOGY' 'CRIMINOLOGY' 'NUTRITION SCIENCES'\n",
      " 'HEALTH AND MEDICAL ADMINISTRATIVE SERVICES' 'COMMUNICATION TECHNOLOGIES'\n",
      " 'NATURAL RESOURCES MANAGEMENT' 'NEUROSCIENCE'\n",
      " 'MULTI/INTERDISCIPLINARY STUDIES' 'SOIL SCIENCE' 'GENERAL EDUCATION'\n",
      " 'HISTORY' 'FRENCH GERMAN LATIN AND OTHER COMMON FOREIGN LANGUAGE STUDIES'\n",
      " 'INTERCULTURAL AND INTERNATIONAL STUDIES'\n",
      " 'Social_Science OR HISTORY TEACHER EDUCATION'\n",
      " 'COMMUNITY AND PUBLIC HEALTH' 'MATHEMATICS TEACHER EDUCATION'\n",
      " 'EDUCATIONAL ADMINISTRATION AND SUPERVISION'\n",
      " 'HEALTH AND MEDICAL PREPARATORY PROGRAMS' 'MISCELLANEOUS BIOLOGY'\n",
      " 'BIOLOGY' 'SOCIOLOGY' 'MASS MEDIA' 'TREATMENT THERAPY PROFESSIONS'\n",
      " 'HOSPITALITY MANAGEMENT' 'LANGUAGE AND DRAMA EDUCATION'\n",
      " 'LINGUISTICS AND COMPARATIVE LANGUAGE AND LITERATURE'\n",
      " 'MISCELLANEOUS EDUCATION' 'INTERDISCIPLINARY Social_ScienceS' 'ECOLOGY'\n",
      " 'SECONDARY TEACHER EDUCATION' 'GENERAL MEDICAL AND HEALTH SERVICES'\n",
      " 'PHILOSOPHY AND RELIGIOUS STUDIES' 'ART AND MUSIC EDUCATION'\n",
      " 'ENGLISH LANGUAGE AND LITERATURE' 'ELEMENTARY EDUCATION'\n",
      " 'PHYSICAL FITNESS PARKS RECREATION AND LEISURE' 'LIBERAL ARTS'\n",
      " 'FILM VIDEO AND PHOTOGRAPHIC ARTS' 'PLANT SCIENCE AND AGRONOMY'\n",
      " 'SCIENCE AND COMPUTER TEACHER EDUCATION' 'PSYCHOLOGY' 'MUSIC'\n",
      " 'PHYSICAL AND HEALTH EDUCATION TEACHING' 'ART HISTORY AND CRITICISM'\n",
      " 'FINE ARTS' 'FAMILY AND CONSUMER SCIENCES' 'SOCIAL WORK'\n",
      " 'ANIMAL SCIENCES' 'VISUAL AND PERFORMING ARTS'\n",
      " 'TEACHER EDUCATION: MULTIPLE LEVELS' 'MISCELLANEOUS PSYCHOLOGY'\n",
      " 'HUMAN SERVICES AND COMMUNITY ORGANIZATION' 'HUMANITIES'\n",
      " 'THEOLOGY AND RELIGIOUS VOCATIONS' 'STUDIO ARTS'\n",
      " 'COSMETOLOGY SERVICES AND CULINARY ARTS' 'MISCELLANEOUS AGRICULTURE'\n",
      " 'ANTHROPOLOGY AND ARCHEOLOGY'\n",
      " 'COMMUNICATION DISORDERS SCIENCES AND SERVICES'\n",
      " 'EARLY CHILDHOOD EDUCATION' 'OTHER FOREIGN LANGUAGES'\n",
      " 'DRAMA AND THEATER ARTS' 'COMPOSITION AND RHETORIC' 'ZOOLOGY'\n",
      " 'EDUCATIONAL PSYCHOLOGY' 'CLINICAL PSYCHOLOGY' 'COUNSELING PSYCHOLOGY'\n",
      " 'LIBRARY SCIENCE']\n",
      "Cluster\n",
      "2\n",
      "['NAVAL ARCHITECTURE AND MARINE ENGINEERING' 'CHEMICAL ENGINEERING'\n",
      " 'ACTUARIAL SCIENCE' 'MECHANICAL ENGINEERING' 'ELECTRICAL ENGINEERING'\n",
      " 'COMPUTER ENGINEERING' 'AEROSPACE ENGINEERING' 'BIOMEDICAL ENGINEERING'\n",
      " 'MATERIALS SCIENCE' 'ENGINEERING MECHANICS PHYSICS AND SCIENCE'\n",
      " 'BIOLOGICAL ENGINEERING' 'INDUSTRIAL AND MANUFACTURING ENGINEERING'\n",
      " 'GENERAL ENGINEERING' 'ARCHITECTURAL ENGINEERING' 'COURT REPORTING'\n",
      " 'COMPUTER SCIENCE' 'ELECTRICAL ENGINEERING TECHNOLOGY'\n",
      " 'MATERIALS ENGINEERING AND MATERIALS SCIENCE'\n",
      " 'MANAGEMENT INFORMATION SYSTEMS AND STATISTICS' 'CIVIL ENGINEERING'\n",
      " 'CONSTRUCTION SERVICES' 'OPERATIONS LOGISTICS AND E-COMMERCE'\n",
      " 'MISCELLANEOUS ENGINEERING' 'PUBLIC POLICY' 'ENVIRONMENTAL ENGINEERING'\n",
      " 'ENGINEERING TECHNOLOGIES' 'MISCELLANEOUS FINE ARTS'\n",
      " 'GEOLOGICAL AND GEOPHYSICAL ENGINEERING' 'NURSING' 'FINANCE' 'ECONOMICS'\n",
      " 'INDUSTRIAL PRODUCTION TECHNOLOGIES' 'PHYSICS' 'APPLIED MATHEMATICS'\n",
      " 'MATHEMATICS AND COMPUTER SCIENCE'\n",
      " 'PHARMACY PHARMACEUTICAL SCIENCES AND ADMINISTRATION']\n",
      "Cluster\n",
      "3\n",
      "['PETROLEUM ENGINEERING' 'MINING AND MINERAL ENGINEERING'\n",
      " 'METALLURGICAL ENGINEERING' 'NUCLEAR ENGINEERING'\n",
      " 'ASTRONOMY AND ASTROPHYSICS']\n"
     ]
    }
   ],
   "source": [
    "k = len(KMeans_df.Clusters.unique())\n",
    "\n",
    "for i in range(0,k):\n",
    "    major_group = KMeans_df[KMeans_df['Clusters']==i]\n",
    "    group = major_group.Major.unique()\n",
    "    print('Cluster', i, group, sep='\\n')"
   ]
  },
  {
   "cell_type": "code",
   "execution_count": 68,
   "metadata": {},
   "outputs": [],
   "source": [
    "k = len(KMeans_df.Clusters.unique())\n",
    "cluster_list = []\n",
    "\n",
    "for i in range(0,k):\n",
    "    major_group = KMeans_df[KMeans_df['Clusters']==i]\n",
    "    group = major_group.Major.unique()\n",
    "    group = ', '.join(group)\n",
    "    cluster_list.append(group)"
   ]
  },
  {
   "cell_type": "code",
   "execution_count": 69,
   "metadata": {},
   "outputs": [
    {
     "data": {
      "text/plain": [
       "'BUSINESS ECONOMICS, NUCLEAR, INDUSTRIAL RADIOLOGY, AND BIOLOGICAL TECHNOLOGIES, ACCOUNTING, MATHEMATICS, COMPUTER AND INFORMATION SYSTEMS, MEDICAL TECHNOLOGIES TECHNICIANS, INFORMATION SCIENCES, STATISTICS AND DECISION SCIENCE, PHARMACOLOGY, OCEANOGRAPHY, ENGINEERING AND INDUSTRIAL MANAGEMENT, MEDICAL ASSISTING SERVICES, COGNITIVE SCIENCE AND BIOPSYCHOLOGY, SCHOOL STUDENT COUNSELING, INTERNATIONAL RELATIONS, GENERAL BUSINESS, ARCHITECTURE, INTERNATIONAL BUSINESS, MOLECULAR BIOLOGY, MISCELLANEOUS BUSINESS & MEDICAL ADMINISTRATION, AGRICULTURE PRODUCTION AND MANAGEMENT, GENERAL AGRICULTURE, MISCELLANEOUS ENGINEERING TECHNOLOGIES, MECHANICAL ENGINEERING RELATED TECHNOLOGIES, GENETICS, MISCELLANEOUS Social_ScienceS, UNITED STATES HISTORY, INDUSTRIAL AND ORGANIZATIONAL PSYCHOLOGY, AGRICULTURAL ECONOMICS, Physical_Sciences, MILITARY TECHNOLOGIES, CHEMISTRY, BUSINESS MANAGEMENT AND ADMINISTRATION, MARKETING AND MARKETING RESEARCH, POLITICAL SCIENCE AND GOVERNMENT, GEOGRAPHY, MICROBIOLOGY, COMPUTER ADMINISTRATION MANAGEMENT AND SECURITY, BIOCHEMICAL SCIENCES, COMPUTER NETWORKING AND TELECOMMUNICATIONS, GEOLOGY AND EARTH SCIENCE, PRE-LAW AND LEGAL STUDIES, PUBLIC ADMINISTRATION, SOCIAL PSYCHOLOGY, MULTI-DISCIPLINARY OR GENERAL SCIENCE, TRANSPORTATION SCIENCES AND TECHNOLOGIES, ATMOSPHERIC SCIENCES AND METEOROLOGY, FORESTRY, GENERAL Social_ScienceS'"
      ]
     },
     "execution_count": 69,
     "metadata": {},
     "output_type": "execute_result"
    }
   ],
   "source": [
    "cluster_list[0]"
   ]
  },
  {
   "cell_type": "code",
   "execution_count": 70,
   "metadata": {},
   "outputs": [
    {
     "data": {
      "text/html": [
       "<div>\n",
       "<style scoped>\n",
       "    .dataframe tbody tr th:only-of-type {\n",
       "        vertical-align: middle;\n",
       "    }\n",
       "\n",
       "    .dataframe tbody tr th {\n",
       "        vertical-align: top;\n",
       "    }\n",
       "\n",
       "    .dataframe thead th {\n",
       "        text-align: right;\n",
       "    }\n",
       "</style>\n",
       "<table border=\"1\" class=\"dataframe\">\n",
       "  <thead>\n",
       "    <tr style=\"text-align: right;\">\n",
       "      <th></th>\n",
       "      <th>Clusters</th>\n",
       "      <th>Majors</th>\n",
       "    </tr>\n",
       "  </thead>\n",
       "  <tbody>\n",
       "    <tr>\n",
       "      <th>0</th>\n",
       "      <td>0</td>\n",
       "      <td>BUSINESS ECONOMICS, NUCLEAR, INDUSTRIAL RADIOL...</td>\n",
       "    </tr>\n",
       "    <tr>\n",
       "      <th>1</th>\n",
       "      <td>1</td>\n",
       "      <td>COMPUTER PROGRAMMING AND DATA PROCESSING, ELEC...</td>\n",
       "    </tr>\n",
       "    <tr>\n",
       "      <th>2</th>\n",
       "      <td>2</td>\n",
       "      <td>NAVAL ARCHITECTURE AND MARINE ENGINEERING, CHE...</td>\n",
       "    </tr>\n",
       "    <tr>\n",
       "      <th>3</th>\n",
       "      <td>3</td>\n",
       "      <td>PETROLEUM ENGINEERING, MINING AND MINERAL ENGI...</td>\n",
       "    </tr>\n",
       "  </tbody>\n",
       "</table>\n",
       "</div>"
      ],
      "text/plain": [
       "   Clusters                                             Majors\n",
       "0         0  BUSINESS ECONOMICS, NUCLEAR, INDUSTRIAL RADIOL...\n",
       "1         1  COMPUTER PROGRAMMING AND DATA PROCESSING, ELEC...\n",
       "2         2  NAVAL ARCHITECTURE AND MARINE ENGINEERING, CHE...\n",
       "3         3  PETROLEUM ENGINEERING, MINING AND MINERAL ENGI..."
      ]
     },
     "execution_count": 70,
     "metadata": {},
     "output_type": "execute_result"
    }
   ],
   "source": [
    "cluster_list = pd.DataFrame(cluster_list)\n",
    "cluster_list['Clusters'] = cluster_list.index\n",
    "cluster_list['Majors'] = cluster_list[0]\n",
    "cluster_list = cluster_list.drop(cluster_list.columns[0], axis=1)\n",
    "cluster_list"
   ]
  },
  {
   "cell_type": "code",
   "execution_count": 71,
   "metadata": {},
   "outputs": [
    {
     "data": {
      "text/html": [
       "<div>\n",
       "<style scoped>\n",
       "    .dataframe tbody tr th:only-of-type {\n",
       "        vertical-align: middle;\n",
       "    }\n",
       "\n",
       "    .dataframe tbody tr th {\n",
       "        vertical-align: top;\n",
       "    }\n",
       "\n",
       "    .dataframe thead th {\n",
       "        text-align: right;\n",
       "    }\n",
       "</style>\n",
       "<table border=\"1\" class=\"dataframe\">\n",
       "  <thead>\n",
       "    <tr style=\"text-align: right;\">\n",
       "      <th></th>\n",
       "      <th>Clusters</th>\n",
       "      <th>Unemployment_rate</th>\n",
       "      <th>Median</th>\n",
       "      <th>P25th</th>\n",
       "      <th>P75th</th>\n",
       "      <th>SharePT</th>\n",
       "      <th>Majors</th>\n",
       "    </tr>\n",
       "  </thead>\n",
       "  <tbody>\n",
       "    <tr>\n",
       "      <th>3</th>\n",
       "      <td>3</td>\n",
       "      <td>0.071622</td>\n",
       "      <td>77000.000000</td>\n",
       "      <td>56300.000000</td>\n",
       "      <td>106200.000000</td>\n",
       "      <td>0.181375</td>\n",
       "      <td>PETROLEUM ENGINEERING, MINING AND MINERAL ENGI...</td>\n",
       "    </tr>\n",
       "    <tr>\n",
       "      <th>2</th>\n",
       "      <td>2</td>\n",
       "      <td>0.061042</td>\n",
       "      <td>53086.111111</td>\n",
       "      <td>38213.888889</td>\n",
       "      <td>66972.222222</td>\n",
       "      <td>0.171116</td>\n",
       "      <td>NAVAL ARCHITECTURE AND MARINE ENGINEERING, CHE...</td>\n",
       "    </tr>\n",
       "    <tr>\n",
       "      <th>0</th>\n",
       "      <td>0</td>\n",
       "      <td>0.072290</td>\n",
       "      <td>39924.489796</td>\n",
       "      <td>29902.040816</td>\n",
       "      <td>51467.346939</td>\n",
       "      <td>0.212234</td>\n",
       "      <td>BUSINESS ECONOMICS, NUCLEAR, INDUSTRIAL RADIOL...</td>\n",
       "    </tr>\n",
       "    <tr>\n",
       "      <th>1</th>\n",
       "      <td>1</td>\n",
       "      <td>0.068320</td>\n",
       "      <td>32204.878049</td>\n",
       "      <td>23772.560976</td>\n",
       "      <td>41153.658537</td>\n",
       "      <td>0.254787</td>\n",
       "      <td>COMPUTER PROGRAMMING AND DATA PROCESSING, ELEC...</td>\n",
       "    </tr>\n",
       "  </tbody>\n",
       "</table>\n",
       "</div>"
      ],
      "text/plain": [
       "   Clusters  Unemployment_rate        Median         P25th          P75th  \\\n",
       "3         3           0.071622  77000.000000  56300.000000  106200.000000   \n",
       "2         2           0.061042  53086.111111  38213.888889   66972.222222   \n",
       "0         0           0.072290  39924.489796  29902.040816   51467.346939   \n",
       "1         1           0.068320  32204.878049  23772.560976   41153.658537   \n",
       "\n",
       "    SharePT                                             Majors  \n",
       "3  0.181375  PETROLEUM ENGINEERING, MINING AND MINERAL ENGI...  \n",
       "2  0.171116  NAVAL ARCHITECTURE AND MARINE ENGINEERING, CHE...  \n",
       "0  0.212234  BUSINESS ECONOMICS, NUCLEAR, INDUSTRIAL RADIOL...  \n",
       "1  0.254787  COMPUTER PROGRAMMING AND DATA PROCESSING, ELEC...  "
      ]
     },
     "execution_count": 71,
     "metadata": {},
     "output_type": "execute_result"
    }
   ],
   "source": [
    "clusters_majors_df = pd.merge(df_cluster,cluster_list, on=['Clusters'], how='outer')\n",
    "clusters_majors_df = clusters_majors_df.sort_values(by=['Median'], ascending=False)\n",
    "clusters_majors_df"
   ]
  },
  {
   "cell_type": "markdown",
   "metadata": {},
   "source": [
    "In the following loop, the clusters are reordered by median income, and the names of all the majors are printed."
   ]
  },
  {
   "cell_type": "code",
   "execution_count": 72,
   "metadata": {},
   "outputs": [
    {
     "name": "stdout",
     "output_type": "stream",
     "text": [
      "*Cluster 1 PETROLEUM ENGINEERING, MINING AND MINERAL ENGINEERING, METALLURGICAL ENGINEERING, NUCLEAR ENGINEERING, ASTRONOMY AND ASTROPHYSICS\n",
      "*Cluster 2 NAVAL ARCHITECTURE AND MARINE ENGINEERING, CHEMICAL ENGINEERING, ACTUARIAL SCIENCE, MECHANICAL ENGINEERING, ELECTRICAL ENGINEERING, COMPUTER ENGINEERING, AEROSPACE ENGINEERING, BIOMEDICAL ENGINEERING, MATERIALS SCIENCE, ENGINEERING MECHANICS PHYSICS AND SCIENCE, BIOLOGICAL ENGINEERING, INDUSTRIAL AND MANUFACTURING ENGINEERING, GENERAL ENGINEERING, ARCHITECTURAL ENGINEERING, COURT REPORTING, COMPUTER SCIENCE, ELECTRICAL ENGINEERING TECHNOLOGY, MATERIALS ENGINEERING AND MATERIALS SCIENCE, MANAGEMENT INFORMATION SYSTEMS AND STATISTICS, CIVIL ENGINEERING, CONSTRUCTION SERVICES, OPERATIONS LOGISTICS AND E-COMMERCE, MISCELLANEOUS ENGINEERING, PUBLIC POLICY, ENVIRONMENTAL ENGINEERING, ENGINEERING TECHNOLOGIES, MISCELLANEOUS FINE ARTS, GEOLOGICAL AND GEOPHYSICAL ENGINEERING, NURSING, FINANCE, ECONOMICS, INDUSTRIAL PRODUCTION TECHNOLOGIES, PHYSICS, APPLIED MATHEMATICS, MATHEMATICS AND COMPUTER SCIENCE, PHARMACY PHARMACEUTICAL SCIENCES AND ADMINISTRATION\n",
      "*Cluster 3 BUSINESS ECONOMICS, NUCLEAR, INDUSTRIAL RADIOLOGY, AND BIOLOGICAL TECHNOLOGIES, ACCOUNTING, MATHEMATICS, COMPUTER AND INFORMATION SYSTEMS, MEDICAL TECHNOLOGIES TECHNICIANS, INFORMATION SCIENCES, STATISTICS AND DECISION SCIENCE, PHARMACOLOGY, OCEANOGRAPHY, ENGINEERING AND INDUSTRIAL MANAGEMENT, MEDICAL ASSISTING SERVICES, COGNITIVE SCIENCE AND BIOPSYCHOLOGY, SCHOOL STUDENT COUNSELING, INTERNATIONAL RELATIONS, GENERAL BUSINESS, ARCHITECTURE, INTERNATIONAL BUSINESS, MOLECULAR BIOLOGY, MISCELLANEOUS BUSINESS & MEDICAL ADMINISTRATION, AGRICULTURE PRODUCTION AND MANAGEMENT, GENERAL AGRICULTURE, MISCELLANEOUS ENGINEERING TECHNOLOGIES, MECHANICAL ENGINEERING RELATED TECHNOLOGIES, GENETICS, MISCELLANEOUS Social_ScienceS, UNITED STATES HISTORY, INDUSTRIAL AND ORGANIZATIONAL PSYCHOLOGY, AGRICULTURAL ECONOMICS, Physical_Sciences, MILITARY TECHNOLOGIES, CHEMISTRY, BUSINESS MANAGEMENT AND ADMINISTRATION, MARKETING AND MARKETING RESEARCH, POLITICAL SCIENCE AND GOVERNMENT, GEOGRAPHY, MICROBIOLOGY, COMPUTER ADMINISTRATION MANAGEMENT AND SECURITY, BIOCHEMICAL SCIENCES, COMPUTER NETWORKING AND TELECOMMUNICATIONS, GEOLOGY AND EARTH SCIENCE, PRE-LAW AND LEGAL STUDIES, PUBLIC ADMINISTRATION, SOCIAL PSYCHOLOGY, MULTI-DISCIPLINARY OR GENERAL SCIENCE, TRANSPORTATION SCIENCES AND TECHNOLOGIES, ATMOSPHERIC SCIENCES AND METEOROLOGY, FORESTRY, GENERAL Social_ScienceS\n",
      "*Cluster 4 COMPUTER PROGRAMMING AND DATA PROCESSING, ELECTRICAL, MECHANICAL, AND PRECISION TECHNOLOGIES AND PRODUCTION, BOTANY, HUMAN RESOURCES AND PERSONNEL MANAGEMENT, MISCELLANEOUS HEALTH MEDICAL PROFESSIONS, GEOSCIENCES, ENVIRONMENTAL SCIENCE, COMMUNICATIONS, CRIMINAL JUSTICE AND FIRE PROTECTION, COMMERCIAL ART AND GRAPHIC DESIGN, JOURNALISM, ADVERTISING AND PUBLIC RELATIONS, AREA ETHNIC AND CIVILIZATION STUDIES, SPECIAL NEEDS EDUCATION, PHYSIOLOGY, CRIMINOLOGY, NUTRITION SCIENCES, HEALTH AND MEDICAL ADMINISTRATIVE SERVICES, COMMUNICATION TECHNOLOGIES, NATURAL RESOURCES MANAGEMENT, NEUROSCIENCE, MULTI/INTERDISCIPLINARY STUDIES, SOIL SCIENCE, GENERAL EDUCATION, HISTORY, FRENCH GERMAN LATIN AND OTHER COMMON FOREIGN LANGUAGE STUDIES, INTERCULTURAL AND INTERNATIONAL STUDIES, Social_Science OR HISTORY TEACHER EDUCATION, COMMUNITY AND PUBLIC HEALTH, MATHEMATICS TEACHER EDUCATION, EDUCATIONAL ADMINISTRATION AND SUPERVISION, HEALTH AND MEDICAL PREPARATORY PROGRAMS, MISCELLANEOUS BIOLOGY, BIOLOGY, SOCIOLOGY, MASS MEDIA, TREATMENT THERAPY PROFESSIONS, HOSPITALITY MANAGEMENT, LANGUAGE AND DRAMA EDUCATION, LINGUISTICS AND COMPARATIVE LANGUAGE AND LITERATURE, MISCELLANEOUS EDUCATION, INTERDISCIPLINARY Social_ScienceS, ECOLOGY, SECONDARY TEACHER EDUCATION, GENERAL MEDICAL AND HEALTH SERVICES, PHILOSOPHY AND RELIGIOUS STUDIES, ART AND MUSIC EDUCATION, ENGLISH LANGUAGE AND LITERATURE, ELEMENTARY EDUCATION, PHYSICAL FITNESS PARKS RECREATION AND LEISURE, LIBERAL ARTS, FILM VIDEO AND PHOTOGRAPHIC ARTS, PLANT SCIENCE AND AGRONOMY, SCIENCE AND COMPUTER TEACHER EDUCATION, PSYCHOLOGY, MUSIC, PHYSICAL AND HEALTH EDUCATION TEACHING, ART HISTORY AND CRITICISM, FINE ARTS, FAMILY AND CONSUMER SCIENCES, SOCIAL WORK, ANIMAL SCIENCES, VISUAL AND PERFORMING ARTS, TEACHER EDUCATION: MULTIPLE LEVELS, MISCELLANEOUS PSYCHOLOGY, HUMAN SERVICES AND COMMUNITY ORGANIZATION, HUMANITIES, THEOLOGY AND RELIGIOUS VOCATIONS, STUDIO ARTS, COSMETOLOGY SERVICES AND CULINARY ARTS, MISCELLANEOUS AGRICULTURE, ANTHROPOLOGY AND ARCHEOLOGY, COMMUNICATION DISORDERS SCIENCES AND SERVICES, EARLY CHILDHOOD EDUCATION, OTHER FOREIGN LANGUAGES, DRAMA AND THEATER ARTS, COMPOSITION AND RHETORIC, ZOOLOGY, EDUCATIONAL PSYCHOLOGY, CLINICAL PSYCHOLOGY, COUNSELING PSYCHOLOGY, LIBRARY SCIENCE\n"
     ]
    }
   ],
   "source": [
    "majors_clustered_desc = clusters_majors_df['Majors'].tolist()\n",
    "\n",
    "for (num,item) in enumerate(majors_clustered_desc):\n",
    "    print('*Cluster', num+1, item)"
   ]
  },
  {
   "cell_type": "markdown",
   "metadata": {},
   "source": [
    "### Analysis\n",
    "The four clusters that emerge from the k-means algorithm follow an interesting pattern. Overall, there are two higher-income clusters, one with slightly higher unemployment and one with slightly lower, and two lower-income clusters, again with differential unemployment rates. Notably, the two clusters in each income group vary quite a bit by `ShareWomen`.\n",
    "\n",
    "*Cluster 3*, which is #1 by median income, is a small, but lucrative cluster. It includes only a 7 STEM majors, notably Petroleum Engineering. The 75th percentile in this cluster is more than 3x the median of the lowest earning cluster. Only 20% of these graduates are women.\n",
    "\n",
    "*Cluster 2* is another high-income group, but less lucrative, especially at the top. The median income of this cluster is only about half of P75th of Cluster 3. These majors are mostly STEM, but include some quantitative business majors, including finance, management information systems, and economics. This cluster is more female than Cluster 3 (~31 percent), and one very female-oriented major is present: Nursing. Finally, unemployment is lower in Cluster 2 than in the more lucrative, but slightly riskier Cluster 3.\n",
    "\n",
    "*Cluster 0*, which is #3 by median income, includes a variety of business, social science, STEM, and health professions. Income is much lower than the preceding two clusters: the 25th percentile is the lowest among all clusters and unemployment is highest among all clusters. The share of women is almost 50%.\n",
    "\n",
    "*Cluster 1*, finally, is the largest cluster and lowest earning one by median income (median: $32,200), and it has by far the highest share of part-time work. Women dominate this cluster at over 60 percent. In addition to social sciences like psychology and sciences like Botany, the vast majorty of education, fine arts, and humanities majors are in this group."
   ]
  },
  {
   "cell_type": "markdown",
   "metadata": {},
   "source": [
    "See below for the clusters with `ShareWomen` included:"
   ]
  },
  {
   "cell_type": "code",
   "execution_count": 73,
   "metadata": {},
   "outputs": [
    {
     "data": {
      "text/html": [
       "<div>\n",
       "<style scoped>\n",
       "    .dataframe tbody tr th:only-of-type {\n",
       "        vertical-align: middle;\n",
       "    }\n",
       "\n",
       "    .dataframe tbody tr th {\n",
       "        vertical-align: top;\n",
       "    }\n",
       "\n",
       "    .dataframe thead th {\n",
       "        text-align: right;\n",
       "    }\n",
       "</style>\n",
       "<table border=\"1\" class=\"dataframe\">\n",
       "  <thead>\n",
       "    <tr style=\"text-align: right;\">\n",
       "      <th></th>\n",
       "      <th>Unemployment_rate</th>\n",
       "      <th>Median</th>\n",
       "      <th>P25th</th>\n",
       "      <th>P75th</th>\n",
       "      <th>SharePT</th>\n",
       "      <th>ShareWomen</th>\n",
       "    </tr>\n",
       "    <tr>\n",
       "      <th>Clusters</th>\n",
       "      <th></th>\n",
       "      <th></th>\n",
       "      <th></th>\n",
       "      <th></th>\n",
       "      <th></th>\n",
       "      <th></th>\n",
       "    </tr>\n",
       "  </thead>\n",
       "  <tbody>\n",
       "    <tr>\n",
       "      <th>3</th>\n",
       "      <td>0.071622</td>\n",
       "      <td>77000.000000</td>\n",
       "      <td>56300.000000</td>\n",
       "      <td>106200.000000</td>\n",
       "      <td>0.181375</td>\n",
       "      <td>0.211227</td>\n",
       "    </tr>\n",
       "    <tr>\n",
       "      <th>2</th>\n",
       "      <td>0.061042</td>\n",
       "      <td>53086.111111</td>\n",
       "      <td>38213.888889</td>\n",
       "      <td>66972.222222</td>\n",
       "      <td>0.171116</td>\n",
       "      <td>0.310714</td>\n",
       "    </tr>\n",
       "    <tr>\n",
       "      <th>0</th>\n",
       "      <td>0.072290</td>\n",
       "      <td>39924.489796</td>\n",
       "      <td>29902.040816</td>\n",
       "      <td>51467.346939</td>\n",
       "      <td>0.212234</td>\n",
       "      <td>0.467331</td>\n",
       "    </tr>\n",
       "    <tr>\n",
       "      <th>1</th>\n",
       "      <td>0.068320</td>\n",
       "      <td>32204.878049</td>\n",
       "      <td>23772.560976</td>\n",
       "      <td>41153.658537</td>\n",
       "      <td>0.254787</td>\n",
       "      <td>0.666846</td>\n",
       "    </tr>\n",
       "  </tbody>\n",
       "</table>\n",
       "</div>"
      ],
      "text/plain": [
       "          Unemployment_rate        Median         P25th          P75th  \\\n",
       "Clusters                                                                 \n",
       "3                  0.071622  77000.000000  56300.000000  106200.000000   \n",
       "2                  0.061042  53086.111111  38213.888889   66972.222222   \n",
       "0                  0.072290  39924.489796  29902.040816   51467.346939   \n",
       "1                  0.068320  32204.878049  23772.560976   41153.658537   \n",
       "\n",
       "           SharePT  ShareWomen  \n",
       "Clusters                        \n",
       "3         0.181375    0.211227  \n",
       "2         0.171116    0.310714  \n",
       "0         0.212234    0.467331  \n",
       "1         0.254787    0.666846  "
      ]
     },
     "execution_count": 73,
     "metadata": {},
     "output_type": "execute_result"
    }
   ],
   "source": [
    "KMeans_df.groupby(['Clusters']).mean().sort_values(by=['Median'], ascending=False)"
   ]
  },
  {
   "cell_type": "code",
   "execution_count": 74,
   "metadata": {},
   "outputs": [],
   "source": [
    "KMeans_merge = pd.concat([KMeans_df, Recent_DataX.iloc[:,9:]], axis=1)\n",
    "KMeans_merge['Total'] = df_recent['Total']"
   ]
  },
  {
   "cell_type": "markdown",
   "metadata": {},
   "source": [
    "We can also look at the 4 clusters by their categories. For example, business and engineering majors are the only top categories to appear in either the best or second-best clusters (#3 and #2)."
   ]
  },
  {
   "cell_type": "code",
   "execution_count": 75,
   "metadata": {},
   "outputs": [
    {
     "data": {
      "text/html": [
       "<div>\n",
       "<style scoped>\n",
       "    .dataframe tbody tr th:only-of-type {\n",
       "        vertical-align: middle;\n",
       "    }\n",
       "\n",
       "    .dataframe tbody tr th {\n",
       "        vertical-align: top;\n",
       "    }\n",
       "\n",
       "    .dataframe thead th {\n",
       "        text-align: right;\n",
       "    }\n",
       "</style>\n",
       "<table border=\"1\" class=\"dataframe\">\n",
       "  <thead>\n",
       "    <tr style=\"text-align: right;\">\n",
       "      <th></th>\n",
       "      <th>Median</th>\n",
       "      <th>Major_category_Agriculture_and_Natural_Resources</th>\n",
       "      <th>Major_category_Arts</th>\n",
       "      <th>Major_category_Biology_and_Life_Science</th>\n",
       "      <th>Major_category_Business</th>\n",
       "      <th>Major_category_Communications_and_Journalism</th>\n",
       "      <th>Major_category_Computer_and_Mathematics</th>\n",
       "      <th>Major_category_Education</th>\n",
       "      <th>Major_category_Engineering</th>\n",
       "      <th>Major_category_Health</th>\n",
       "      <th>Major_category_Humanities_and_Liberal_Arts</th>\n",
       "      <th>Major_category_Industrial_Arts_and_Consumer_Services</th>\n",
       "      <th>Major_category_Interdisciplinary</th>\n",
       "      <th>Major_category_Physical_Sciences</th>\n",
       "      <th>Major_category_Psychology_and_Social_Work</th>\n",
       "      <th>Major_category_Social_Science</th>\n",
       "    </tr>\n",
       "    <tr>\n",
       "      <th>Clusters</th>\n",
       "      <th></th>\n",
       "      <th></th>\n",
       "      <th></th>\n",
       "      <th></th>\n",
       "      <th></th>\n",
       "      <th></th>\n",
       "      <th></th>\n",
       "      <th></th>\n",
       "      <th></th>\n",
       "      <th></th>\n",
       "      <th></th>\n",
       "      <th></th>\n",
       "      <th></th>\n",
       "      <th></th>\n",
       "      <th></th>\n",
       "      <th></th>\n",
       "    </tr>\n",
       "  </thead>\n",
       "  <tbody>\n",
       "    <tr>\n",
       "      <th>3</th>\n",
       "      <td>77000.000000</td>\n",
       "      <td>0.000000</td>\n",
       "      <td>0.000000</td>\n",
       "      <td>0.000000</td>\n",
       "      <td>0.000000</td>\n",
       "      <td>0.00000</td>\n",
       "      <td>0.000000</td>\n",
       "      <td>0.000000</td>\n",
       "      <td>0.800000</td>\n",
       "      <td>0.000000</td>\n",
       "      <td>0.000000</td>\n",
       "      <td>0.000000</td>\n",
       "      <td>0.000000</td>\n",
       "      <td>0.200000</td>\n",
       "      <td>0.000000</td>\n",
       "      <td>0.000000</td>\n",
       "    </tr>\n",
       "    <tr>\n",
       "      <th>2</th>\n",
       "      <td>53086.111111</td>\n",
       "      <td>0.000000</td>\n",
       "      <td>0.027778</td>\n",
       "      <td>0.055556</td>\n",
       "      <td>0.111111</td>\n",
       "      <td>0.00000</td>\n",
       "      <td>0.083333</td>\n",
       "      <td>0.000000</td>\n",
       "      <td>0.583333</td>\n",
       "      <td>0.055556</td>\n",
       "      <td>0.000000</td>\n",
       "      <td>0.027778</td>\n",
       "      <td>0.000000</td>\n",
       "      <td>0.027778</td>\n",
       "      <td>0.000000</td>\n",
       "      <td>0.027778</td>\n",
       "    </tr>\n",
       "    <tr>\n",
       "      <th>0</th>\n",
       "      <td>39924.489796</td>\n",
       "      <td>0.081633</td>\n",
       "      <td>0.000000</td>\n",
       "      <td>0.163265</td>\n",
       "      <td>0.142857</td>\n",
       "      <td>0.00000</td>\n",
       "      <td>0.122449</td>\n",
       "      <td>0.020408</td>\n",
       "      <td>0.081633</td>\n",
       "      <td>0.040816</td>\n",
       "      <td>0.020408</td>\n",
       "      <td>0.040816</td>\n",
       "      <td>0.000000</td>\n",
       "      <td>0.142857</td>\n",
       "      <td>0.040816</td>\n",
       "      <td>0.102041</td>\n",
       "    </tr>\n",
       "    <tr>\n",
       "      <th>1</th>\n",
       "      <td>32204.878049</td>\n",
       "      <td>0.060976</td>\n",
       "      <td>0.085366</td>\n",
       "      <td>0.109756</td>\n",
       "      <td>0.024390</td>\n",
       "      <td>0.04878</td>\n",
       "      <td>0.024390</td>\n",
       "      <td>0.182927</td>\n",
       "      <td>0.000000</td>\n",
       "      <td>0.097561</td>\n",
       "      <td>0.170732</td>\n",
       "      <td>0.048780</td>\n",
       "      <td>0.012195</td>\n",
       "      <td>0.012195</td>\n",
       "      <td>0.085366</td>\n",
       "      <td>0.036585</td>\n",
       "    </tr>\n",
       "  </tbody>\n",
       "</table>\n",
       "</div>"
      ],
      "text/plain": [
       "                Median  Major_category_Agriculture_and_Natural_Resources  \\\n",
       "Clusters                                                                   \n",
       "3         77000.000000                                          0.000000   \n",
       "2         53086.111111                                          0.000000   \n",
       "0         39924.489796                                          0.081633   \n",
       "1         32204.878049                                          0.060976   \n",
       "\n",
       "          Major_category_Arts  Major_category_Biology_and_Life_Science  \\\n",
       "Clusters                                                                 \n",
       "3                    0.000000                                 0.000000   \n",
       "2                    0.027778                                 0.055556   \n",
       "0                    0.000000                                 0.163265   \n",
       "1                    0.085366                                 0.109756   \n",
       "\n",
       "          Major_category_Business  \\\n",
       "Clusters                            \n",
       "3                        0.000000   \n",
       "2                        0.111111   \n",
       "0                        0.142857   \n",
       "1                        0.024390   \n",
       "\n",
       "          Major_category_Communications_and_Journalism  \\\n",
       "Clusters                                                 \n",
       "3                                              0.00000   \n",
       "2                                              0.00000   \n",
       "0                                              0.00000   \n",
       "1                                              0.04878   \n",
       "\n",
       "          Major_category_Computer_and_Mathematics  Major_category_Education  \\\n",
       "Clusters                                                                      \n",
       "3                                        0.000000                  0.000000   \n",
       "2                                        0.083333                  0.000000   \n",
       "0                                        0.122449                  0.020408   \n",
       "1                                        0.024390                  0.182927   \n",
       "\n",
       "          Major_category_Engineering  Major_category_Health  \\\n",
       "Clusters                                                      \n",
       "3                           0.800000               0.000000   \n",
       "2                           0.583333               0.055556   \n",
       "0                           0.081633               0.040816   \n",
       "1                           0.000000               0.097561   \n",
       "\n",
       "          Major_category_Humanities_and_Liberal_Arts  \\\n",
       "Clusters                                               \n",
       "3                                           0.000000   \n",
       "2                                           0.000000   \n",
       "0                                           0.020408   \n",
       "1                                           0.170732   \n",
       "\n",
       "          Major_category_Industrial_Arts_and_Consumer_Services  \\\n",
       "Clusters                                                         \n",
       "3                                                  0.000000      \n",
       "2                                                  0.027778      \n",
       "0                                                  0.040816      \n",
       "1                                                  0.048780      \n",
       "\n",
       "          Major_category_Interdisciplinary  Major_category_Physical_Sciences  \\\n",
       "Clusters                                                                       \n",
       "3                                 0.000000                          0.200000   \n",
       "2                                 0.000000                          0.027778   \n",
       "0                                 0.000000                          0.142857   \n",
       "1                                 0.012195                          0.012195   \n",
       "\n",
       "          Major_category_Psychology_and_Social_Work  \\\n",
       "Clusters                                              \n",
       "3                                          0.000000   \n",
       "2                                          0.000000   \n",
       "0                                          0.040816   \n",
       "1                                          0.085366   \n",
       "\n",
       "          Major_category_Social_Science  \n",
       "Clusters                                 \n",
       "3                              0.000000  \n",
       "2                              0.027778  \n",
       "0                              0.102041  \n",
       "1                              0.036585  "
      ]
     },
     "execution_count": 75,
     "metadata": {},
     "output_type": "execute_result"
    }
   ],
   "source": [
    "KMeans_merge[['Clusters', 'Median', 'Major_category_Agriculture_and_Natural_Resources',\n",
    "       'Major_category_Arts', 'Major_category_Biology_and_Life_Science','Major_category_Business',\n",
    "       'Major_category_Communications_and_Journalism', 'Major_category_Computer_and_Mathematics',\n",
    "       'Major_category_Education', 'Major_category_Engineering', 'Major_category_Health',\n",
    "       'Major_category_Humanities_and_Liberal_Arts', 'Major_category_Industrial_Arts_and_Consumer_Services',\n",
    "       'Major_category_Interdisciplinary', 'Major_category_Physical_Sciences', \n",
    "       'Major_category_Psychology_and_Social_Work',\n",
    "       'Major_category_Social_Science']].groupby(['Clusters']).mean().sort_values(by=['Median'], ascending=False)"
   ]
  },
  {
   "cell_type": "markdown",
   "metadata": {},
   "source": [
    "Finally, in a list of the top 20 most common majors, there are no majors from the wealthiest cluster (#3), and only 4 majors from #2, the second wealthiest cluster. These majors are Nursing, Finance, Economics, and Computer Science."
   ]
  },
  {
   "cell_type": "code",
   "execution_count": 76,
   "metadata": {},
   "outputs": [
    {
     "data": {
      "text/html": [
       "<div>\n",
       "<style scoped>\n",
       "    .dataframe tbody tr th:only-of-type {\n",
       "        vertical-align: middle;\n",
       "    }\n",
       "\n",
       "    .dataframe tbody tr th {\n",
       "        vertical-align: top;\n",
       "    }\n",
       "\n",
       "    .dataframe thead th {\n",
       "        text-align: right;\n",
       "    }\n",
       "</style>\n",
       "<table border=\"1\" class=\"dataframe\">\n",
       "  <thead>\n",
       "    <tr style=\"text-align: right;\">\n",
       "      <th></th>\n",
       "      <th>Clusters</th>\n",
       "      <th>Major</th>\n",
       "      <th>Total</th>\n",
       "    </tr>\n",
       "  </thead>\n",
       "  <tbody>\n",
       "    <tr>\n",
       "      <th>145</th>\n",
       "      <td>1</td>\n",
       "      <td>PSYCHOLOGY</td>\n",
       "      <td>393735.0</td>\n",
       "    </tr>\n",
       "    <tr>\n",
       "      <th>76</th>\n",
       "      <td>0</td>\n",
       "      <td>BUSINESS MANAGEMENT AND ADMINISTRATION</td>\n",
       "      <td>329927.0</td>\n",
       "    </tr>\n",
       "    <tr>\n",
       "      <th>123</th>\n",
       "      <td>1</td>\n",
       "      <td>BIOLOGY</td>\n",
       "      <td>280709.0</td>\n",
       "    </tr>\n",
       "    <tr>\n",
       "      <th>57</th>\n",
       "      <td>0</td>\n",
       "      <td>GENERAL BUSINESS</td>\n",
       "      <td>234590.0</td>\n",
       "    </tr>\n",
       "    <tr>\n",
       "      <th>93</th>\n",
       "      <td>1</td>\n",
       "      <td>COMMUNICATIONS</td>\n",
       "      <td>213996.0</td>\n",
       "    </tr>\n",
       "    <tr>\n",
       "      <th>34</th>\n",
       "      <td>2</td>\n",
       "      <td>NURSING</td>\n",
       "      <td>209394.0</td>\n",
       "    </tr>\n",
       "    <tr>\n",
       "      <th>77</th>\n",
       "      <td>0</td>\n",
       "      <td>MARKETING AND MARKETING RESEARCH</td>\n",
       "      <td>205211.0</td>\n",
       "    </tr>\n",
       "    <tr>\n",
       "      <th>40</th>\n",
       "      <td>0</td>\n",
       "      <td>ACCOUNTING</td>\n",
       "      <td>198633.0</td>\n",
       "    </tr>\n",
       "    <tr>\n",
       "      <th>137</th>\n",
       "      <td>1</td>\n",
       "      <td>ENGLISH LANGUAGE AND LITERATURE</td>\n",
       "      <td>194673.0</td>\n",
       "    </tr>\n",
       "    <tr>\n",
       "      <th>78</th>\n",
       "      <td>0</td>\n",
       "      <td>POLITICAL SCIENCE AND GOVERNMENT</td>\n",
       "      <td>182621.0</td>\n",
       "    </tr>\n",
       "    <tr>\n",
       "      <th>35</th>\n",
       "      <td>2</td>\n",
       "      <td>FINANCE</td>\n",
       "      <td>174506.0</td>\n",
       "    </tr>\n",
       "    <tr>\n",
       "      <th>138</th>\n",
       "      <td>1</td>\n",
       "      <td>ELEMENTARY EDUCATION</td>\n",
       "      <td>170862.0</td>\n",
       "    </tr>\n",
       "    <tr>\n",
       "      <th>94</th>\n",
       "      <td>1</td>\n",
       "      <td>CRIMINAL JUSTICE AND FIRE PROTECTION</td>\n",
       "      <td>152824.0</td>\n",
       "    </tr>\n",
       "    <tr>\n",
       "      <th>113</th>\n",
       "      <td>1</td>\n",
       "      <td>GENERAL EDUCATION</td>\n",
       "      <td>143718.0</td>\n",
       "    </tr>\n",
       "    <tr>\n",
       "      <th>114</th>\n",
       "      <td>1</td>\n",
       "      <td>HISTORY</td>\n",
       "      <td>141951.0</td>\n",
       "    </tr>\n",
       "    <tr>\n",
       "      <th>36</th>\n",
       "      <td>2</td>\n",
       "      <td>ECONOMICS</td>\n",
       "      <td>139247.0</td>\n",
       "    </tr>\n",
       "    <tr>\n",
       "      <th>20</th>\n",
       "      <td>2</td>\n",
       "      <td>COMPUTER SCIENCE</td>\n",
       "      <td>128319.0</td>\n",
       "    </tr>\n",
       "    <tr>\n",
       "      <th>139</th>\n",
       "      <td>1</td>\n",
       "      <td>PHYSICAL FITNESS PARKS RECREATION AND LEISURE</td>\n",
       "      <td>125074.0</td>\n",
       "    </tr>\n",
       "    <tr>\n",
       "      <th>124</th>\n",
       "      <td>1</td>\n",
       "      <td>SOCIOLOGY</td>\n",
       "      <td>115433.0</td>\n",
       "    </tr>\n",
       "    <tr>\n",
       "      <th>95</th>\n",
       "      <td>1</td>\n",
       "      <td>COMMERCIAL ART AND GRAPHIC DESIGN</td>\n",
       "      <td>103480.0</td>\n",
       "    </tr>\n",
       "  </tbody>\n",
       "</table>\n",
       "</div>"
      ],
      "text/plain": [
       "     Clusters                                          Major     Total\n",
       "145         1                                     PSYCHOLOGY  393735.0\n",
       "76          0         BUSINESS MANAGEMENT AND ADMINISTRATION  329927.0\n",
       "123         1                                        BIOLOGY  280709.0\n",
       "57          0                               GENERAL BUSINESS  234590.0\n",
       "93          1                                 COMMUNICATIONS  213996.0\n",
       "34          2                                        NURSING  209394.0\n",
       "77          0               MARKETING AND MARKETING RESEARCH  205211.0\n",
       "40          0                                     ACCOUNTING  198633.0\n",
       "137         1                ENGLISH LANGUAGE AND LITERATURE  194673.0\n",
       "78          0               POLITICAL SCIENCE AND GOVERNMENT  182621.0\n",
       "35          2                                        FINANCE  174506.0\n",
       "138         1                           ELEMENTARY EDUCATION  170862.0\n",
       "94          1           CRIMINAL JUSTICE AND FIRE PROTECTION  152824.0\n",
       "113         1                              GENERAL EDUCATION  143718.0\n",
       "114         1                                        HISTORY  141951.0\n",
       "36          2                                      ECONOMICS  139247.0\n",
       "20          2                               COMPUTER SCIENCE  128319.0\n",
       "139         1  PHYSICAL FITNESS PARKS RECREATION AND LEISURE  125074.0\n",
       "124         1                                      SOCIOLOGY  115433.0\n",
       "95          1              COMMERCIAL ART AND GRAPHIC DESIGN  103480.0"
      ]
     },
     "execution_count": 76,
     "metadata": {},
     "output_type": "execute_result"
    }
   ],
   "source": [
    "KMeans_merge[['Clusters', 'Major', 'Total']].sort_values(by=['Total'], ascending=False).iloc[:20,:]"
   ]
  },
  {
   "cell_type": "markdown",
   "metadata": {},
   "source": [
    "## Visualization With Principal Component Analysis"
   ]
  },
  {
   "cell_type": "code",
   "execution_count": 77,
   "metadata": {},
   "outputs": [],
   "source": [
    "from sklearn.decomposition import PCA"
   ]
  },
  {
   "cell_type": "code",
   "execution_count": 78,
   "metadata": {},
   "outputs": [],
   "source": [
    "pca_kmeans = PCA(n_components=2)\n",
    "principalComponents_kmeans = pca_kmeans.fit_transform(KMeans_merge.drop('Major',axis=1))"
   ]
  },
  {
   "cell_type": "code",
   "execution_count": 79,
   "metadata": {},
   "outputs": [],
   "source": [
    "principal_kmeans = pd.DataFrame(data = principalComponents_kmeans, \n",
    "                               columns = ['principal component 1', 'principal component 2'])"
   ]
  },
  {
   "cell_type": "code",
   "execution_count": 80,
   "metadata": {},
   "outputs": [],
   "source": [
    "principal_kmeans.dropna(inplace=True)\n",
    "principal_kmeans['Clusters'] = KMeans_merge['Clusters'].astype(int)"
   ]
  },
  {
   "cell_type": "code",
   "execution_count": 81,
   "metadata": {},
   "outputs": [
    {
     "data": {
      "text/html": [
       "<div>\n",
       "<style scoped>\n",
       "    .dataframe tbody tr th:only-of-type {\n",
       "        vertical-align: middle;\n",
       "    }\n",
       "\n",
       "    .dataframe tbody tr th {\n",
       "        vertical-align: top;\n",
       "    }\n",
       "\n",
       "    .dataframe thead th {\n",
       "        text-align: right;\n",
       "    }\n",
       "</style>\n",
       "<table border=\"1\" class=\"dataframe\">\n",
       "  <thead>\n",
       "    <tr style=\"text-align: right;\">\n",
       "      <th></th>\n",
       "      <th>principal component 1</th>\n",
       "      <th>principal component 2</th>\n",
       "      <th>Clusters</th>\n",
       "    </tr>\n",
       "  </thead>\n",
       "  <tbody>\n",
       "    <tr>\n",
       "      <th>0</th>\n",
       "      <td>-40848.907109</td>\n",
       "      <td>117587.336871</td>\n",
       "      <td>3.0</td>\n",
       "    </tr>\n",
       "    <tr>\n",
       "      <th>1</th>\n",
       "      <td>-40466.356266</td>\n",
       "      <td>56515.910416</td>\n",
       "      <td>3.0</td>\n",
       "    </tr>\n",
       "    <tr>\n",
       "      <th>2</th>\n",
       "      <td>-40592.410730</td>\n",
       "      <td>64236.870008</td>\n",
       "      <td>3.0</td>\n",
       "    </tr>\n",
       "    <tr>\n",
       "      <th>3</th>\n",
       "      <td>-39501.743052</td>\n",
       "      <td>41668.354038</td>\n",
       "      <td>2.0</td>\n",
       "    </tr>\n",
       "    <tr>\n",
       "      <th>4</th>\n",
       "      <td>-8383.831932</td>\n",
       "      <td>39067.592013</td>\n",
       "      <td>2.0</td>\n",
       "    </tr>\n",
       "  </tbody>\n",
       "</table>\n",
       "</div>"
      ],
      "text/plain": [
       "   principal component 1  principal component 2  Clusters\n",
       "0          -40848.907109          117587.336871       3.0\n",
       "1          -40466.356266           56515.910416       3.0\n",
       "2          -40592.410730           64236.870008       3.0\n",
       "3          -39501.743052           41668.354038       2.0\n",
       "4           -8383.831932           39067.592013       2.0"
      ]
     },
     "execution_count": 81,
     "metadata": {},
     "output_type": "execute_result"
    }
   ],
   "source": [
    "principal_kmeans.head()"
   ]
  },
  {
   "cell_type": "code",
   "execution_count": 82,
   "metadata": {},
   "outputs": [
    {
     "data": {
      "text/html": [
       "<div>\n",
       "<style scoped>\n",
       "    .dataframe tbody tr th:only-of-type {\n",
       "        vertical-align: middle;\n",
       "    }\n",
       "\n",
       "    .dataframe tbody tr th {\n",
       "        vertical-align: top;\n",
       "    }\n",
       "\n",
       "    .dataframe thead th {\n",
       "        text-align: right;\n",
       "    }\n",
       "</style>\n",
       "<table border=\"1\" class=\"dataframe\">\n",
       "  <thead>\n",
       "    <tr style=\"text-align: right;\">\n",
       "      <th></th>\n",
       "      <th>principal component 1</th>\n",
       "      <th>principal component 2</th>\n",
       "      <th>Clusters</th>\n",
       "    </tr>\n",
       "  </thead>\n",
       "  <tbody>\n",
       "    <tr>\n",
       "      <th>principal component 1</th>\n",
       "      <td>1.000000e+00</td>\n",
       "      <td>-5.536575e-17</td>\n",
       "      <td>-0.023540</td>\n",
       "    </tr>\n",
       "    <tr>\n",
       "      <th>principal component 2</th>\n",
       "      <td>-5.536575e-17</td>\n",
       "      <td>1.000000e+00</td>\n",
       "      <td>0.532303</td>\n",
       "    </tr>\n",
       "    <tr>\n",
       "      <th>Clusters</th>\n",
       "      <td>-2.354035e-02</td>\n",
       "      <td>5.323029e-01</td>\n",
       "      <td>1.000000</td>\n",
       "    </tr>\n",
       "  </tbody>\n",
       "</table>\n",
       "</div>"
      ],
      "text/plain": [
       "                       principal component 1  principal component 2  Clusters\n",
       "principal component 1           1.000000e+00          -5.536575e-17 -0.023540\n",
       "principal component 2          -5.536575e-17           1.000000e+00  0.532303\n",
       "Clusters                       -2.354035e-02           5.323029e-01  1.000000"
      ]
     },
     "execution_count": 82,
     "metadata": {},
     "output_type": "execute_result"
    }
   ],
   "source": [
    "principal_kmeans.corr()"
   ]
  },
  {
   "cell_type": "code",
   "execution_count": 83,
   "metadata": {},
   "outputs": [
    {
     "data": {
      "text/plain": [
       "Text(0.5, 1.0, 'Principal Component Analysis of College Major Clusters (K-Means)')"
      ]
     },
     "execution_count": 83,
     "metadata": {},
     "output_type": "execute_result"
    },
    {
     "data": {
      "image/png": "[encoded data removed]",
      "text/plain": [
       "<Figure size 432x288 with 1 Axes>"
      ]
     },
     "metadata": {},
     "output_type": "display_data"
    }
   ],
   "source": [
    "kmeans_biplot = sns.scatterplot(x=\"principal component 1\", y=\"principal component 2\", hue=\"Clusters\",\n",
    "              data=principal_kmeans, palette=['r','g','b','y'], legend='full')\n",
    "\n",
    "plt.title('Principal Component Analysis of College Major Clusters (K-Means)', fontsize=12)"
   ]
  },
  {
   "cell_type": "code",
   "execution_count": 85,
   "metadata": {},
   "outputs": [],
   "source": [
    "kmeans_biplot.figure.savefig(\"kmeans_pca_plot.png\")"
   ]
  },
  {
   "cell_type": "markdown",
   "metadata": {},
   "source": [
    "## K-Nearest Neighbors to Cluster Majors By Income and Unemployment"
   ]
  },
  {
   "cell_type": "markdown",
   "metadata": {},
   "source": [
    "K-Nearest Neighbors is a predictive classifiction algorithm that will be used to here to predict median income and unemployment rate from `ShareWomen` and the major category dummies. In a multiple linear regression, these variables had an R-squared of >0.6 and will be used here to create clusters of majors. The optimal number of clusters are chosen in the loops below. "
   ]
  },
  {
   "cell_type": "markdown",
   "metadata": {},
   "source": [
    "Note that these models are predictive, not descriptive like K-Means, so the goal here is to predict which cluster each major would belong to, based on its category and gender chacteristics. The resulting clusters make intuitive sense, but the error rate is high."
   ]
  },
  {
   "cell_type": "code",
   "execution_count": 86,
   "metadata": {},
   "outputs": [],
   "source": [
    "import sklearn\n",
    "from scipy.stats.stats import pearsonr\n",
    "from sklearn.cluster import KMeans\n",
    "from sklearn.model_selection import train_test_split\n",
    "from sklearn.neighbors import KNeighborsClassifier\n",
    "from sklearn.metrics import mean_squared_error\n",
    "from math import sqrt"
   ]
  },
  {
   "cell_type": "code",
   "execution_count": 87,
   "metadata": {},
   "outputs": [],
   "source": [
    "Y_Median = df_recent[['Median']]"
   ]
  },
  {
   "cell_type": "code",
   "execution_count": 88,
   "metadata": {},
   "outputs": [],
   "source": [
    "KNN_df = pd.concat([df_recent.iloc[:,2:], Recent_DataX.iloc[:,9:]], axis=1)\n",
    "KNN_df = KNN_df.drop('Major_category', axis=1)"
   ]
  },
  {
   "cell_type": "code",
   "execution_count": 89,
   "metadata": {},
   "outputs": [
    {
     "data": {
      "text/plain": [
       "Index(['Major', 'Total', 'Men', 'Women', 'ShareWomen', 'Sample_size',\n",
       "       'Employed', 'Full_time', 'Part_time', 'Full_time_year_round',\n",
       "       'Unemployed', 'Unemployment_rate', 'Median', 'P25th', 'P75th',\n",
       "       'College_jobs', 'Non_college_jobs', 'Low_wage_jobs', 'PercentOfTotal',\n",
       "       'SharePT', 'Interact_PT_Women',\n",
       "       'Major_category_Agriculture_and_Natural_Resources',\n",
       "       'Major_category_Arts', 'Major_category_Biology_and_Life_Science',\n",
       "       'Major_category_Business',\n",
       "       'Major_category_Communications_and_Journalism',\n",
       "       'Major_category_Computer_and_Mathematics', 'Major_category_Education',\n",
       "       'Major_category_Engineering', 'Major_category_Health',\n",
       "       'Major_category_Humanities_and_Liberal_Arts',\n",
       "       'Major_category_Industrial_Arts_and_Consumer_Services',\n",
       "       'Major_category_Interdisciplinary', 'Major_category_Physical_Sciences',\n",
       "       'Major_category_Psychology_and_Social_Work',\n",
       "       'Major_category_Social_Science'],\n",
       "      dtype='object')"
      ]
     },
     "execution_count": 89,
     "metadata": {},
     "output_type": "execute_result"
    }
   ],
   "source": [
    "KNN_df.keys()"
   ]
  },
  {
   "cell_type": "code",
   "execution_count": 90,
   "metadata": {},
   "outputs": [],
   "source": [
    "X_train, X_test, Y_train, Y_test = train_test_split(KNN_df.drop(['Median', 'Major'], axis=1), Y_Median, test_size=0.3, random_state=21)"
   ]
  },
  {
   "cell_type": "code",
   "execution_count": 91,
   "metadata": {},
   "outputs": [],
   "source": [
    "# Setup arrays to store train and test accuracies\n",
    "knn_neighbors = np.arange(1, 10)\n",
    "train_mse = np.empty(len(knn_neighbors))\n",
    "test_mse = np.empty(len(knn_neighbors))"
   ]
  },
  {
   "cell_type": "code",
   "execution_count": 92,
   "metadata": {},
   "outputs": [],
   "source": [
    "# Loop over different values of k\n",
    "for i, k in enumerate(knn_neighbors):\n",
    "    # Setup a k-NN Classifier with k neighbors: knn\n",
    "    knn = KNeighborsClassifier(n_neighbors=k)\n",
    "\n",
    "    # Fit the classifier to the training data\n",
    "    knn = knn.fit(X_train, Y_train.values.ravel())\n",
    "    \n",
    "    #Compute accuracy on the training set\n",
    "    predictions = knn.predict(X_train)\n",
    "    train_mse[i] = (((predictions - Y_train.values.ravel())**2)).mean()\n",
    "\n",
    "    #Compute accuracy on the testing set\n",
    "    predictions = knn.predict(X_test)\n",
    "    test_mse[i] = (((predictions - Y_test.values.ravel())**2)).mean()"
   ]
  },
  {
   "cell_type": "code",
   "execution_count": 93,
   "metadata": {},
   "outputs": [
    {
     "data": {
      "text/plain": [
       "4322.147792297429"
      ]
     },
     "execution_count": 93,
     "metadata": {},
     "output_type": "execute_result"
    }
   ],
   "source": [
    "sqrt(min(test_mse))"
   ]
  },
  {
   "cell_type": "code",
   "execution_count": 94,
   "metadata": {},
   "outputs": [],
   "source": [
    "test_mse = test_mse.tolist()"
   ]
  },
  {
   "cell_type": "code",
   "execution_count": 95,
   "metadata": {},
   "outputs": [
    {
     "data": {
      "text/plain": [
       "0"
      ]
     },
     "execution_count": 95,
     "metadata": {},
     "output_type": "execute_result"
    }
   ],
   "source": [
    "min_index = test_mse.index(min(test_mse))\n",
    "min_index"
   ]
  },
  {
   "cell_type": "code",
   "execution_count": 96,
   "metadata": {},
   "outputs": [
    {
     "data": {
      "image/png": "[encoded data removed]",
      "text/plain": [
       "<Figure size 432x288 with 1 Axes>"
      ]
     },
     "metadata": {},
     "output_type": "display_data"
    }
   ],
   "source": [
    "# Generate plot\n",
    "plt.title('k-NN: Varying Number of Neighbors')\n",
    "plt.plot(knn_neighbors, test_mse, label = 'Test MSE')\n",
    "plt.plot(knn_neighbors, train_mse, label = 'Training MSE')\n",
    "plt.legend()\n",
    "plt.xlabel('Number of Neighbors')\n",
    "plt.ylabel('MSE')\n",
    "plt.show()"
   ]
  },
  {
   "cell_type": "code",
   "execution_count": 97,
   "metadata": {},
   "outputs": [],
   "source": [
    "X = KNN_df.drop(['Median', 'Major'], axis=1)\n",
    "Y = KNN_df['Median']"
   ]
  },
  {
   "cell_type": "code",
   "execution_count": 98,
   "metadata": {},
   "outputs": [
    {
     "data": {
      "text/plain": [
       "KNeighborsClassifier(algorithm='auto', leaf_size=30, metric='minkowski',\n",
       "                     metric_params=None, n_jobs=None, n_neighbors=1, p=2,\n",
       "                     weights='uniform')"
      ]
     },
     "execution_count": 98,
     "metadata": {},
     "output_type": "execute_result"
    }
   ],
   "source": [
    "# Create a k-NN classifier with 6 neighbors: knn\n",
    "knn_selected = KNeighborsClassifier(n_neighbors = min_index+1)\n",
    "\n",
    "# Fit the classifier to the training data\n",
    "knn_selected.fit(X, Y.values.ravel())"
   ]
  },
  {
   "cell_type": "code",
   "execution_count": 99,
   "metadata": {},
   "outputs": [],
   "source": [
    "knn_pred = knn_selected.predict(X)"
   ]
  },
  {
   "cell_type": "code",
   "execution_count": 100,
   "metadata": {},
   "outputs": [],
   "source": [
    "KNN_df['KNN_pred'] = knn_pred"
   ]
  },
  {
   "cell_type": "code",
   "execution_count": 101,
   "metadata": {},
   "outputs": [
    {
     "data": {
      "text/plain": [
       "array([110000,  75000,  73000,  70000,  65000,  62000,  60000,  58000,\n",
       "        57100,  57000,  56000,  54000,  53000,  52000,  51000,  50000,\n",
       "        48000,  47000,  46000,  45000,  44700,  44000,  42000,  41300,\n",
       "        41000,  40100,  40000,  39000,  38400,  38000,  37500,  37400,\n",
       "        37000,  36400,  36200,  36000,  35600,  35000,  34000,  33500,\n",
       "        33400,  33000,  32500,  32400,  32200,  32100,  32000,  31500,\n",
       "        31000,  30500,  30000,  29000,  28000,  27500,  27000,  26000,\n",
       "        25000,  23400,  22000], dtype=int64)"
      ]
     },
     "execution_count": 101,
     "metadata": {},
     "output_type": "execute_result"
    }
   ],
   "source": [
    "KNN_df.KNN_pred.unique()"
   ]
  },
  {
   "cell_type": "code",
   "execution_count": 102,
   "metadata": {},
   "outputs": [
    {
     "data": {
      "text/plain": [
       "array([ 22000,  23400,  25000,  26000,  27000,  27500,  28000,  29000,\n",
       "        30000,  30500,  31000,  31500,  32000,  32100,  32200,  32400,\n",
       "        32500,  33000,  33400,  33500,  34000,  35000,  35600,  36000,\n",
       "        36200,  36400,  37000,  37400,  37500,  38000,  38400,  39000,\n",
       "        40000,  40100,  41000,  41300,  42000,  44000,  44700,  45000,\n",
       "        46000,  47000,  48000,  50000,  51000,  52000,  53000,  54000,\n",
       "        56000,  57000,  57100,  58000,  60000,  62000,  65000,  70000,\n",
       "        73000,  75000, 110000], dtype=int64)"
      ]
     },
     "execution_count": 102,
     "metadata": {},
     "output_type": "execute_result"
    }
   ],
   "source": [
    "cluster_median = KNN_df.KNN_pred.unique()\n",
    "cluster_median = np.sort(cluster_median, axis=0)\n",
    "cluster_median"
   ]
  },
  {
   "cell_type": "code",
   "execution_count": 103,
   "metadata": {},
   "outputs": [
    {
     "data": {
      "text/plain": [
       "59"
      ]
     },
     "execution_count": 103,
     "metadata": {},
     "output_type": "execute_result"
    }
   ],
   "source": [
    "len(cluster_median)"
   ]
  },
  {
   "cell_type": "code",
   "execution_count": 104,
   "metadata": {},
   "outputs": [
    {
     "name": "stdout",
     "output_type": "stream",
     "text": [
      "['LIBRARY SCIENCE']\n"
     ]
    }
   ],
   "source": [
    "group_one = KNN_df[KNN_df['KNN_pred']==cluster_median[0]]\n",
    "print(group_one.Major.unique())"
   ]
  },
  {
   "cell_type": "code",
   "execution_count": 105,
   "metadata": {},
   "outputs": [
    {
     "data": {
      "text/plain": [
       "5    65000\n",
       "Name: KNN_pred, dtype: int64"
      ]
     },
     "execution_count": 105,
     "metadata": {},
     "output_type": "execute_result"
    }
   ],
   "source": [
    "major = KNN_df[KNN_df['Major']=='NUCLEAR ENGINEERING']\n",
    "major['KNN_pred']"
   ]
  },
  {
   "cell_type": "code",
   "execution_count": 106,
   "metadata": {},
   "outputs": [],
   "source": [
    "cluster_median = cluster_median.tolist()"
   ]
  },
  {
   "cell_type": "code",
   "execution_count": 107,
   "metadata": {
    "scrolled": true
   },
   "outputs": [
    {
     "name": "stdout",
     "output_type": "stream",
     "text": [
      "Clustered Median Income: 22000.0\n",
      "['LIBRARY SCIENCE']\n",
      "Clustered Median Income: 23400.0\n",
      "['COUNSELING PSYCHOLOGY']\n",
      "Clustered Median Income: 25000.0\n",
      "['EDUCATIONAL PSYCHOLOGY' 'CLINICAL PSYCHOLOGY']\n",
      "Clustered Median Income: 26000.0\n",
      "['ZOOLOGY']\n",
      "Clustered Median Income: 27000.0\n",
      "['DRAMA AND THEATER ARTS' 'COMPOSITION AND RHETORIC']\n",
      "Clustered Median Income: 27500.0\n",
      "['OTHER FOREIGN LANGUAGES']\n",
      "Clustered Median Income: 28000.0\n",
      "['ANTHROPOLOGY AND ARCHEOLOGY'\n",
      " 'COMMUNICATION DISORDERS SCIENCES AND SERVICES'\n",
      " 'EARLY CHILDHOOD EDUCATION']\n",
      "Clustered Median Income: 29000.0\n",
      "['THEOLOGY AND RELIGIOUS VOCATIONS' 'STUDIO ARTS'\n",
      " 'COSMETOLOGY SERVICES AND CULINARY ARTS' 'MISCELLANEOUS AGRICULTURE']\n",
      "Clustered Median Income: 30000.0\n",
      "['FAMILY AND CONSUMER SCIENCES' 'SOCIAL WORK' 'ANIMAL SCIENCES'\n",
      " 'VISUAL AND PERFORMING ARTS' 'TEACHER EDUCATION: MULTIPLE LEVELS'\n",
      " 'MISCELLANEOUS PSYCHOLOGY' 'HUMAN SERVICES AND COMMUNITY ORGANIZATION'\n",
      " 'HUMANITIES']\n",
      "Clustered Median Income: 30500.0\n",
      "['FINE ARTS']\n",
      "Clustered Median Income: 31000.0\n",
      "['MUSIC' 'PHYSICAL AND HEALTH EDUCATION TEACHING'\n",
      " 'ART HISTORY AND CRITICISM']\n",
      "Clustered Median Income: 31500.0\n",
      "['PSYCHOLOGY']\n",
      "Clustered Median Income: 32000.0\n",
      "['ENGLISH LANGUAGE AND LITERATURE' 'ELEMENTARY EDUCATION'\n",
      " 'PHYSICAL FITNESS PARKS RECREATION AND LEISURE' 'LIBERAL ARTS'\n",
      " 'FILM VIDEO AND PHOTOGRAPHIC ARTS' 'GENERAL Social_ScienceS'\n",
      " 'PLANT SCIENCE AND AGRONOMY' 'SCIENCE AND COMPUTER TEACHER EDUCATION']\n",
      "Clustered Median Income: 32100.0\n",
      "['ART AND MUSIC EDUCATION']\n",
      "Clustered Median Income: 32200.0\n",
      "['PHILOSOPHY AND RELIGIOUS STUDIES']\n",
      "Clustered Median Income: 32400.0\n",
      "['GENERAL MEDICAL AND HEALTH SERVICES']\n",
      "Clustered Median Income: 32500.0\n",
      "['SECONDARY TEACHER EDUCATION']\n",
      "Clustered Median Income: 33000.0\n",
      "['SOCIOLOGY' 'MASS MEDIA' 'TREATMENT THERAPY PROFESSIONS'\n",
      " 'HOSPITALITY MANAGEMENT' 'LANGUAGE AND DRAMA EDUCATION'\n",
      " 'LINGUISTICS AND COMPARATIVE LANGUAGE AND LITERATURE'\n",
      " 'MISCELLANEOUS EDUCATION' 'INTERDISCIPLINARY Social_ScienceS' 'ECOLOGY']\n",
      "Clustered Median Income: 33400.0\n",
      "['BIOLOGY']\n",
      "Clustered Median Income: 33500.0\n",
      "['HEALTH AND MEDICAL PREPARATORY PROGRAMS' 'MISCELLANEOUS BIOLOGY']\n",
      "Clustered Median Income: 34000.0\n",
      "['GENERAL EDUCATION' 'HISTORY'\n",
      " 'FRENCH GERMAN LATIN AND OTHER COMMON FOREIGN LANGUAGE STUDIES'\n",
      " 'INTERCULTURAL AND INTERNATIONAL STUDIES'\n",
      " 'Social_Science OR HISTORY TEACHER EDUCATION'\n",
      " 'COMMUNITY AND PUBLIC HEALTH' 'MATHEMATICS TEACHER EDUCATION'\n",
      " 'EDUCATIONAL ADMINISTRATION AND SUPERVISION']\n",
      "Clustered Median Income: 35000.0\n",
      "['COMMUNICATIONS' 'CRIMINAL JUSTICE AND FIRE PROTECTION'\n",
      " 'COMMERCIAL ART AND GRAPHIC DESIGN' 'JOURNALISM'\n",
      " 'MULTI-DISCIPLINARY OR GENERAL SCIENCE'\n",
      " 'ADVERTISING AND PUBLIC RELATIONS' 'AREA ETHNIC AND CIVILIZATION STUDIES'\n",
      " 'SPECIAL NEEDS EDUCATION' 'PHYSIOLOGY' 'CRIMINOLOGY' 'NUTRITION SCIENCES'\n",
      " 'HEALTH AND MEDICAL ADMINISTRATIVE SERVICES' 'COMMUNICATION TECHNOLOGIES'\n",
      " 'TRANSPORTATION SCIENCES AND TECHNOLOGIES' 'NATURAL RESOURCES MANAGEMENT'\n",
      " 'NEUROSCIENCE' 'MULTI/INTERDISCIPLINARY STUDIES'\n",
      " 'ATMOSPHERIC SCIENCES AND METEOROLOGY' 'FORESTRY' 'SOIL SCIENCE']\n",
      "Clustered Median Income: 35600.0\n",
      "['ENVIRONMENTAL SCIENCE']\n",
      "Clustered Median Income: 36000.0\n",
      "['HUMAN RESOURCES AND PERSONNEL MANAGEMENT' 'PRE-LAW AND LEGAL STUDIES'\n",
      " 'MISCELLANEOUS HEALTH MEDICAL PROFESSIONS' 'PUBLIC ADMINISTRATION'\n",
      " 'GEOSCIENCES' 'SOCIAL PSYCHOLOGY']\n",
      "Clustered Median Income: 36200.0\n",
      "['GEOLOGY AND EARTH SCIENCE']\n",
      "Clustered Median Income: 36400.0\n",
      "['COMPUTER NETWORKING AND TELECOMMUNICATIONS']\n",
      "Clustered Median Income: 37000.0\n",
      "['BOTANY']\n",
      "Clustered Median Income: 37400.0\n",
      "['BIOCHEMICAL SCIENCES']\n",
      "Clustered Median Income: 37500.0\n",
      "['COMPUTER ADMINISTRATION MANAGEMENT AND SECURITY']\n",
      "Clustered Median Income: 38000.0\n",
      "['BUSINESS MANAGEMENT AND ADMINISTRATION'\n",
      " 'MARKETING AND MARKETING RESEARCH' 'POLITICAL SCIENCE AND GOVERNMENT'\n",
      " 'GEOGRAPHY' 'MICROBIOLOGY']\n",
      "Clustered Median Income: 38400.0\n",
      "['ELECTRICAL, MECHANICAL, AND PRECISION TECHNOLOGIES AND PRODUCTION']\n",
      "Clustered Median Income: 39000.0\n",
      "['CHEMISTRY']\n",
      "Clustered Median Income: 40000.0\n",
      "['GENERAL BUSINESS' 'ARCHITECTURE' 'INTERNATIONAL BUSINESS'\n",
      " 'PHARMACY PHARMACEUTICAL SCIENCES AND ADMINISTRATION' 'MOLECULAR BIOLOGY'\n",
      " 'MISCELLANEOUS BUSINESS & MEDICAL ADMINISTRATION'\n",
      " 'AGRICULTURE PRODUCTION AND MANAGEMENT' 'GENERAL AGRICULTURE'\n",
      " 'MISCELLANEOUS ENGINEERING TECHNOLOGIES'\n",
      " 'MECHANICAL ENGINEERING RELATED TECHNOLOGIES' 'GENETICS'\n",
      " 'MISCELLANEOUS Social_ScienceS' 'UNITED STATES HISTORY'\n",
      " 'INDUSTRIAL AND ORGANIZATIONAL PSYCHOLOGY' 'AGRICULTURAL ECONOMICS'\n",
      " 'Physical_Sciences' 'MILITARY TECHNOLOGIES']\n",
      "Clustered Median Income: 40100.0\n",
      "['INTERNATIONAL RELATIONS']\n",
      "Clustered Median Income: 41000.0\n",
      "['COGNITIVE SCIENCE AND BIOPSYCHOLOGY' 'SCHOOL STUDENT COUNSELING']\n",
      "Clustered Median Income: 41300.0\n",
      "['COMPUTER PROGRAMMING AND DATA PROCESSING']\n",
      "Clustered Median Income: 42000.0\n",
      "['MEDICAL ASSISTING SERVICES' 'MATHEMATICS AND COMPUTER SCIENCE']\n",
      "Clustered Median Income: 44000.0\n",
      "['ENGINEERING AND INDUSTRIAL MANAGEMENT']\n",
      "Clustered Median Income: 44700.0\n",
      "['OCEANOGRAPHY']\n",
      "Clustered Median Income: 45000.0\n",
      "['ACCOUNTING' 'MATHEMATICS' 'COMPUTER AND INFORMATION SYSTEMS' 'PHYSICS'\n",
      " 'MEDICAL TECHNOLOGIES TECHNICIANS' 'INFORMATION SCIENCES'\n",
      " 'STATISTICS AND DECISION SCIENCE' 'APPLIED MATHEMATICS' 'PHARMACOLOGY']\n",
      "Clustered Median Income: 46000.0\n",
      "['BUSINESS ECONOMICS' 'INDUSTRIAL PRODUCTION TECHNOLOGIES'\n",
      " 'NUCLEAR, INDUSTRIAL RADIOLOGY, AND BIOLOGICAL TECHNOLOGIES']\n",
      "Clustered Median Income: 47000.0\n",
      "['FINANCE' 'ECONOMICS']\n",
      "Clustered Median Income: 48000.0\n",
      "['NURSING']\n",
      "Clustered Median Income: 50000.0\n",
      "['CIVIL ENGINEERING' 'CONSTRUCTION SERVICES'\n",
      " 'OPERATIONS LOGISTICS AND E-COMMERCE' 'MISCELLANEOUS ENGINEERING'\n",
      " 'PUBLIC POLICY' 'ENVIRONMENTAL ENGINEERING' 'ENGINEERING TECHNOLOGIES'\n",
      " 'MISCELLANEOUS FINE ARTS' 'GEOLOGICAL AND GEOPHYSICAL ENGINEERING']\n",
      "Clustered Median Income: 51000.0\n",
      "['MANAGEMENT INFORMATION SYSTEMS AND STATISTICS']\n",
      "Clustered Median Income: 52000.0\n",
      "['ELECTRICAL ENGINEERING TECHNOLOGY'\n",
      " 'MATERIALS ENGINEERING AND MATERIALS SCIENCE']\n",
      "Clustered Median Income: 53000.0\n",
      "['COMPUTER SCIENCE']\n",
      "Clustered Median Income: 54000.0\n",
      "['ARCHITECTURAL ENGINEERING' 'COURT REPORTING']\n",
      "Clustered Median Income: 56000.0\n",
      "['GENERAL ENGINEERING']\n",
      "Clustered Median Income: 57000.0\n",
      "['INDUSTRIAL AND MANUFACTURING ENGINEERING']\n",
      "Clustered Median Income: 57100.0\n",
      "['BIOLOGICAL ENGINEERING']\n",
      "Clustered Median Income: 58000.0\n",
      "['ENGINEERING MECHANICS PHYSICS AND SCIENCE']\n",
      "Clustered Median Income: 60000.0\n",
      "['MECHANICAL ENGINEERING' 'ELECTRICAL ENGINEERING' 'COMPUTER ENGINEERING'\n",
      " 'AEROSPACE ENGINEERING' 'BIOMEDICAL ENGINEERING' 'MATERIALS SCIENCE']\n",
      "Clustered Median Income: 62000.0\n",
      "['ACTUARIAL SCIENCE' 'ASTRONOMY AND ASTROPHYSICS']\n",
      "Clustered Median Income: 65000.0\n",
      "['CHEMICAL ENGINEERING' 'NUCLEAR ENGINEERING']\n",
      "Clustered Median Income: 70000.0\n",
      "['NAVAL ARCHITECTURE AND MARINE ENGINEERING']\n",
      "Clustered Median Income: 73000.0\n",
      "['METALLURGICAL ENGINEERING']\n",
      "Clustered Median Income: 75000.0\n",
      "['MINING AND MINERAL ENGINEERING']\n",
      "Clustered Median Income: 110000.0\n",
      "['PETROLEUM ENGINEERING']\n"
     ]
    }
   ],
   "source": [
    "k = len(cluster_median)\n",
    "\n",
    "for i in range(0,k):\n",
    "    major_group = KNN_df[KNN_df['KNN_pred']==cluster_median[i]]\n",
    "    print('Clustered Median Income:', major_group.KNN_pred.mean())\n",
    "    print(major_group.Major.unique())"
   ]
  },
  {
   "cell_type": "markdown",
   "metadata": {},
   "source": [
    "Above a clustered list of majors based on median income. Now, we can run the same KNN algorithm on unemployment rates."
   ]
  },
  {
   "cell_type": "code",
   "execution_count": 108,
   "metadata": {},
   "outputs": [],
   "source": [
    "KNN_df_2 = KNN_df.drop(['KNN_pred', 'Unemployment_rate'], axis=1)"
   ]
  },
  {
   "cell_type": "code",
   "execution_count": 109,
   "metadata": {},
   "outputs": [
    {
     "data": {
      "text/plain": [
       "Index(['Major', 'Total', 'Men', 'Women', 'ShareWomen', 'Sample_size',\n",
       "       'Employed', 'Full_time', 'Part_time', 'Full_time_year_round',\n",
       "       'Unemployed', 'Median', 'P25th', 'P75th', 'College_jobs',\n",
       "       'Non_college_jobs', 'Low_wage_jobs', 'PercentOfTotal', 'SharePT',\n",
       "       'Interact_PT_Women', 'Major_category_Agriculture_and_Natural_Resources',\n",
       "       'Major_category_Arts', 'Major_category_Biology_and_Life_Science',\n",
       "       'Major_category_Business',\n",
       "       'Major_category_Communications_and_Journalism',\n",
       "       'Major_category_Computer_and_Mathematics', 'Major_category_Education',\n",
       "       'Major_category_Engineering', 'Major_category_Health',\n",
       "       'Major_category_Humanities_and_Liberal_Arts',\n",
       "       'Major_category_Industrial_Arts_and_Consumer_Services',\n",
       "       'Major_category_Interdisciplinary', 'Major_category_Physical_Sciences',\n",
       "       'Major_category_Psychology_and_Social_Work',\n",
       "       'Major_category_Social_Science'],\n",
       "      dtype='object')"
      ]
     },
     "execution_count": 109,
     "metadata": {},
     "output_type": "execute_result"
    }
   ],
   "source": [
    "KNN_df_2.keys()"
   ]
  },
  {
   "cell_type": "code",
   "execution_count": 110,
   "metadata": {},
   "outputs": [],
   "source": [
    "Y_Unemp = df_recent[['Unemployment_rate']]"
   ]
  },
  {
   "cell_type": "code",
   "execution_count": 111,
   "metadata": {},
   "outputs": [],
   "source": [
    "Y_Unemp[['Unemployment_rate']] = Y_Unemp[['Unemployment_rate']]*100\n",
    "Y_Unemp[['Unemployment_rate']] = Y_Unemp[['Unemployment_rate']].round(0)"
   ]
  },
  {
   "cell_type": "code",
   "execution_count": 112,
   "metadata": {},
   "outputs": [
    {
     "data": {
      "text/html": [
       "<div>\n",
       "<style scoped>\n",
       "    .dataframe tbody tr th:only-of-type {\n",
       "        vertical-align: middle;\n",
       "    }\n",
       "\n",
       "    .dataframe tbody tr th {\n",
       "        vertical-align: top;\n",
       "    }\n",
       "\n",
       "    .dataframe thead th {\n",
       "        text-align: right;\n",
       "    }\n",
       "</style>\n",
       "<table border=\"1\" class=\"dataframe\">\n",
       "  <thead>\n",
       "    <tr style=\"text-align: right;\">\n",
       "      <th></th>\n",
       "      <th>Unemployment_rate</th>\n",
       "    </tr>\n",
       "  </thead>\n",
       "  <tbody>\n",
       "    <tr>\n",
       "      <th>0</th>\n",
       "      <td>2.0</td>\n",
       "    </tr>\n",
       "    <tr>\n",
       "      <th>1</th>\n",
       "      <td>12.0</td>\n",
       "    </tr>\n",
       "    <tr>\n",
       "      <th>2</th>\n",
       "      <td>2.0</td>\n",
       "    </tr>\n",
       "    <tr>\n",
       "      <th>3</th>\n",
       "      <td>5.0</td>\n",
       "    </tr>\n",
       "    <tr>\n",
       "      <th>4</th>\n",
       "      <td>6.0</td>\n",
       "    </tr>\n",
       "  </tbody>\n",
       "</table>\n",
       "</div>"
      ],
      "text/plain": [
       "   Unemployment_rate\n",
       "0                2.0\n",
       "1               12.0\n",
       "2                2.0\n",
       "3                5.0\n",
       "4                6.0"
      ]
     },
     "execution_count": 112,
     "metadata": {},
     "output_type": "execute_result"
    }
   ],
   "source": [
    "Y_Unemp.head()"
   ]
  },
  {
   "cell_type": "code",
   "execution_count": 113,
   "metadata": {},
   "outputs": [],
   "source": [
    "X_train, X_test, Y_train, Y_test = train_test_split(KNN_df_2.drop('Major', axis=1), Y_Unemp, test_size=0.3, random_state=21)"
   ]
  },
  {
   "cell_type": "code",
   "execution_count": 114,
   "metadata": {},
   "outputs": [],
   "source": [
    "# Setup arrays to store train and test accuracies\n",
    "neighbors = np.arange(1, 10)\n",
    "train_mse = np.empty(len(neighbors))\n",
    "test_mse = np.empty(len(neighbors))"
   ]
  },
  {
   "cell_type": "code",
   "execution_count": 115,
   "metadata": {},
   "outputs": [],
   "source": [
    "# Loop over different values of k\n",
    "for i, k in enumerate(neighbors):\n",
    "    # Setup a k-NN Classifier with k neighbors: knn\n",
    "    knn = KNeighborsClassifier(n_neighbors=k)\n",
    "\n",
    "    # Fit the classifier to the training data\n",
    "    knn = knn.fit(X_train, Y_train.values.ravel())\n",
    "    \n",
    "    #Compute accuracy on the training set\n",
    "    train_pred = knn.predict(X_train)\n",
    "    train_mse[i] = (((Y_train.values.ravel() - train_pred)**2)).mean()\n",
    "\n",
    "    #Compute accuracy on the testing set\n",
    "    test_pred = knn.predict(X_test)\n",
    "    test_mse[i] = (((Y_test.values.ravel() - test_pred)**2)).mean()"
   ]
  },
  {
   "cell_type": "code",
   "execution_count": 116,
   "metadata": {},
   "outputs": [
    {
     "data": {
      "text/plain": [
       "3.6663752797971583"
      ]
     },
     "execution_count": 116,
     "metadata": {},
     "output_type": "execute_result"
    }
   ],
   "source": [
    "math.sqrt(min(test_mse))"
   ]
  },
  {
   "cell_type": "code",
   "execution_count": 117,
   "metadata": {},
   "outputs": [
    {
     "data": {
      "text/plain": [
       "[23.21153846153846,\n",
       " 15.615384615384615,\n",
       " 13.442307692307692,\n",
       " 14.384615384615385,\n",
       " 17.0,\n",
       " 16.942307692307693,\n",
       " 19.0,\n",
       " 21.192307692307693,\n",
       " 20.384615384615383]"
      ]
     },
     "execution_count": 117,
     "metadata": {},
     "output_type": "execute_result"
    }
   ],
   "source": [
    "mse_list = test_mse.tolist()\n",
    "mse_list"
   ]
  },
  {
   "cell_type": "code",
   "execution_count": 118,
   "metadata": {},
   "outputs": [
    {
     "data": {
      "text/plain": [
       "2"
      ]
     },
     "execution_count": 118,
     "metadata": {},
     "output_type": "execute_result"
    }
   ],
   "source": [
    "min_index = mse_list.index(min(mse_list[1:]))\n",
    "min_index"
   ]
  },
  {
   "cell_type": "code",
   "execution_count": 119,
   "metadata": {},
   "outputs": [
    {
     "data": {
      "image/png": "[encoded data removed]",
      "text/plain": [
       "<Figure size 432x288 with 1 Axes>"
      ]
     },
     "metadata": {},
     "output_type": "display_data"
    }
   ],
   "source": [
    "# Generate plot\n",
    "plt.title('k-NN: Varying Number of Neighbors')\n",
    "plt.plot(neighbors, test_mse, label = 'Test MSE')\n",
    "plt.plot(neighbors, train_mse, label = 'Training MSE')\n",
    "plt.legend()\n",
    "plt.xlabel('Number of Neighbors')\n",
    "plt.ylabel('MSE')\n",
    "plt.show()"
   ]
  },
  {
   "cell_type": "code",
   "execution_count": 120,
   "metadata": {},
   "outputs": [
    {
     "data": {
      "text/plain": [
       "KNeighborsClassifier(algorithm='auto', leaf_size=30, metric='minkowski',\n",
       "                     metric_params=None, n_jobs=None, n_neighbors=3, p=2,\n",
       "                     weights='uniform')"
      ]
     },
     "execution_count": 120,
     "metadata": {},
     "output_type": "execute_result"
    }
   ],
   "source": [
    "# Create a k-NN classifier with 8 neighbors: knn\n",
    "knn_selected_unemp = KNeighborsClassifier(n_neighbors=min_index+1)\n",
    "\n",
    "# Fit the classifier to the training data\n",
    "knn_selected_unemp.fit(X_train, Y_train.values.ravel())"
   ]
  },
  {
   "cell_type": "code",
   "execution_count": 121,
   "metadata": {},
   "outputs": [],
   "source": [
    "knn_pred_unemp = knn_selected_unemp.predict(KNN_df_2.drop('Major', axis=1))"
   ]
  },
  {
   "cell_type": "code",
   "execution_count": 122,
   "metadata": {},
   "outputs": [
    {
     "data": {
      "text/plain": [
       "array([ 2.,  5.,  4.,  6.,  7.,  9., 10.,  8.,  0.,  3.])"
      ]
     },
     "execution_count": 122,
     "metadata": {},
     "output_type": "execute_result"
    }
   ],
   "source": [
    "knn_pred_unemp = pd.DataFrame(knn_pred_unemp)\n",
    "knn_pred_unemp.columns = ['Unemp_rate']\n",
    "knn_pred_unemp.Unemp_rate.unique()"
   ]
  },
  {
   "cell_type": "code",
   "execution_count": 123,
   "metadata": {},
   "outputs": [],
   "source": [
    "KNN_df_2['knn_pred_unemp'] = knn_pred_unemp"
   ]
  },
  {
   "cell_type": "code",
   "execution_count": 124,
   "metadata": {},
   "outputs": [
    {
     "data": {
      "text/plain": [
       "array([ 0.,  2.,  3.,  4.,  5.,  6.,  7.,  8.,  9., 10., nan])"
      ]
     },
     "execution_count": 124,
     "metadata": {},
     "output_type": "execute_result"
    }
   ],
   "source": [
    "cluster_unemp = KNN_df_2.knn_pred_unemp.unique()\n",
    "cluster_unemp = np.sort(cluster_unemp, axis=0)\n",
    "cluster_unemp"
   ]
  },
  {
   "cell_type": "code",
   "execution_count": 125,
   "metadata": {},
   "outputs": [
    {
     "data": {
      "text/plain": [
       "11"
      ]
     },
     "execution_count": 125,
     "metadata": {},
     "output_type": "execute_result"
    }
   ],
   "source": [
    "len(cluster_unemp)"
   ]
  },
  {
   "cell_type": "code",
   "execution_count": 126,
   "metadata": {},
   "outputs": [
    {
     "name": "stdout",
     "output_type": "stream",
     "text": [
      "['APPLIED MATHEMATICS' 'MEDICAL ASSISTING SERVICES'\n",
      " 'COGNITIVE SCIENCE AND BIOPSYCHOLOGY' 'Physical_Sciences' 'CHEMISTRY'\n",
      " 'BIOCHEMICAL SCIENCES' 'PUBLIC ADMINISTRATION' 'FORESTRY'\n",
      " 'MATHEMATICS TEACHER EDUCATION' 'COSMETOLOGY SERVICES AND CULINARY ARTS']\n"
     ]
    }
   ],
   "source": [
    "group_one = KNN_df_2[KNN_df_2['knn_pred_unemp']==cluster_unemp[0]]\n",
    "print(group_one.Major.unique())"
   ]
  },
  {
   "cell_type": "code",
   "execution_count": 127,
   "metadata": {},
   "outputs": [
    {
     "data": {
      "text/plain": [
       "0.0"
      ]
     },
     "execution_count": 127,
     "metadata": {},
     "output_type": "execute_result"
    }
   ],
   "source": [
    "group_one.knn_pred_unemp.mean()"
   ]
  },
  {
   "cell_type": "code",
   "execution_count": 128,
   "metadata": {},
   "outputs": [],
   "source": [
    "cluster_unemp = cluster_unemp.tolist()"
   ]
  },
  {
   "cell_type": "code",
   "execution_count": 129,
   "metadata": {},
   "outputs": [
    {
     "name": "stdout",
     "output_type": "stream",
     "text": [
      "Clustered Unemployment: [0.]\n",
      "['APPLIED MATHEMATICS' 'MEDICAL ASSISTING SERVICES'\n",
      " 'COGNITIVE SCIENCE AND BIOPSYCHOLOGY' 'Physical_Sciences' 'CHEMISTRY'\n",
      " 'BIOCHEMICAL SCIENCES' 'PUBLIC ADMINISTRATION' 'FORESTRY'\n",
      " 'MATHEMATICS TEACHER EDUCATION' 'COSMETOLOGY SERVICES AND CULINARY ARTS']\n",
      "Clustered Unemployment: [2.]\n",
      "['PETROLEUM ENGINEERING' 'ECONOMICS' 'MEDICAL TECHNOLOGIES TECHNICIANS'\n",
      " 'MISCELLANEOUS BUSINESS & MEDICAL ADMINISTRATION'\n",
      " 'AGRICULTURE PRODUCTION AND MANAGEMENT' 'GENERAL AGRICULTURE'\n",
      " 'MISCELLANEOUS ENGINEERING TECHNOLOGIES'\n",
      " 'MULTI/INTERDISCIPLINARY STUDIES' 'ATMOSPHERIC SCIENCES AND METEOROLOGY'\n",
      " 'COMMUNITY AND PUBLIC HEALTH' 'ECOLOGY' 'VISUAL AND PERFORMING ARTS']\n",
      "Clustered Unemployment: [3.]\n",
      "['PHARMACOLOGY' 'OCEANOGRAPHY'\n",
      " 'MECHANICAL ENGINEERING RELATED TECHNOLOGIES'\n",
      " 'MISCELLANEOUS Social_ScienceS' 'GEOSCIENCES']\n",
      "Clustered Unemployment: [4.]\n",
      "['CHEMICAL ENGINEERING' 'AEROSPACE ENGINEERING' 'BIOMEDICAL ENGINEERING'\n",
      " 'INDUSTRIAL AND MANUFACTURING ENGINEERING'\n",
      " 'MATERIALS ENGINEERING AND MATERIALS SCIENCE' 'CIVIL ENGINEERING'\n",
      " 'GEOLOGICAL AND GEOPHYSICAL ENGINEERING' 'PHYSICS'\n",
      " 'ENGINEERING AND INDUSTRIAL MANAGEMENT' 'INTERNATIONAL BUSINESS'\n",
      " 'GENETICS' 'UNITED STATES HISTORY'\n",
      " 'INDUSTRIAL AND ORGANIZATIONAL PSYCHOLOGY' 'AGRICULTURAL ECONOMICS'\n",
      " 'AREA ETHNIC AND CIVILIZATION STUDIES' 'MASS MEDIA'\n",
      " 'HOSPITALITY MANAGEMENT' 'PHILOSOPHY AND RELIGIOUS STUDIES'\n",
      " 'ANTHROPOLOGY AND ARCHEOLOGY'\n",
      " 'COMMUNICATION DISORDERS SCIENCES AND SERVICES']\n",
      "Clustered Unemployment: [5.]\n",
      "['MINING AND MINERAL ENGINEERING' 'METALLURGICAL ENGINEERING'\n",
      " 'NAVAL ARCHITECTURE AND MARINE ENGINEERING' 'NUCLEAR ENGINEERING'\n",
      " 'ACTUARIAL SCIENCE' 'ASTRONOMY AND ASTROPHYSICS' 'CONSTRUCTION SERVICES'\n",
      " 'PHARMACY PHARMACEUTICAL SCIENCES AND ADMINISTRATION'\n",
      " 'COMPUTER NETWORKING AND TELECOMMUNICATIONS'\n",
      " 'HUMAN RESOURCES AND PERSONNEL MANAGEMENT' 'NATURAL RESOURCES MANAGEMENT'\n",
      " 'NEUROSCIENCE' 'SOIL SCIENCE' 'INTERCULTURAL AND INTERNATIONAL STUDIES'\n",
      " 'EDUCATIONAL ADMINISTRATION AND SUPERVISION'\n",
      " 'HEALTH AND MEDICAL PREPARATORY PROGRAMS' 'BIOLOGY'\n",
      " 'LINGUISTICS AND COMPARATIVE LANGUAGE AND LITERATURE'\n",
      " 'MISCELLANEOUS EDUCATION' 'INTERDISCIPLINARY Social_ScienceS'\n",
      " 'ART AND MUSIC EDUCATION' 'ENGLISH LANGUAGE AND LITERATURE'\n",
      " 'ELEMENTARY EDUCATION' 'GENERAL Social_ScienceS'\n",
      " 'PLANT SCIENCE AND AGRONOMY' 'TEACHER EDUCATION: MULTIPLE LEVELS'\n",
      " 'MISCELLANEOUS PSYCHOLOGY' 'HUMAN SERVICES AND COMMUNITY ORGANIZATION'\n",
      " 'STUDIO ARTS' 'EARLY CHILDHOOD EDUCATION' 'COMPOSITION AND RHETORIC'\n",
      " 'CLINICAL PSYCHOLOGY' 'COUNSELING PSYCHOLOGY']\n",
      "Clustered Unemployment: [6.]\n",
      "['MECHANICAL ENGINEERING' 'ELECTRICAL ENGINEERING' 'MATERIALS SCIENCE'\n",
      " 'ENGINEERING MECHANICS PHYSICS AND SCIENCE' 'ARCHITECTURAL ENGINEERING'\n",
      " 'COURT REPORTING' 'ELECTRICAL ENGINEERING TECHNOLOGY'\n",
      " 'MISCELLANEOUS ENGINEERING' 'PUBLIC POLICY' 'ENVIRONMENTAL ENGINEERING'\n",
      " 'MISCELLANEOUS FINE ARTS' 'NURSING' 'BUSINESS ECONOMICS'\n",
      " 'NUCLEAR, INDUSTRIAL RADIOLOGY, AND BIOLOGICAL TECHNOLOGIES'\n",
      " 'MATHEMATICS AND COMPUTER SCIENCE'\n",
      " 'COMPUTER PROGRAMMING AND DATA PROCESSING' 'INTERNATIONAL RELATIONS'\n",
      " 'MILITARY TECHNOLOGIES' 'BUSINESS MANAGEMENT AND ADMINISTRATION'\n",
      " 'MARKETING AND MARKETING RESEARCH' 'MICROBIOLOGY'\n",
      " 'COMPUTER ADMINISTRATION MANAGEMENT AND SECURITY' 'BOTANY'\n",
      " 'MISCELLANEOUS HEALTH MEDICAL PROFESSIONS' 'SOCIAL PSYCHOLOGY'\n",
      " 'ENVIRONMENTAL SCIENCE' 'COMMERCIAL ART AND GRAPHIC DESIGN' 'JOURNALISM'\n",
      " 'MULTI-DISCIPLINARY OR GENERAL SCIENCE' 'NUTRITION SCIENCES' 'HISTORY'\n",
      " 'FRENCH GERMAN LATIN AND OTHER COMMON FOREIGN LANGUAGE STUDIES'\n",
      " 'SOCIOLOGY' 'TREATMENT THERAPY PROFESSIONS' 'SECONDARY TEACHER EDUCATION'\n",
      " 'GENERAL MEDICAL AND HEALTH SERVICES'\n",
      " 'PHYSICAL FITNESS PARKS RECREATION AND LEISURE'\n",
      " 'FILM VIDEO AND PHOTOGRAPHIC ARTS' 'PSYCHOLOGY' 'MUSIC'\n",
      " 'PHYSICAL AND HEALTH EDUCATION TEACHING' 'ART HISTORY AND CRITICISM'\n",
      " 'SOCIAL WORK' 'HUMANITIES' 'MISCELLANEOUS AGRICULTURE'\n",
      " 'OTHER FOREIGN LANGUAGES' 'ZOOLOGY' 'EDUCATIONAL PSYCHOLOGY']\n",
      "Clustered Unemployment: [7.]\n",
      "['COMPUTER ENGINEERING' 'GENERAL ENGINEERING'\n",
      " 'MANAGEMENT INFORMATION SYSTEMS AND STATISTICS'\n",
      " 'OPERATIONS LOGISTICS AND E-COMMERCE'\n",
      " 'INDUSTRIAL PRODUCTION TECHNOLOGIES' 'ACCOUNTING' 'MOLECULAR BIOLOGY'\n",
      " 'ELECTRICAL, MECHANICAL, AND PRECISION TECHNOLOGIES AND PRODUCTION'\n",
      " 'POLITICAL SCIENCE AND GOVERNMENT' 'GEOGRAPHY'\n",
      " 'PRE-LAW AND LEGAL STUDIES' 'CRIMINAL JUSTICE AND FIRE PROTECTION'\n",
      " 'SPECIAL NEEDS EDUCATION' 'HEALTH AND MEDICAL ADMINISTRATIVE SERVICES'\n",
      " 'COMMUNICATION TECHNOLOGIES' 'TRANSPORTATION SCIENCES AND TECHNOLOGIES'\n",
      " 'Social_Science OR HISTORY TEACHER EDUCATION' 'MISCELLANEOUS BIOLOGY'\n",
      " 'FINE ARTS' 'FAMILY AND CONSUMER SCIENCES']\n",
      "Clustered Unemployment: [8.]\n",
      "['MATHEMATICS' 'COMPUTER AND INFORMATION SYSTEMS' 'GENERAL BUSINESS'\n",
      " 'ADVERTISING AND PUBLIC RELATIONS' 'PHYSIOLOGY' 'CRIMINOLOGY'\n",
      " 'LIBERAL ARTS' 'SCIENCE AND COMPUTER TEACHER EDUCATION'\n",
      " 'THEOLOGY AND RELIGIOUS VOCATIONS' 'DRAMA AND THEATER ARTS']\n",
      "Clustered Unemployment: [9.]\n",
      "['BIOLOGICAL ENGINEERING' 'ENGINEERING TECHNOLOGIES'\n",
      " 'INFORMATION SCIENCES' 'STATISTICS AND DECISION SCIENCE']\n",
      "Clustered Unemployment: [10.]\n",
      "['COMPUTER SCIENCE' 'FINANCE' 'SCHOOL STUDENT COUNSELING' 'ARCHITECTURE'\n",
      " 'GEOLOGY AND EARTH SCIENCE' 'COMMUNICATIONS' 'GENERAL EDUCATION'\n",
      " 'LANGUAGE AND DRAMA EDUCATION' 'ANIMAL SCIENCES']\n",
      "Clustered Unemployment: []\n",
      "[]\n"
     ]
    }
   ],
   "source": [
    "k = len(cluster_unemp)\n",
    "\n",
    "for i in range(0,k):\n",
    "    major_group = KNN_df_2[KNN_df_2['knn_pred_unemp']==cluster_unemp[i]]\n",
    "    print('Clustered Unemployment:', major_group.knn_pred_unemp.unique())\n",
    "    print(major_group.Major.unique())"
   ]
  },
  {
   "cell_type": "markdown",
   "metadata": {},
   "source": [
    "Note that these clusters are in ascending order from lowest predicted unemployment to highest. However, the error is clearly higher here than in the income model."
   ]
  },
  {
   "cell_type": "markdown",
   "metadata": {},
   "source": [
    "# Hierarchical Clustering"
   ]
  },
  {
   "cell_type": "code",
   "execution_count": 138,
   "metadata": {},
   "outputs": [],
   "source": [
    "import scipy.cluster.hierarchy as shc\n",
    "from sklearn.cluster import AgglomerativeClustering"
   ]
  },
  {
   "cell_type": "code",
   "execution_count": 139,
   "metadata": {},
   "outputs": [
    {
     "data": {
      "text/plain": [
       "Index(['Median', 'Unemployment_rate', 'P25th', 'P75th', 'SharePT'], dtype='object')"
      ]
     },
     "execution_count": 139,
     "metadata": {},
     "output_type": "execute_result"
    }
   ],
   "source": [
    "hc_df = df_recent[['Median', 'Unemployment_rate', 'P25th', 'P75th', 'SharePT']]\n",
    "hc_df.columns"
   ]
  },
  {
   "cell_type": "markdown",
   "metadata": {},
   "source": [
    "The following dendrogram includes only median income on the y-axis and unemployment rate on the x-axis. The subsequent clusters will include the 5 inputs used in the KMeans clustering model: `Median`, `Unemployment_rate`, `P25th`, `P75th`, and `SharePT`."
   ]
  },
  {
   "cell_type": "code",
   "execution_count": 140,
   "metadata": {},
   "outputs": [
    {
     "data": {
      "image/png": "[encoded data removed]",
      "text/plain": [
       "<Figure size 720x504 with 1 Axes>"
      ]
     },
     "metadata": {},
     "output_type": "display_data"
    }
   ],
   "source": [
    "plt.figure(figsize=(10, 7))\n",
    "plt.title(\"Major Dendograms\")\n",
    "dend = shc.dendrogram(shc.linkage(hc_df.iloc[:,0:1], method='ward'))"
   ]
  },
  {
   "cell_type": "code",
   "execution_count": 141,
   "metadata": {},
   "outputs": [
    {
     "data": {
      "text/plain": [
       "array([0, 0, 0, 0, 0, 0, 0, 0, 0, 0, 0, 0, 0, 0, 0, 0, 0, 0, 0, 0, 0, 0,\n",
       "       0, 0, 0, 0, 0, 0, 0, 0, 0, 0, 0, 0, 0, 0, 0, 0, 1, 0, 0, 0, 0, 1,\n",
       "       0, 0, 0, 1, 1, 1, 0, 0, 1, 1, 1, 1, 1, 1, 1, 0, 1, 1, 1, 1, 1, 1,\n",
       "       1, 1, 1, 1, 1, 1, 1, 1, 1, 1, 1, 1, 1, 1, 1, 1, 1, 1, 1, 1, 1, 1,\n",
       "       1, 1, 1, 1, 1, 1, 1, 1, 1, 1, 1, 1, 1, 1, 1, 1, 1, 1, 1, 1, 1, 1,\n",
       "       1, 1, 1, 1, 1, 1, 1, 1, 1, 1, 1, 1, 1, 1, 1, 1, 1, 1, 1, 1, 1, 1,\n",
       "       1, 1, 1, 1, 1, 1, 1, 1, 1, 1, 1, 1, 1, 1, 1, 1, 1, 1, 1, 1, 1, 1,\n",
       "       1, 1, 1, 1, 1, 1, 1, 1, 1, 1, 1, 1, 1, 1, 1, 1, 1, 1], dtype=int64)"
      ]
     },
     "execution_count": 141,
     "metadata": {},
     "output_type": "execute_result"
    }
   ],
   "source": [
    "cluster = AgglomerativeClustering(affinity='euclidean', linkage='ward')\n",
    "cluster_pred = cluster.fit_predict(hc_df.values)\n",
    "cluster_pred"
   ]
  },
  {
   "cell_type": "code",
   "execution_count": 142,
   "metadata": {},
   "outputs": [],
   "source": [
    "hc_df['HC_Cluster'] = pd.DataFrame(cluster_pred)"
   ]
  },
  {
   "cell_type": "code",
   "execution_count": 143,
   "metadata": {},
   "outputs": [],
   "source": [
    "hc_df.dropna(inplace=True)"
   ]
  },
  {
   "cell_type": "code",
   "execution_count": 146,
   "metadata": {},
   "outputs": [],
   "source": [
    "hc_merge = pd.merge(hc_df, df_recent, on=['Median', 'Unemployment_rate', 'P25th', 'P75th', 'SharePT'], how='outer')"
   ]
  },
  {
   "cell_type": "code",
   "execution_count": 147,
   "metadata": {},
   "outputs": [
    {
     "data": {
      "text/plain": [
       "Index(['Median', 'Unemployment_rate', 'P25th', 'P75th', 'SharePT',\n",
       "       'HC_Cluster', 'Rank', 'Major_code', 'Major', 'Total', 'Men', 'Women',\n",
       "       'Major_category', 'ShareWomen', 'Sample_size', 'Employed', 'Full_time',\n",
       "       'Part_time', 'Full_time_year_round', 'Unemployed', 'College_jobs',\n",
       "       'Non_college_jobs', 'Low_wage_jobs', 'PercentOfTotal',\n",
       "       'Interact_PT_Women', 'Major_category_Agriculture_and_Natural_Resources',\n",
       "       'Major_category_Arts', 'Major_category_Biology_and_Life_Science',\n",
       "       'Major_category_Business',\n",
       "       'Major_category_Communications_and_Journalism',\n",
       "       'Major_category_Computer_and_Mathematics', 'Major_category_Education',\n",
       "       'Major_category_Engineering', 'Major_category_Health',\n",
       "       'Major_category_Humanities_and_Liberal_Arts',\n",
       "       'Major_category_Industrial_Arts_and_Consumer_Services',\n",
       "       'Major_category_Interdisciplinary', 'Major_category_Physical_Sciences',\n",
       "       'Major_category_Psychology_and_Social_Work',\n",
       "       'Major_category_Social_Science'],\n",
       "      dtype='object')"
      ]
     },
     "execution_count": 147,
     "metadata": {},
     "output_type": "execute_result"
    }
   ],
   "source": [
    "hc_all = pd.concat([hc_merge, Recent_DataX.iloc[:,9:]], axis=1)\n",
    "hc_all.columns"
   ]
  },
  {
   "cell_type": "code",
   "execution_count": 148,
   "metadata": {},
   "outputs": [],
   "source": [
    "hc_all.dropna(inplace=True)"
   ]
  },
  {
   "cell_type": "code",
   "execution_count": 149,
   "metadata": {},
   "outputs": [
    {
     "data": {
      "text/plain": [
       "array(['PETROLEUM ENGINEERING', 'MINING AND MINERAL ENGINEERING',\n",
       "       'METALLURGICAL ENGINEERING',\n",
       "       'NAVAL ARCHITECTURE AND MARINE ENGINEERING',\n",
       "       'CHEMICAL ENGINEERING', 'NUCLEAR ENGINEERING', 'ACTUARIAL SCIENCE',\n",
       "       'ASTRONOMY AND ASTROPHYSICS', 'MECHANICAL ENGINEERING',\n",
       "       'ELECTRICAL ENGINEERING', 'COMPUTER ENGINEERING',\n",
       "       'AEROSPACE ENGINEERING', 'BIOMEDICAL ENGINEERING',\n",
       "       'MATERIALS SCIENCE', 'ENGINEERING MECHANICS PHYSICS AND SCIENCE',\n",
       "       'BIOLOGICAL ENGINEERING',\n",
       "       'INDUSTRIAL AND MANUFACTURING ENGINEERING', 'GENERAL ENGINEERING',\n",
       "       'ARCHITECTURAL ENGINEERING', 'COURT REPORTING', 'COMPUTER SCIENCE',\n",
       "       'MATERIALS ENGINEERING AND MATERIALS SCIENCE',\n",
       "       'MANAGEMENT INFORMATION SYSTEMS AND STATISTICS',\n",
       "       'CIVIL ENGINEERING', 'CONSTRUCTION SERVICES',\n",
       "       'OPERATIONS LOGISTICS AND E-COMMERCE', 'MISCELLANEOUS ENGINEERING',\n",
       "       'PUBLIC POLICY', 'ENVIRONMENTAL ENGINEERING',\n",
       "       'ENGINEERING TECHNOLOGIES', 'MISCELLANEOUS FINE ARTS',\n",
       "       'GEOLOGICAL AND GEOPHYSICAL ENGINEERING', 'NURSING', 'FINANCE',\n",
       "       'ECONOMICS', 'BUSINESS ECONOMICS',\n",
       "       'NUCLEAR, INDUSTRIAL RADIOLOGY, AND BIOLOGICAL TECHNOLOGIES',\n",
       "       'ACCOUNTING', 'MATHEMATICS', 'COMPUTER AND INFORMATION SYSTEMS',\n",
       "       'MEDICAL TECHNOLOGIES TECHNICIANS', 'INFORMATION SCIENCES',\n",
       "       'STATISTICS AND DECISION SCIENCE',\n",
       "       'ENGINEERING AND INDUSTRIAL MANAGEMENT',\n",
       "       'MEDICAL ASSISTING SERVICES', 'INTERNATIONAL BUSINESS'],\n",
       "      dtype=object)"
      ]
     },
     "execution_count": 149,
     "metadata": {},
     "output_type": "execute_result"
    }
   ],
   "source": [
    "hc_cluster_majors = hc_all[hc_all['HC_Cluster']==0]\n",
    "hc_cluster_majors.Major.unique()"
   ]
  },
  {
   "cell_type": "markdown",
   "metadata": {},
   "source": [
    "## Analysis\n",
    "\n",
    "Hierarchical Clustering automatically sorted generated only two clusters of majors, based on the 5 input variables of median income, 25th/75th income percentiles, unemployment rate, and share of workers that are part-time.\n",
    "\n",
    "The cluster with better economic outcomes, *Cluster 0*, is almost 60% Engineering majors and >60% men. Not a single humanities major fits in the *Cluster 1*, the cluster with weaker outcomes."
   ]
  },
  {
   "cell_type": "code",
   "execution_count": 150,
   "metadata": {},
   "outputs": [
    {
     "data": {
      "text/html": [
       "<div>\n",
       "<style scoped>\n",
       "    .dataframe tbody tr th:only-of-type {\n",
       "        vertical-align: middle;\n",
       "    }\n",
       "\n",
       "    .dataframe tbody tr th {\n",
       "        vertical-align: top;\n",
       "    }\n",
       "\n",
       "    .dataframe thead th {\n",
       "        text-align: right;\n",
       "    }\n",
       "</style>\n",
       "<table border=\"1\" class=\"dataframe\">\n",
       "  <thead>\n",
       "    <tr style=\"text-align: right;\">\n",
       "      <th></th>\n",
       "      <th>Median</th>\n",
       "      <th>Unemployment_rate</th>\n",
       "      <th>SharePT</th>\n",
       "      <th>ShareWomen</th>\n",
       "      <th>Major_category_Engineering</th>\n",
       "      <th>Major_category_Humanities_and_Liberal_Arts</th>\n",
       "    </tr>\n",
       "    <tr>\n",
       "      <th>HC_Cluster</th>\n",
       "      <th></th>\n",
       "      <th></th>\n",
       "      <th></th>\n",
       "      <th></th>\n",
       "      <th></th>\n",
       "      <th></th>\n",
       "    </tr>\n",
       "  </thead>\n",
       "  <tbody>\n",
       "    <tr>\n",
       "      <th>0.0</th>\n",
       "      <td>54654.347826</td>\n",
       "      <td>0.064782</td>\n",
       "      <td>0.179745</td>\n",
       "      <td>0.343415</td>\n",
       "      <td>0.586957</td>\n",
       "      <td>0.000000</td>\n",
       "    </tr>\n",
       "    <tr>\n",
       "      <th>1.0</th>\n",
       "      <td>34718.548387</td>\n",
       "      <td>0.068771</td>\n",
       "      <td>0.239620</td>\n",
       "      <td>0.587538</td>\n",
       "      <td>0.016129</td>\n",
       "      <td>0.120968</td>\n",
       "    </tr>\n",
       "  </tbody>\n",
       "</table>\n",
       "</div>"
      ],
      "text/plain": [
       "                  Median  Unemployment_rate   SharePT  ShareWomen  \\\n",
       "HC_Cluster                                                          \n",
       "0.0         54654.347826           0.064782  0.179745    0.343415   \n",
       "1.0         34718.548387           0.068771  0.239620    0.587538   \n",
       "\n",
       "            Major_category_Engineering  \\\n",
       "HC_Cluster                               \n",
       "0.0                           0.586957   \n",
       "1.0                           0.016129   \n",
       "\n",
       "            Major_category_Humanities_and_Liberal_Arts  \n",
       "HC_Cluster                                              \n",
       "0.0                                           0.000000  \n",
       "1.0                                           0.120968  "
      ]
     },
     "execution_count": 150,
     "metadata": {},
     "output_type": "execute_result"
    }
   ],
   "source": [
    "hc_all[['HC_Cluster', 'Median', 'Unemployment_rate', 'SharePT', 'ShareWomen', \n",
    "        'Major_category_Engineering', 'Major_category_Humanities_and_Liberal_Arts']].groupby(['HC_Cluster']).mean()"
   ]
  },
  {
   "cell_type": "code",
   "execution_count": 151,
   "metadata": {},
   "outputs": [
    {
     "data": {
      "text/html": [
       "<div>\n",
       "<style scoped>\n",
       "    .dataframe tbody tr th:only-of-type {\n",
       "        vertical-align: middle;\n",
       "    }\n",
       "\n",
       "    .dataframe tbody tr th {\n",
       "        vertical-align: top;\n",
       "    }\n",
       "\n",
       "    .dataframe thead th {\n",
       "        text-align: right;\n",
       "    }\n",
       "</style>\n",
       "<table border=\"1\" class=\"dataframe\">\n",
       "  <thead>\n",
       "    <tr style=\"text-align: right;\">\n",
       "      <th></th>\n",
       "      <th>HC_Cluster</th>\n",
       "      <th>Major</th>\n",
       "      <th>Total</th>\n",
       "    </tr>\n",
       "  </thead>\n",
       "  <tbody>\n",
       "    <tr>\n",
       "      <th>144</th>\n",
       "      <td>1.0</td>\n",
       "      <td>PSYCHOLOGY</td>\n",
       "      <td>393735.0</td>\n",
       "    </tr>\n",
       "    <tr>\n",
       "      <th>75</th>\n",
       "      <td>1.0</td>\n",
       "      <td>BUSINESS MANAGEMENT AND ADMINISTRATION</td>\n",
       "      <td>329927.0</td>\n",
       "    </tr>\n",
       "    <tr>\n",
       "      <th>122</th>\n",
       "      <td>1.0</td>\n",
       "      <td>BIOLOGY</td>\n",
       "      <td>280709.0</td>\n",
       "    </tr>\n",
       "    <tr>\n",
       "      <th>56</th>\n",
       "      <td>1.0</td>\n",
       "      <td>GENERAL BUSINESS</td>\n",
       "      <td>234590.0</td>\n",
       "    </tr>\n",
       "    <tr>\n",
       "      <th>92</th>\n",
       "      <td>1.0</td>\n",
       "      <td>COMMUNICATIONS</td>\n",
       "      <td>213996.0</td>\n",
       "    </tr>\n",
       "    <tr>\n",
       "      <th>33</th>\n",
       "      <td>0.0</td>\n",
       "      <td>NURSING</td>\n",
       "      <td>209394.0</td>\n",
       "    </tr>\n",
       "    <tr>\n",
       "      <th>76</th>\n",
       "      <td>1.0</td>\n",
       "      <td>MARKETING AND MARKETING RESEARCH</td>\n",
       "      <td>205211.0</td>\n",
       "    </tr>\n",
       "    <tr>\n",
       "      <th>39</th>\n",
       "      <td>0.0</td>\n",
       "      <td>ACCOUNTING</td>\n",
       "      <td>198633.0</td>\n",
       "    </tr>\n",
       "    <tr>\n",
       "      <th>136</th>\n",
       "      <td>1.0</td>\n",
       "      <td>ENGLISH LANGUAGE AND LITERATURE</td>\n",
       "      <td>194673.0</td>\n",
       "    </tr>\n",
       "    <tr>\n",
       "      <th>77</th>\n",
       "      <td>1.0</td>\n",
       "      <td>POLITICAL SCIENCE AND GOVERNMENT</td>\n",
       "      <td>182621.0</td>\n",
       "    </tr>\n",
       "    <tr>\n",
       "      <th>34</th>\n",
       "      <td>0.0</td>\n",
       "      <td>FINANCE</td>\n",
       "      <td>174506.0</td>\n",
       "    </tr>\n",
       "    <tr>\n",
       "      <th>137</th>\n",
       "      <td>1.0</td>\n",
       "      <td>ELEMENTARY EDUCATION</td>\n",
       "      <td>170862.0</td>\n",
       "    </tr>\n",
       "    <tr>\n",
       "      <th>93</th>\n",
       "      <td>1.0</td>\n",
       "      <td>CRIMINAL JUSTICE AND FIRE PROTECTION</td>\n",
       "      <td>152824.0</td>\n",
       "    </tr>\n",
       "    <tr>\n",
       "      <th>112</th>\n",
       "      <td>1.0</td>\n",
       "      <td>GENERAL EDUCATION</td>\n",
       "      <td>143718.0</td>\n",
       "    </tr>\n",
       "    <tr>\n",
       "      <th>113</th>\n",
       "      <td>1.0</td>\n",
       "      <td>HISTORY</td>\n",
       "      <td>141951.0</td>\n",
       "    </tr>\n",
       "    <tr>\n",
       "      <th>35</th>\n",
       "      <td>0.0</td>\n",
       "      <td>ECONOMICS</td>\n",
       "      <td>139247.0</td>\n",
       "    </tr>\n",
       "    <tr>\n",
       "      <th>20</th>\n",
       "      <td>0.0</td>\n",
       "      <td>COMPUTER SCIENCE</td>\n",
       "      <td>128319.0</td>\n",
       "    </tr>\n",
       "    <tr>\n",
       "      <th>138</th>\n",
       "      <td>1.0</td>\n",
       "      <td>PHYSICAL FITNESS PARKS RECREATION AND LEISURE</td>\n",
       "      <td>125074.0</td>\n",
       "    </tr>\n",
       "    <tr>\n",
       "      <th>123</th>\n",
       "      <td>1.0</td>\n",
       "      <td>SOCIOLOGY</td>\n",
       "      <td>115433.0</td>\n",
       "    </tr>\n",
       "    <tr>\n",
       "      <th>94</th>\n",
       "      <td>1.0</td>\n",
       "      <td>COMMERCIAL ART AND GRAPHIC DESIGN</td>\n",
       "      <td>103480.0</td>\n",
       "    </tr>\n",
       "  </tbody>\n",
       "</table>\n",
       "</div>"
      ],
      "text/plain": [
       "     HC_Cluster                                          Major     Total\n",
       "144         1.0                                     PSYCHOLOGY  393735.0\n",
       "75          1.0         BUSINESS MANAGEMENT AND ADMINISTRATION  329927.0\n",
       "122         1.0                                        BIOLOGY  280709.0\n",
       "56          1.0                               GENERAL BUSINESS  234590.0\n",
       "92          1.0                                 COMMUNICATIONS  213996.0\n",
       "33          0.0                                        NURSING  209394.0\n",
       "76          1.0               MARKETING AND MARKETING RESEARCH  205211.0\n",
       "39          0.0                                     ACCOUNTING  198633.0\n",
       "136         1.0                ENGLISH LANGUAGE AND LITERATURE  194673.0\n",
       "77          1.0               POLITICAL SCIENCE AND GOVERNMENT  182621.0\n",
       "34          0.0                                        FINANCE  174506.0\n",
       "137         1.0                           ELEMENTARY EDUCATION  170862.0\n",
       "93          1.0           CRIMINAL JUSTICE AND FIRE PROTECTION  152824.0\n",
       "112         1.0                              GENERAL EDUCATION  143718.0\n",
       "113         1.0                                        HISTORY  141951.0\n",
       "35          0.0                                      ECONOMICS  139247.0\n",
       "20          0.0                               COMPUTER SCIENCE  128319.0\n",
       "138         1.0  PHYSICAL FITNESS PARKS RECREATION AND LEISURE  125074.0\n",
       "123         1.0                                      SOCIOLOGY  115433.0\n",
       "94          1.0              COMMERCIAL ART AND GRAPHIC DESIGN  103480.0"
      ]
     },
     "execution_count": 151,
     "metadata": {},
     "output_type": "execute_result"
    }
   ],
   "source": [
    "hc_all[['HC_Cluster', 'Major', 'Total']].sort_values(by=['Total'], ascending=False).iloc[:20,:]"
   ]
  },
  {
   "cell_type": "markdown",
   "metadata": {},
   "source": [
    "In the above list, you can see that only 5 of the top 20 majors among recent grads fits into the positive outcome cluster. By order of popularity, these majors are Nursing, Accounting, Finance, Economics, and Computer Science."
   ]
  },
  {
   "cell_type": "markdown",
   "metadata": {},
   "source": [
    "## Visualization With Principal Component Analysis"
   ]
  },
  {
   "cell_type": "code",
   "execution_count": 152,
   "metadata": {},
   "outputs": [],
   "source": [
    "from sklearn.decomposition import PCA"
   ]
  },
  {
   "cell_type": "code",
   "execution_count": 153,
   "metadata": {},
   "outputs": [],
   "source": [
    "pca_hc = PCA(n_components=2)\n",
    "principalComponents_hc = pca_hc.fit_transform(hc_df)"
   ]
  },
  {
   "cell_type": "code",
   "execution_count": 154,
   "metadata": {},
   "outputs": [],
   "source": [
    "principal_hc_df = pd.DataFrame(data = principalComponents_hc, \n",
    "                               columns = ['principal component 1', 'principal component 2'])"
   ]
  },
  {
   "cell_type": "code",
   "execution_count": 155,
   "metadata": {},
   "outputs": [
    {
     "name": "stdout",
     "output_type": "stream",
     "text": [
      "Explained variation per principal component: [0.90629197 0.07988432]\n"
     ]
    }
   ],
   "source": [
    "print('Explained variation per principal component: {}'.format(pca_hc.explained_variance_ratio_))"
   ]
  },
  {
   "cell_type": "code",
   "execution_count": 156,
   "metadata": {},
   "outputs": [],
   "source": [
    "principal_hc_df.dropna(inplace=True)\n",
    "principal_hc_df['HC_Cluster'] = hc_all['HC_Cluster'].astype(int)"
   ]
  },
  {
   "cell_type": "code",
   "execution_count": 157,
   "metadata": {},
   "outputs": [
    {
     "data": {
      "text/html": [
       "<div>\n",
       "<style scoped>\n",
       "    .dataframe tbody tr th:only-of-type {\n",
       "        vertical-align: middle;\n",
       "    }\n",
       "\n",
       "    .dataframe tbody tr th {\n",
       "        vertical-align: top;\n",
       "    }\n",
       "\n",
       "    .dataframe thead th {\n",
       "        text-align: right;\n",
       "    }\n",
       "</style>\n",
       "<table border=\"1\" class=\"dataframe\">\n",
       "  <thead>\n",
       "    <tr style=\"text-align: right;\">\n",
       "      <th></th>\n",
       "      <th>principal component 1</th>\n",
       "      <th>principal component 2</th>\n",
       "      <th>HC_Cluster</th>\n",
       "    </tr>\n",
       "  </thead>\n",
       "  <tbody>\n",
       "    <tr>\n",
       "      <th>0</th>\n",
       "      <td>118718.325536</td>\n",
       "      <td>-21115.561668</td>\n",
       "      <td>0.0</td>\n",
       "    </tr>\n",
       "    <tr>\n",
       "      <th>1</th>\n",
       "      <td>57603.687339</td>\n",
       "      <td>-4154.408596</td>\n",
       "      <td>0.0</td>\n",
       "    </tr>\n",
       "    <tr>\n",
       "      <th>2</th>\n",
       "      <td>65267.579038</td>\n",
       "      <td>9432.305240</td>\n",
       "      <td>0.0</td>\n",
       "    </tr>\n",
       "    <tr>\n",
       "      <th>3</th>\n",
       "      <td>42722.926431</td>\n",
       "      <td>-277.639894</td>\n",
       "      <td>0.0</td>\n",
       "    </tr>\n",
       "    <tr>\n",
       "      <th>4</th>\n",
       "      <td>39141.266194</td>\n",
       "      <td>-7124.260643</td>\n",
       "      <td>0.0</td>\n",
       "    </tr>\n",
       "  </tbody>\n",
       "</table>\n",
       "</div>"
      ],
      "text/plain": [
       "   principal component 1  principal component 2  HC_Cluster\n",
       "0          118718.325536          -21115.561668         0.0\n",
       "1           57603.687339           -4154.408596         0.0\n",
       "2           65267.579038            9432.305240         0.0\n",
       "3           42722.926431            -277.639894         0.0\n",
       "4           39141.266194           -7124.260643         0.0"
      ]
     },
     "execution_count": 157,
     "metadata": {},
     "output_type": "execute_result"
    }
   ],
   "source": [
    "principal_hc_df.head()"
   ]
  },
  {
   "cell_type": "code",
   "execution_count": 158,
   "metadata": {},
   "outputs": [
    {
     "data": {
      "text/html": [
       "<div>\n",
       "<style scoped>\n",
       "    .dataframe tbody tr th:only-of-type {\n",
       "        vertical-align: middle;\n",
       "    }\n",
       "\n",
       "    .dataframe tbody tr th {\n",
       "        vertical-align: top;\n",
       "    }\n",
       "\n",
       "    .dataframe thead th {\n",
       "        text-align: right;\n",
       "    }\n",
       "</style>\n",
       "<table border=\"1\" class=\"dataframe\">\n",
       "  <thead>\n",
       "    <tr style=\"text-align: right;\">\n",
       "      <th></th>\n",
       "      <th>principal component 1</th>\n",
       "      <th>principal component 2</th>\n",
       "      <th>HC_Cluster</th>\n",
       "    </tr>\n",
       "  </thead>\n",
       "  <tbody>\n",
       "    <tr>\n",
       "      <th>principal component 1</th>\n",
       "      <td>1.000000e+00</td>\n",
       "      <td>-7.384724e-17</td>\n",
       "      <td>-0.750580</td>\n",
       "    </tr>\n",
       "    <tr>\n",
       "      <th>principal component 2</th>\n",
       "      <td>-7.384724e-17</td>\n",
       "      <td>1.000000e+00</td>\n",
       "      <td>0.104356</td>\n",
       "    </tr>\n",
       "    <tr>\n",
       "      <th>HC_Cluster</th>\n",
       "      <td>-7.505805e-01</td>\n",
       "      <td>1.043560e-01</td>\n",
       "      <td>1.000000</td>\n",
       "    </tr>\n",
       "  </tbody>\n",
       "</table>\n",
       "</div>"
      ],
      "text/plain": [
       "                       principal component 1  principal component 2  \\\n",
       "principal component 1           1.000000e+00          -7.384724e-17   \n",
       "principal component 2          -7.384724e-17           1.000000e+00   \n",
       "HC_Cluster                     -7.505805e-01           1.043560e-01   \n",
       "\n",
       "                       HC_Cluster  \n",
       "principal component 1   -0.750580  \n",
       "principal component 2    0.104356  \n",
       "HC_Cluster               1.000000  "
      ]
     },
     "execution_count": 158,
     "metadata": {},
     "output_type": "execute_result"
    }
   ],
   "source": [
    "principal_hc_df.corr()"
   ]
  },
  {
   "cell_type": "code",
   "execution_count": 159,
   "metadata": {},
   "outputs": [
    {
     "data": {
      "text/plain": [
       "Text(0.5, 1.0, 'Principal Component Analysis of College Major Clusters (Hierarchical Method)')"
      ]
     },
     "execution_count": 159,
     "metadata": {},
     "output_type": "execute_result"
    },
    {
     "data": {
      "image/png": "[encoded data removed]",
      "text/plain": [
       "<Figure size 432x288 with 1 Axes>"
      ]
     },
     "metadata": {},
     "output_type": "display_data"
    }
   ],
   "source": [
    "hc_biplot = sns.scatterplot(x=\"principal component 1\", y=\"principal component 2\", hue=\"HC_Cluster\",\n",
    "              data=principal_hc_df, palette=['r','g'], legend='full')\n",
    "\n",
    "plt.title('Principal Component Analysis of College Major Clusters (Hierarchical Method)', fontsize=12)"
   ]
  },
  {
   "cell_type": "markdown",
   "metadata": {},
   "source": [
    "# Conclusion"
   ]
  },
  {
   "cell_type": "markdown",
   "metadata": {},
   "source": [
    "The k-means algorithm was most successful at building recognizable groups of majors based on economic outcomes. In the four clusters that were created, there was a clear sense of sorting between higher-income and lower-income majors, with employment levels playing a role as well. `ShareWomen` was closely linked to the results of these clusters, even though it was not actually inputted into to the algorithm. Overall, it seems clear that engineering majors, alongside some business and health majors, are the elite majors, at least when it comes to economic outcomes. "
   ]
  },
  {
   "cell_type": "markdown",
   "metadata": {},
   "source": [
    "Hierarchical clustering was also successful in building recognizable clusters (using the same inputs as the k-means method), but created only two clusters. Still, these clusters make good sense, in contrast to KNN, which is suitable for classification, but not clustering."
   ]
  },
  {
   "cell_type": "markdown",
   "metadata": {},
   "source": [
    "The regression analyses we performed in the first half of this notebook showed that `ShareWomen` was extremely significant in predicting median income, but not unemployment, variables that are otherwise linked. This implies that the common claim that women are not picking lucrative enough majors cannot be the main story when it comes to the gender pay gap."
   ]
  }
 ],
 "metadata": {
  "kernelspec": {
   "display_name": "Python 3",
   "language": "python",
   "name": "python3"
  },
  "language_info": {
   "codemirror_mode": {
    "name": "ipython",
    "version": 3
   },
   "file_extension": ".py",
   "mimetype": "text/x-python",
   "name": "python",
   "nbconvert_exporter": "python",
   "pygments_lexer": "ipython3",
   "version": "3.7.3"
  }
 },
 "nbformat": 4,
 "nbformat_minor": 2
}
